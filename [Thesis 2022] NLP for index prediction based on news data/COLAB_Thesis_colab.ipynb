{
  "nbformat": 4,
  "nbformat_minor": 0,
  "metadata": {
    "colab": {
      "name": "Thesis_colab.ipynb",
      "provenance": [],
      "collapsed_sections": [],
      "toc_visible": true
    },
    "kernelspec": {
      "display_name": "Python 3",
      "language": "python",
      "name": "python3"
    },
    "language_info": {
      "codemirror_mode": {
        "name": "ipython",
        "version": 3
      },
      "file_extension": ".py",
      "mimetype": "text/x-python",
      "name": "python",
      "nbconvert_exporter": "python",
      "pygments_lexer": "ipython3",
      "version": "3.7.4"
    }
  },
  "cells": [
    {
      "cell_type": "code",
      "metadata": {
        "id": "B4xor6xO_88v"
      },
      "source": [
        "import numpy as np\n",
        "import pandas as pd\n",
        "import matplotlib.pyplot as plt"
      ],
      "execution_count": null,
      "outputs": []
    },
    {
      "cell_type": "markdown",
      "metadata": {
        "id": "OQxB81fC7HEQ"
      },
      "source": [
        "## ГИПЕРПАРАМЕТРЫ"
      ]
    },
    {
      "cell_type": "code",
      "metadata": {
        "id": "Z6Xl--th7GeC"
      },
      "source": [
        "N_ARTICLES = 10 # 1\n",
        "TFIDF_MIN_DF = 3\n",
        "TFIDF_MAX_FEATURES = 15000 # 5000"
      ],
      "execution_count": null,
      "outputs": []
    },
    {
      "cell_type": "markdown",
      "metadata": {
        "id": "iakANKXu_88w"
      },
      "source": [
        "## ИНДЕКС "
      ]
    },
    {
      "cell_type": "code",
      "metadata": {
        "colab": {
          "base_uri": "https://localhost:8080/"
        },
        "id": "qv30NT9lB99k",
        "outputId": "6b63554c-c3a4-408f-98c3-eb3cdc762cea"
      },
      "source": [
        "from google.colab import drive\n",
        "drive.mount(\"/content/drive\")"
      ],
      "execution_count": null,
      "outputs": [
        {
          "output_type": "stream",
          "name": "stdout",
          "text": [
            "Drive already mounted at /content/drive; to attempt to forcibly remount, call drive.mount(\"/content/drive\", force_remount=True).\n"
          ]
        }
      ]
    },
    {
      "cell_type": "code",
      "metadata": {
        "id": "mxhrqwIE_88w"
      },
      "source": [
        "# nasdaq = pd.read_csv('^IXIC.csv')\n",
        "# sp500 = pd.read_csv('sp500_mktwtch.csv')\n",
        "\n",
        "# sp500 = pd.read_csv('^spx_d.csv')\n",
        "sp500 = pd.read_csv('/content/drive/My Drive/thesis/^spx_d-2008.csv')"
      ],
      "execution_count": null,
      "outputs": []
    },
    {
      "cell_type": "code",
      "metadata": {
        "colab": {
          "base_uri": "https://localhost:8080/"
        },
        "id": "nNVCa0rV_88x",
        "outputId": "9b53d5bf-4d54-4b8c-93f3-19aed26ef1b5"
      },
      "source": [
        "# добавим дату в формате даты \n",
        "sp500['dt'] = sp500['Date'].astype('datetime64[ns]')\n",
        "sp500 = sp500.drop(columns='Date')\n",
        "print(min(sp500['dt']), max(sp500['dt']))"
      ],
      "execution_count": null,
      "outputs": [
        {
          "output_type": "stream",
          "name": "stdout",
          "text": [
            "2008-10-02 00:00:00 2020-02-13 00:00:00\n"
          ]
        }
      ]
    },
    {
      "cell_type": "code",
      "metadata": {
        "id": "f9lGU1Vted5z"
      },
      "source": [
        "# остортируем по дате и пронумеруем строки \n",
        "sp500 = sp500.sort_values(by='dt')\n",
        "idx = np.arange(len(sp500))\n",
        "sp500['idx'] = idx "
      ],
      "execution_count": null,
      "outputs": []
    },
    {
      "cell_type": "code",
      "metadata": {
        "colab": {
          "base_uri": "https://localhost:8080/",
          "height": 238
        },
        "id": "qTs0zJ83kPIK",
        "outputId": "e4f2b3e1-17ab-485e-b009-8208dd48e179"
      },
      "source": [
        "print(len(sp500), len(sp500['dt'].unique()))\n",
        "sp500.head()"
      ],
      "execution_count": null,
      "outputs": [
        {
          "output_type": "stream",
          "name": "stdout",
          "text": [
            "2861 2861\n"
          ]
        },
        {
          "output_type": "execute_result",
          "data": {
            "text/html": [
              "\n",
              "  <div id=\"df-df1e520e-bd2e-4b9a-ada9-0c8096ebab5f\">\n",
              "    <div class=\"colab-df-container\">\n",
              "      <div>\n",
              "<style scoped>\n",
              "    .dataframe tbody tr th:only-of-type {\n",
              "        vertical-align: middle;\n",
              "    }\n",
              "\n",
              "    .dataframe tbody tr th {\n",
              "        vertical-align: top;\n",
              "    }\n",
              "\n",
              "    .dataframe thead th {\n",
              "        text-align: right;\n",
              "    }\n",
              "</style>\n",
              "<table border=\"1\" class=\"dataframe\">\n",
              "  <thead>\n",
              "    <tr style=\"text-align: right;\">\n",
              "      <th></th>\n",
              "      <th>Open</th>\n",
              "      <th>High</th>\n",
              "      <th>Low</th>\n",
              "      <th>Close</th>\n",
              "      <th>Volume</th>\n",
              "      <th>dt</th>\n",
              "      <th>idx</th>\n",
              "    </tr>\n",
              "  </thead>\n",
              "  <tbody>\n",
              "    <tr>\n",
              "      <th>0</th>\n",
              "      <td>1161.06</td>\n",
              "      <td>1161.06</td>\n",
              "      <td>1111.43</td>\n",
              "      <td>1114.28</td>\n",
              "      <td>3492022222</td>\n",
              "      <td>2008-10-02</td>\n",
              "      <td>0</td>\n",
              "    </tr>\n",
              "    <tr>\n",
              "      <th>1</th>\n",
              "      <td>1114.28</td>\n",
              "      <td>1153.82</td>\n",
              "      <td>1098.14</td>\n",
              "      <td>1099.23</td>\n",
              "      <td>3731177778</td>\n",
              "      <td>2008-10-03</td>\n",
              "      <td>1</td>\n",
              "    </tr>\n",
              "    <tr>\n",
              "      <th>2</th>\n",
              "      <td>1099.23</td>\n",
              "      <td>1099.23</td>\n",
              "      <td>1007.97</td>\n",
              "      <td>1056.89</td>\n",
              "      <td>4420011111</td>\n",
              "      <td>2008-10-06</td>\n",
              "      <td>2</td>\n",
              "    </tr>\n",
              "    <tr>\n",
              "      <th>3</th>\n",
              "      <td>1056.89</td>\n",
              "      <td>1072.91</td>\n",
              "      <td>996.23</td>\n",
              "      <td>996.23</td>\n",
              "      <td>3927338889</td>\n",
              "      <td>2008-10-07</td>\n",
              "      <td>3</td>\n",
              "    </tr>\n",
              "    <tr>\n",
              "      <th>4</th>\n",
              "      <td>996.23</td>\n",
              "      <td>1021.06</td>\n",
              "      <td>970.97</td>\n",
              "      <td>984.94</td>\n",
              "      <td>4842405556</td>\n",
              "      <td>2008-10-08</td>\n",
              "      <td>4</td>\n",
              "    </tr>\n",
              "  </tbody>\n",
              "</table>\n",
              "</div>\n",
              "      <button class=\"colab-df-convert\" onclick=\"convertToInteractive('df-df1e520e-bd2e-4b9a-ada9-0c8096ebab5f')\"\n",
              "              title=\"Convert this dataframe to an interactive table.\"\n",
              "              style=\"display:none;\">\n",
              "        \n",
              "  <svg xmlns=\"http://www.w3.org/2000/svg\" height=\"24px\"viewBox=\"0 0 24 24\"\n",
              "       width=\"24px\">\n",
              "    <path d=\"M0 0h24v24H0V0z\" fill=\"none\"/>\n",
              "    <path d=\"M18.56 5.44l.94 2.06.94-2.06 2.06-.94-2.06-.94-.94-2.06-.94 2.06-2.06.94zm-11 1L8.5 8.5l.94-2.06 2.06-.94-2.06-.94L8.5 2.5l-.94 2.06-2.06.94zm10 10l.94 2.06.94-2.06 2.06-.94-2.06-.94-.94-2.06-.94 2.06-2.06.94z\"/><path d=\"M17.41 7.96l-1.37-1.37c-.4-.4-.92-.59-1.43-.59-.52 0-1.04.2-1.43.59L10.3 9.45l-7.72 7.72c-.78.78-.78 2.05 0 2.83L4 21.41c.39.39.9.59 1.41.59.51 0 1.02-.2 1.41-.59l7.78-7.78 2.81-2.81c.8-.78.8-2.07 0-2.86zM5.41 20L4 18.59l7.72-7.72 1.47 1.35L5.41 20z\"/>\n",
              "  </svg>\n",
              "      </button>\n",
              "      \n",
              "  <style>\n",
              "    .colab-df-container {\n",
              "      display:flex;\n",
              "      flex-wrap:wrap;\n",
              "      gap: 12px;\n",
              "    }\n",
              "\n",
              "    .colab-df-convert {\n",
              "      background-color: #E8F0FE;\n",
              "      border: none;\n",
              "      border-radius: 50%;\n",
              "      cursor: pointer;\n",
              "      display: none;\n",
              "      fill: #1967D2;\n",
              "      height: 32px;\n",
              "      padding: 0 0 0 0;\n",
              "      width: 32px;\n",
              "    }\n",
              "\n",
              "    .colab-df-convert:hover {\n",
              "      background-color: #E2EBFA;\n",
              "      box-shadow: 0px 1px 2px rgba(60, 64, 67, 0.3), 0px 1px 3px 1px rgba(60, 64, 67, 0.15);\n",
              "      fill: #174EA6;\n",
              "    }\n",
              "\n",
              "    [theme=dark] .colab-df-convert {\n",
              "      background-color: #3B4455;\n",
              "      fill: #D2E3FC;\n",
              "    }\n",
              "\n",
              "    [theme=dark] .colab-df-convert:hover {\n",
              "      background-color: #434B5C;\n",
              "      box-shadow: 0px 1px 3px 1px rgba(0, 0, 0, 0.15);\n",
              "      filter: drop-shadow(0px 1px 2px rgba(0, 0, 0, 0.3));\n",
              "      fill: #FFFFFF;\n",
              "    }\n",
              "  </style>\n",
              "\n",
              "      <script>\n",
              "        const buttonEl =\n",
              "          document.querySelector('#df-df1e520e-bd2e-4b9a-ada9-0c8096ebab5f button.colab-df-convert');\n",
              "        buttonEl.style.display =\n",
              "          google.colab.kernel.accessAllowed ? 'block' : 'none';\n",
              "\n",
              "        async function convertToInteractive(key) {\n",
              "          const element = document.querySelector('#df-df1e520e-bd2e-4b9a-ada9-0c8096ebab5f');\n",
              "          const dataTable =\n",
              "            await google.colab.kernel.invokeFunction('convertToInteractive',\n",
              "                                                     [key], {});\n",
              "          if (!dataTable) return;\n",
              "\n",
              "          const docLinkHtml = 'Like what you see? Visit the ' +\n",
              "            '<a target=\"_blank\" href=https://colab.research.google.com/notebooks/data_table.ipynb>data table notebook</a>'\n",
              "            + ' to learn more about interactive tables.';\n",
              "          element.innerHTML = '';\n",
              "          dataTable['output_type'] = 'display_data';\n",
              "          await google.colab.output.renderOutput(dataTable, element);\n",
              "          const docLink = document.createElement('div');\n",
              "          docLink.innerHTML = docLinkHtml;\n",
              "          element.appendChild(docLink);\n",
              "        }\n",
              "      </script>\n",
              "    </div>\n",
              "  </div>\n",
              "  "
            ],
            "text/plain": [
              "      Open     High      Low    Close      Volume         dt  idx\n",
              "0  1161.06  1161.06  1111.43  1114.28  3492022222 2008-10-02    0\n",
              "1  1114.28  1153.82  1098.14  1099.23  3731177778 2008-10-03    1\n",
              "2  1099.23  1099.23  1007.97  1056.89  4420011111 2008-10-06    2\n",
              "3  1056.89  1072.91   996.23   996.23  3927338889 2008-10-07    3\n",
              "4   996.23  1021.06   970.97   984.94  4842405556 2008-10-08    4"
            ]
          },
          "metadata": {},
          "execution_count": 7
        }
      ]
    },
    {
      "cell_type": "code",
      "metadata": {
        "id": "zAN4k63__88y"
      },
      "source": [
        "# таргет \n",
        "# строго больше, если равно, считаем, что из-за комиссии в убытке. \n",
        "# В остальном, комиссией пренебрегаем\n",
        "target_sp = np.where(sp500['Close'] > sp500['Open'], 1, 0) \n",
        "sp500['target'] = target_sp"
      ],
      "execution_count": null,
      "outputs": []
    },
    {
      "cell_type": "code",
      "metadata": {
        "id": "8u42v_tdkqiE"
      },
      "source": [
        "# немного эквилибристики. соберем датасет дата-данные_за_прошлый_день \n",
        "prev_day_stat = sp500\n",
        "prev_day_stat['prev_idx'] = prev_day_stat['idx'] + 1 \n",
        "prev_day_stat = prev_day_stat.drop(columns='idx')\n",
        "prev_day_stat['idx'] = prev_day_stat['prev_idx']\n",
        "prev_day_stat = prev_day_stat.drop(columns='prev_idx')\n",
        "\n",
        "prev_day_stat['chng_prev'] = prev_day_stat['Close'] - prev_day_stat['Open']\n",
        "prev_day_stat['candle_h_prev'] = prev_day_stat['High'] - prev_day_stat['Low']\n",
        "\n",
        "sp500_enrich = sp500.set_index('idx').join(prev_day_stat[['idx', 'chng_prev', 'candle_h_prev', \n",
        "                                               'Close', 'Volume']].set_index('idx'), \n",
        "                                           rsuffix='_prev', how='inner').reset_index()"
      ],
      "execution_count": null,
      "outputs": []
    },
    {
      "cell_type": "code",
      "metadata": {
        "colab": {
          "base_uri": "https://localhost:8080/",
          "height": 238
        },
        "id": "Ol1rHHSclWY1",
        "outputId": "e81d3dd7-0683-4840-a1d3-7f5fdb056fd9"
      },
      "source": [
        "sp500_df = sp500_enrich[['dt', 'chng_prev', 'candle_h_prev', \n",
        "                         'Close_prev', 'Volume_prev', 'target']] \n",
        "print(sp500_df.shape)\n",
        "sp500_df.head()"
      ],
      "execution_count": null,
      "outputs": [
        {
          "output_type": "stream",
          "name": "stdout",
          "text": [
            "(2860, 6)\n"
          ]
        },
        {
          "output_type": "execute_result",
          "data": {
            "text/html": [
              "\n",
              "  <div id=\"df-634819ad-69d9-42ab-b1e2-a784c3f2a78b\">\n",
              "    <div class=\"colab-df-container\">\n",
              "      <div>\n",
              "<style scoped>\n",
              "    .dataframe tbody tr th:only-of-type {\n",
              "        vertical-align: middle;\n",
              "    }\n",
              "\n",
              "    .dataframe tbody tr th {\n",
              "        vertical-align: top;\n",
              "    }\n",
              "\n",
              "    .dataframe thead th {\n",
              "        text-align: right;\n",
              "    }\n",
              "</style>\n",
              "<table border=\"1\" class=\"dataframe\">\n",
              "  <thead>\n",
              "    <tr style=\"text-align: right;\">\n",
              "      <th></th>\n",
              "      <th>dt</th>\n",
              "      <th>chng_prev</th>\n",
              "      <th>candle_h_prev</th>\n",
              "      <th>Close_prev</th>\n",
              "      <th>Volume_prev</th>\n",
              "      <th>target</th>\n",
              "    </tr>\n",
              "  </thead>\n",
              "  <tbody>\n",
              "    <tr>\n",
              "      <th>0</th>\n",
              "      <td>2008-10-03</td>\n",
              "      <td>-46.78</td>\n",
              "      <td>49.63</td>\n",
              "      <td>1114.28</td>\n",
              "      <td>3492022222</td>\n",
              "      <td>0</td>\n",
              "    </tr>\n",
              "    <tr>\n",
              "      <th>1</th>\n",
              "      <td>2008-10-06</td>\n",
              "      <td>-15.05</td>\n",
              "      <td>55.68</td>\n",
              "      <td>1099.23</td>\n",
              "      <td>3731177778</td>\n",
              "      <td>0</td>\n",
              "    </tr>\n",
              "    <tr>\n",
              "      <th>2</th>\n",
              "      <td>2008-10-07</td>\n",
              "      <td>-42.34</td>\n",
              "      <td>91.26</td>\n",
              "      <td>1056.89</td>\n",
              "      <td>4420011111</td>\n",
              "      <td>0</td>\n",
              "    </tr>\n",
              "    <tr>\n",
              "      <th>3</th>\n",
              "      <td>2008-10-08</td>\n",
              "      <td>-60.66</td>\n",
              "      <td>76.68</td>\n",
              "      <td>996.23</td>\n",
              "      <td>3927338889</td>\n",
              "      <td>0</td>\n",
              "    </tr>\n",
              "    <tr>\n",
              "      <th>4</th>\n",
              "      <td>2008-10-09</td>\n",
              "      <td>-11.29</td>\n",
              "      <td>50.09</td>\n",
              "      <td>984.94</td>\n",
              "      <td>4842405556</td>\n",
              "      <td>0</td>\n",
              "    </tr>\n",
              "  </tbody>\n",
              "</table>\n",
              "</div>\n",
              "      <button class=\"colab-df-convert\" onclick=\"convertToInteractive('df-634819ad-69d9-42ab-b1e2-a784c3f2a78b')\"\n",
              "              title=\"Convert this dataframe to an interactive table.\"\n",
              "              style=\"display:none;\">\n",
              "        \n",
              "  <svg xmlns=\"http://www.w3.org/2000/svg\" height=\"24px\"viewBox=\"0 0 24 24\"\n",
              "       width=\"24px\">\n",
              "    <path d=\"M0 0h24v24H0V0z\" fill=\"none\"/>\n",
              "    <path d=\"M18.56 5.44l.94 2.06.94-2.06 2.06-.94-2.06-.94-.94-2.06-.94 2.06-2.06.94zm-11 1L8.5 8.5l.94-2.06 2.06-.94-2.06-.94L8.5 2.5l-.94 2.06-2.06.94zm10 10l.94 2.06.94-2.06 2.06-.94-2.06-.94-.94-2.06-.94 2.06-2.06.94z\"/><path d=\"M17.41 7.96l-1.37-1.37c-.4-.4-.92-.59-1.43-.59-.52 0-1.04.2-1.43.59L10.3 9.45l-7.72 7.72c-.78.78-.78 2.05 0 2.83L4 21.41c.39.39.9.59 1.41.59.51 0 1.02-.2 1.41-.59l7.78-7.78 2.81-2.81c.8-.78.8-2.07 0-2.86zM5.41 20L4 18.59l7.72-7.72 1.47 1.35L5.41 20z\"/>\n",
              "  </svg>\n",
              "      </button>\n",
              "      \n",
              "  <style>\n",
              "    .colab-df-container {\n",
              "      display:flex;\n",
              "      flex-wrap:wrap;\n",
              "      gap: 12px;\n",
              "    }\n",
              "\n",
              "    .colab-df-convert {\n",
              "      background-color: #E8F0FE;\n",
              "      border: none;\n",
              "      border-radius: 50%;\n",
              "      cursor: pointer;\n",
              "      display: none;\n",
              "      fill: #1967D2;\n",
              "      height: 32px;\n",
              "      padding: 0 0 0 0;\n",
              "      width: 32px;\n",
              "    }\n",
              "\n",
              "    .colab-df-convert:hover {\n",
              "      background-color: #E2EBFA;\n",
              "      box-shadow: 0px 1px 2px rgba(60, 64, 67, 0.3), 0px 1px 3px 1px rgba(60, 64, 67, 0.15);\n",
              "      fill: #174EA6;\n",
              "    }\n",
              "\n",
              "    [theme=dark] .colab-df-convert {\n",
              "      background-color: #3B4455;\n",
              "      fill: #D2E3FC;\n",
              "    }\n",
              "\n",
              "    [theme=dark] .colab-df-convert:hover {\n",
              "      background-color: #434B5C;\n",
              "      box-shadow: 0px 1px 3px 1px rgba(0, 0, 0, 0.15);\n",
              "      filter: drop-shadow(0px 1px 2px rgba(0, 0, 0, 0.3));\n",
              "      fill: #FFFFFF;\n",
              "    }\n",
              "  </style>\n",
              "\n",
              "      <script>\n",
              "        const buttonEl =\n",
              "          document.querySelector('#df-634819ad-69d9-42ab-b1e2-a784c3f2a78b button.colab-df-convert');\n",
              "        buttonEl.style.display =\n",
              "          google.colab.kernel.accessAllowed ? 'block' : 'none';\n",
              "\n",
              "        async function convertToInteractive(key) {\n",
              "          const element = document.querySelector('#df-634819ad-69d9-42ab-b1e2-a784c3f2a78b');\n",
              "          const dataTable =\n",
              "            await google.colab.kernel.invokeFunction('convertToInteractive',\n",
              "                                                     [key], {});\n",
              "          if (!dataTable) return;\n",
              "\n",
              "          const docLinkHtml = 'Like what you see? Visit the ' +\n",
              "            '<a target=\"_blank\" href=https://colab.research.google.com/notebooks/data_table.ipynb>data table notebook</a>'\n",
              "            + ' to learn more about interactive tables.';\n",
              "          element.innerHTML = '';\n",
              "          dataTable['output_type'] = 'display_data';\n",
              "          await google.colab.output.renderOutput(dataTable, element);\n",
              "          const docLink = document.createElement('div');\n",
              "          docLink.innerHTML = docLinkHtml;\n",
              "          element.appendChild(docLink);\n",
              "        }\n",
              "      </script>\n",
              "    </div>\n",
              "  </div>\n",
              "  "
            ],
            "text/plain": [
              "          dt  chng_prev  candle_h_prev  Close_prev  Volume_prev  target\n",
              "0 2008-10-03     -46.78          49.63     1114.28   3492022222       0\n",
              "1 2008-10-06     -15.05          55.68     1099.23   3731177778       0\n",
              "2 2008-10-07     -42.34          91.26     1056.89   4420011111       0\n",
              "3 2008-10-08     -60.66          76.68      996.23   3927338889       0\n",
              "4 2008-10-09     -11.29          50.09      984.94   4842405556       0"
            ]
          },
          "metadata": {},
          "execution_count": 10
        }
      ]
    },
    {
      "cell_type": "code",
      "metadata": {
        "colab": {
          "base_uri": "https://localhost:8080/",
          "height": 425
        },
        "id": "iU7q8aezum6r",
        "outputId": "249564fb-6013-4c4b-d726-9e1d9030d167"
      },
      "source": [
        "fig, ax = plt.subplots()\n",
        "ax.plot(sp500['dt'], sp500['Close'])\n",
        "\n",
        "fig.set_figwidth(12) \n",
        "fig.set_figheight(6)\n",
        "ax.set_title('Изменение S&P 500  в датасете')\n",
        "ax.set_xlabel('Дата') \n",
        "\n",
        "plt.show()"
      ],
      "execution_count": null,
      "outputs": [
        {
          "output_type": "display_data",
          "data": {
            "image/png": "[encoded data removed]",
            "text/plain": [
              "<Figure size 864x432 with 1 Axes>"
            ]
          },
          "metadata": {
            "needs_background": "light"
          }
        }
      ]
    },
    {
      "cell_type": "code",
      "metadata": {
        "colab": {
          "base_uri": "https://localhost:8080/",
          "height": 425
        },
        "id": "qH-cTy3gdLk4",
        "outputId": "2e1a4e98-05e5-4f27-ec16-fbfd1cd59500"
      },
      "source": [
        "fig, ax = plt.subplots()\n",
        "# ax.hist(sp500_df['target'], bins=3)\n",
        "ax.bar([0, 1],  list(sp500_df[['dt', 'target']].groupby(by='target').count()['dt']))\n",
        "\n",
        "fig.set_figwidth(12) \n",
        "fig.set_figheight(6)\n",
        "ax.set_title('Количество дней с ростом и падением индекса')\n",
        "ax.set_xlabel('Таргет') \n",
        "ax.set_xticks([0, 1])\n",
        "\n",
        "plt.show()"
      ],
      "execution_count": null,
      "outputs": [
        {
          "output_type": "display_data",
          "data": {
            "image/png": "[encoded data removed]",
            "text/plain": [
              "<Figure size 864x432 with 1 Axes>"
            ]
          },
          "metadata": {
            "needs_background": "light"
          }
        }
      ]
    },
    {
      "cell_type": "code",
      "metadata": {
        "colab": {
          "base_uri": "https://localhost:8080/",
          "height": 425
        },
        "id": "Bgw2rWQzdvhp",
        "outputId": "33cb5335-e041-4ca8-d7b9-904b3a1df603"
      },
      "source": [
        "fig, ax = plt.subplots()\n",
        "ax.hist(sp500_df['chng_prev'], bins=50)\n",
        "\n",
        "fig.set_figwidth(12) \n",
        "fig.set_figheight(6)\n",
        "ax.set_title('S&P 500 absolute change')\n",
        "ax.set_xlabel('target change, daily') \n",
        "ax.set_ylabel('# of days') \n",
        "\n",
        "plt.show()"
      ],
      "execution_count": null,
      "outputs": [
        {
          "output_type": "display_data",
          "data": {
            "image/png": "[encoded data removed]",
            "text/plain": [
              "<Figure size 864x432 with 1 Axes>"
            ]
          },
          "metadata": {
            "needs_background": "light"
          }
        }
      ]
    },
    {
      "cell_type": "code",
      "metadata": {
        "colab": {
          "base_uri": "https://localhost:8080/",
          "height": 426
        },
        "id": "TFhboCPxU0Uj",
        "outputId": "48e78fca-c650-4618-be9e-f1f2a251c577"
      },
      "source": [
        "fig, ax = plt.subplots()\n",
        "plotter_my = sp500_df[['dt', 'candle_h_prev']][sp500_df['dt'] >= '2011-01-01']\n",
        "plotter_my['my'] = plotter_my['dt'].dt.month.astype(str) + '-' + plotter_my['dt'].dt.year.astype(str)\n",
        "aaaa = plotter_my[['my', 'candle_h_prev']].groupby('my').mean()\n",
        "plotter_my = plotter_my.set_index('my').join(aaaa, rsuffix='_mean').reset_index()\n",
        "plotter_my = plotter_my[['my', 'candle_h_prev']].drop_duplicates()\n",
        "\n",
        "ax.bar(plotter_my['my'], plotter_my['candle_h_prev'])\n",
        "\n",
        "fig.set_figwidth(20) \n",
        "fig.set_figheight(8)\n",
        "ax.set_title('Candle size. Monthly average')\n",
        "ax.set_xlabel('Date') \n",
        "ax.set_ylabel('Средний помесячный размер свечи') \n",
        "\n",
        "plt.xticks(rotation=90)\n",
        "plt.show()"
      ],
      "execution_count": null,
      "outputs": [
        {
          "output_type": "display_data",
          "data": {
            "image/png": "[encoded data removed]",
            "text/plain": [
              "<Figure size 1440x576 with 1 Axes>"
            ]
          },
          "metadata": {
            "needs_background": "light"
          }
        }
      ]
    },
    {
      "cell_type": "code",
      "metadata": {
        "colab": {
          "base_uri": "https://localhost:8080/",
          "height": 427
        },
        "id": "OiN6Cik3XS2L",
        "outputId": "8acc5691-3064-42e5-9d94-57ccc6a1fc1b"
      },
      "source": [
        "fig, ax = plt.subplots()\n",
        "# ax.hist(sp500_df['Volume_prev'], bins=50)\n",
        "plotter_my = sp500_df[['dt', 'Volume_prev']][sp500_df['dt'] >= '2011-01-01']\n",
        "plotter_my['my'] = plotter_my['dt'].dt.month.astype(str) + '-' + plotter_my['dt'].dt.year.astype(str)\n",
        "aaaa = plotter_my[['my', 'Volume_prev']].groupby('my').mean()\n",
        "plotter_my = plotter_my.set_index('my').join(aaaa, rsuffix='_mean').reset_index()\n",
        "plotter_my = plotter_my[['my', 'Volume_prev_mean']].drop_duplicates()\n",
        "\n",
        "ax.bar(plotter_my['my'], plotter_my['Volume_prev_mean'])\n",
        "\n",
        "fig.set_figwidth(20) \n",
        "fig.set_figheight(8)\n",
        "ax.set_title('Trading volumes, S&P 500. Monthly average')\n",
        "ax.set_xlabel('month-year') \n",
        "ax.set_ylabel('Monthly average trading volume (bln.)') \n",
        "\n",
        "plt.xticks(rotation=90)\n",
        "plt.show()"
      ],
      "execution_count": null,
      "outputs": [
        {
          "output_type": "display_data",
          "data": {
            "image/png": "[encoded data removed]",
            "text/plain": [
              "<Figure size 1440x576 with 1 Axes>"
            ]
          },
          "metadata": {
            "needs_background": "light"
          }
        }
      ]
    },
    {
      "cell_type": "markdown",
      "metadata": {
        "id": "DRTXq66o_88z"
      },
      "source": [
        "## ДАТАСЕТ НОВОСТЕЙ  "
      ]
    },
    {
      "cell_type": "code",
      "metadata": {
        "id": "kLzOUeQ-_88z"
      },
      "source": [
        "# reut = pd.read_csv('reuters_headlines.csv') \n",
        "\n",
        "reut = pd.read_csv('/content/drive/My Drive/thesis/us_equities_news_dataset.csv')\n",
        "reut['Time'] = reut['release_date']\n",
        "reut['Headlines'] = reut['title']\n",
        "reut['Description'] = reut['content']\n",
        "reut = reut[['Time', 'Headlines', 'Description']].dropna()"
      ],
      "execution_count": null,
      "outputs": []
    },
    {
      "cell_type": "code",
      "metadata": {
        "colab": {
          "base_uri": "https://localhost:8080/",
          "height": 304
        },
        "id": "QV4coVy7_88z",
        "outputId": "cb22f06c-93c6-46fe-ba46-901427538744"
      },
      "source": [
        "print(reut.shape)\n",
        "print(reut.isna().sum())\n",
        "reut.head() "
      ],
      "execution_count": null,
      "outputs": [
        {
          "output_type": "stream",
          "name": "stdout",
          "text": [
            "(221505, 3)\n",
            "Time           0\n",
            "Headlines      0\n",
            "Description    0\n",
            "dtype: int64\n"
          ]
        },
        {
          "output_type": "execute_result",
          "data": {
            "text/html": [
              "\n",
              "  <div id=\"df-d295e5ce-f710-4eff-811c-efb0e1a55a57\">\n",
              "    <div class=\"colab-df-container\">\n",
              "      <div>\n",
              "<style scoped>\n",
              "    .dataframe tbody tr th:only-of-type {\n",
              "        vertical-align: middle;\n",
              "    }\n",
              "\n",
              "    .dataframe tbody tr th {\n",
              "        vertical-align: top;\n",
              "    }\n",
              "\n",
              "    .dataframe thead th {\n",
              "        text-align: right;\n",
              "    }\n",
              "</style>\n",
              "<table border=\"1\" class=\"dataframe\">\n",
              "  <thead>\n",
              "    <tr style=\"text-align: right;\">\n",
              "      <th></th>\n",
              "      <th>Time</th>\n",
              "      <th>Headlines</th>\n",
              "      <th>Description</th>\n",
              "    </tr>\n",
              "  </thead>\n",
              "  <tbody>\n",
              "    <tr>\n",
              "      <th>0</th>\n",
              "      <td>2020-01-15</td>\n",
              "      <td>Why Shares of Chinese Electric Car Maker NIO A...</td>\n",
              "      <td>What s happening\\nShares of Chinese electric c...</td>\n",
              "    </tr>\n",
              "    <tr>\n",
              "      <th>1</th>\n",
              "      <td>2020-01-18</td>\n",
              "      <td>NIO only consumer gainer  Workhorse Group amon...</td>\n",
              "      <td>Gainers  NIO  NYSE NIO   7  \\nLosers  MGP Ingr...</td>\n",
              "    </tr>\n",
              "    <tr>\n",
              "      <th>2</th>\n",
              "      <td>2020-01-15</td>\n",
              "      <td>NIO leads consumer gainers  Beyond Meat and Ma...</td>\n",
              "      <td>Gainers  NIO  NYSE NIO   14   Village Farms In...</td>\n",
              "    </tr>\n",
              "    <tr>\n",
              "      <th>3</th>\n",
              "      <td>2020-01-15</td>\n",
              "      <td>NIO  NVAX among premarket gainers</td>\n",
              "      <td>Cemtrex  NASDAQ CETX   85  after FY results \\n...</td>\n",
              "    </tr>\n",
              "    <tr>\n",
              "      <th>4</th>\n",
              "      <td>2020-01-06</td>\n",
              "      <td>PLUG  NIO among premarket gainers</td>\n",
              "      <td>aTyr Pharma  NASDAQ LIFE   63  on Kyorin Pharm...</td>\n",
              "    </tr>\n",
              "  </tbody>\n",
              "</table>\n",
              "</div>\n",
              "      <button class=\"colab-df-convert\" onclick=\"convertToInteractive('df-d295e5ce-f710-4eff-811c-efb0e1a55a57')\"\n",
              "              title=\"Convert this dataframe to an interactive table.\"\n",
              "              style=\"display:none;\">\n",
              "        \n",
              "  <svg xmlns=\"http://www.w3.org/2000/svg\" height=\"24px\"viewBox=\"0 0 24 24\"\n",
              "       width=\"24px\">\n",
              "    <path d=\"M0 0h24v24H0V0z\" fill=\"none\"/>\n",
              "    <path d=\"M18.56 5.44l.94 2.06.94-2.06 2.06-.94-2.06-.94-.94-2.06-.94 2.06-2.06.94zm-11 1L8.5 8.5l.94-2.06 2.06-.94-2.06-.94L8.5 2.5l-.94 2.06-2.06.94zm10 10l.94 2.06.94-2.06 2.06-.94-2.06-.94-.94-2.06-.94 2.06-2.06.94z\"/><path d=\"M17.41 7.96l-1.37-1.37c-.4-.4-.92-.59-1.43-.59-.52 0-1.04.2-1.43.59L10.3 9.45l-7.72 7.72c-.78.78-.78 2.05 0 2.83L4 21.41c.39.39.9.59 1.41.59.51 0 1.02-.2 1.41-.59l7.78-7.78 2.81-2.81c.8-.78.8-2.07 0-2.86zM5.41 20L4 18.59l7.72-7.72 1.47 1.35L5.41 20z\"/>\n",
              "  </svg>\n",
              "      </button>\n",
              "      \n",
              "  <style>\n",
              "    .colab-df-container {\n",
              "      display:flex;\n",
              "      flex-wrap:wrap;\n",
              "      gap: 12px;\n",
              "    }\n",
              "\n",
              "    .colab-df-convert {\n",
              "      background-color: #E8F0FE;\n",
              "      border: none;\n",
              "      border-radius: 50%;\n",
              "      cursor: pointer;\n",
              "      display: none;\n",
              "      fill: #1967D2;\n",
              "      height: 32px;\n",
              "      padding: 0 0 0 0;\n",
              "      width: 32px;\n",
              "    }\n",
              "\n",
              "    .colab-df-convert:hover {\n",
              "      background-color: #E2EBFA;\n",
              "      box-shadow: 0px 1px 2px rgba(60, 64, 67, 0.3), 0px 1px 3px 1px rgba(60, 64, 67, 0.15);\n",
              "      fill: #174EA6;\n",
              "    }\n",
              "\n",
              "    [theme=dark] .colab-df-convert {\n",
              "      background-color: #3B4455;\n",
              "      fill: #D2E3FC;\n",
              "    }\n",
              "\n",
              "    [theme=dark] .colab-df-convert:hover {\n",
              "      background-color: #434B5C;\n",
              "      box-shadow: 0px 1px 3px 1px rgba(0, 0, 0, 0.15);\n",
              "      filter: drop-shadow(0px 1px 2px rgba(0, 0, 0, 0.3));\n",
              "      fill: #FFFFFF;\n",
              "    }\n",
              "  </style>\n",
              "\n",
              "      <script>\n",
              "        const buttonEl =\n",
              "          document.querySelector('#df-d295e5ce-f710-4eff-811c-efb0e1a55a57 button.colab-df-convert');\n",
              "        buttonEl.style.display =\n",
              "          google.colab.kernel.accessAllowed ? 'block' : 'none';\n",
              "\n",
              "        async function convertToInteractive(key) {\n",
              "          const element = document.querySelector('#df-d295e5ce-f710-4eff-811c-efb0e1a55a57');\n",
              "          const dataTable =\n",
              "            await google.colab.kernel.invokeFunction('convertToInteractive',\n",
              "                                                     [key], {});\n",
              "          if (!dataTable) return;\n",
              "\n",
              "          const docLinkHtml = 'Like what you see? Visit the ' +\n",
              "            '<a target=\"_blank\" href=https://colab.research.google.com/notebooks/data_table.ipynb>data table notebook</a>'\n",
              "            + ' to learn more about interactive tables.';\n",
              "          element.innerHTML = '';\n",
              "          dataTable['output_type'] = 'display_data';\n",
              "          await google.colab.output.renderOutput(dataTable, element);\n",
              "          const docLink = document.createElement('div');\n",
              "          docLink.innerHTML = docLinkHtml;\n",
              "          element.appendChild(docLink);\n",
              "        }\n",
              "      </script>\n",
              "    </div>\n",
              "  </div>\n",
              "  "
            ],
            "text/plain": [
              "         Time                                          Headlines  \\\n",
              "0  2020-01-15  Why Shares of Chinese Electric Car Maker NIO A...   \n",
              "1  2020-01-18  NIO only consumer gainer  Workhorse Group amon...   \n",
              "2  2020-01-15  NIO leads consumer gainers  Beyond Meat and Ma...   \n",
              "3  2020-01-15                  NIO  NVAX among premarket gainers   \n",
              "4  2020-01-06                  PLUG  NIO among premarket gainers   \n",
              "\n",
              "                                         Description  \n",
              "0  What s happening\\nShares of Chinese electric c...  \n",
              "1  Gainers  NIO  NYSE NIO   7  \\nLosers  MGP Ingr...  \n",
              "2  Gainers  NIO  NYSE NIO   14   Village Farms In...  \n",
              "3  Cemtrex  NASDAQ CETX   85  after FY results \\n...  \n",
              "4  aTyr Pharma  NASDAQ LIFE   63  on Kyorin Pharm...  "
            ]
          },
          "metadata": {},
          "execution_count": 17
        }
      ]
    },
    {
      "cell_type": "code",
      "metadata": {
        "id": "JA3g2Sp4_880",
        "colab": {
          "base_uri": "https://localhost:8080/"
        },
        "outputId": "1756797f-9a90-4fc3-c5df-64148a11b163"
      },
      "source": [
        "# добавим даты в формате дат \n",
        "month_cal = {'Jan': '01', 'Feb': '02', 'Mar': '03', 'Apr': '04', \n",
        "            'May': '05', 'Jun': '06', 'Jul': '07', 'Aug': '08',\n",
        "            'Sep': '09', 'Oct': '10', 'Nov': '11', 'Dec': '12'}\n",
        "\n",
        "\n",
        "def str_to_dt(string):\n",
        "    year = string[7:]\n",
        "    month = month_cal[string[:3]]\n",
        "    day = string[4:6]\n",
        "    date_format = year + '-' + month + '-' + day\n",
        "    return date_format\n",
        "\n",
        "\n",
        "# добавим даты в формате дат\n",
        "# reut['dt'] = reut['Time'].apply(str_to_dt).astype('datetime64[ns]')\n",
        "reut['dt'] = reut['Time'].astype('datetime64[ns]')\n",
        "min(reut['dt']), max(reut['dt'])"
      ],
      "execution_count": null,
      "outputs": [
        {
          "output_type": "execute_result",
          "data": {
            "text/plain": [
              "(Timestamp('2008-10-02 00:00:00'), Timestamp('2020-02-13 00:00:00'))"
            ]
          },
          "metadata": {},
          "execution_count": 18
        }
      ]
    },
    {
      "cell_type": "code",
      "metadata": {
        "colab": {
          "base_uri": "https://localhost:8080/",
          "height": 320
        },
        "id": "dnJDkkXi3-A6",
        "outputId": "844e6d4c-929e-4df8-cdd1-9aca94d5ac65"
      },
      "source": [
        "# reut.set_index('dt').join(sp500_df.set_index('dt')).reset_index()\n",
        "reut.set_index('dt').join(sp500_df.set_index('dt')).reset_index().head(3)"
      ],
      "execution_count": null,
      "outputs": [
        {
          "output_type": "execute_result",
          "data": {
            "text/html": [
              "\n",
              "  <div id=\"df-fa7c15a9-724a-4749-939e-de7b43cd6ed0\">\n",
              "    <div class=\"colab-df-container\">\n",
              "      <div>\n",
              "<style scoped>\n",
              "    .dataframe tbody tr th:only-of-type {\n",
              "        vertical-align: middle;\n",
              "    }\n",
              "\n",
              "    .dataframe tbody tr th {\n",
              "        vertical-align: top;\n",
              "    }\n",
              "\n",
              "    .dataframe thead th {\n",
              "        text-align: right;\n",
              "    }\n",
              "</style>\n",
              "<table border=\"1\" class=\"dataframe\">\n",
              "  <thead>\n",
              "    <tr style=\"text-align: right;\">\n",
              "      <th></th>\n",
              "      <th>dt</th>\n",
              "      <th>Time</th>\n",
              "      <th>Headlines</th>\n",
              "      <th>Description</th>\n",
              "      <th>chng_prev</th>\n",
              "      <th>candle_h_prev</th>\n",
              "      <th>Close_prev</th>\n",
              "      <th>Volume_prev</th>\n",
              "      <th>target</th>\n",
              "    </tr>\n",
              "  </thead>\n",
              "  <tbody>\n",
              "    <tr>\n",
              "      <th>0</th>\n",
              "      <td>2008-10-02</td>\n",
              "      <td>2008-10-02</td>\n",
              "      <td>Nikkei down 1 4 pct on economy fears  autos drop</td>\n",
              "      <td>Nikkei down 1 4 pct  hits lowest point in ove...</td>\n",
              "      <td>NaN</td>\n",
              "      <td>NaN</td>\n",
              "      <td>NaN</td>\n",
              "      <td>NaN</td>\n",
              "      <td>NaN</td>\n",
              "    </tr>\n",
              "    <tr>\n",
              "      <th>1</th>\n",
              "      <td>2008-10-03</td>\n",
              "      <td>2008-10-03</td>\n",
              "      <td>FOREX Dollar poised for biggest weekly gain in...</td>\n",
              "      <td>Money market squeeze  ECB shift fuel dollar ...</td>\n",
              "      <td>-46.78</td>\n",
              "      <td>49.63</td>\n",
              "      <td>1114.28</td>\n",
              "      <td>3.492022e+09</td>\n",
              "      <td>0.0</td>\n",
              "    </tr>\n",
              "    <tr>\n",
              "      <th>2</th>\n",
              "      <td>2008-10-03</td>\n",
              "      <td>2008-10-03</td>\n",
              "      <td>GLOBAL MARKETS Stocks rally on Wells Wachovia ...</td>\n",
              "      <td>U S  stocks rally  dollar gains on European w...</td>\n",
              "      <td>-46.78</td>\n",
              "      <td>49.63</td>\n",
              "      <td>1114.28</td>\n",
              "      <td>3.492022e+09</td>\n",
              "      <td>0.0</td>\n",
              "    </tr>\n",
              "  </tbody>\n",
              "</table>\n",
              "</div>\n",
              "      <button class=\"colab-df-convert\" onclick=\"convertToInteractive('df-fa7c15a9-724a-4749-939e-de7b43cd6ed0')\"\n",
              "              title=\"Convert this dataframe to an interactive table.\"\n",
              "              style=\"display:none;\">\n",
              "        \n",
              "  <svg xmlns=\"http://www.w3.org/2000/svg\" height=\"24px\"viewBox=\"0 0 24 24\"\n",
              "       width=\"24px\">\n",
              "    <path d=\"M0 0h24v24H0V0z\" fill=\"none\"/>\n",
              "    <path d=\"M18.56 5.44l.94 2.06.94-2.06 2.06-.94-2.06-.94-.94-2.06-.94 2.06-2.06.94zm-11 1L8.5 8.5l.94-2.06 2.06-.94-2.06-.94L8.5 2.5l-.94 2.06-2.06.94zm10 10l.94 2.06.94-2.06 2.06-.94-2.06-.94-.94-2.06-.94 2.06-2.06.94z\"/><path d=\"M17.41 7.96l-1.37-1.37c-.4-.4-.92-.59-1.43-.59-.52 0-1.04.2-1.43.59L10.3 9.45l-7.72 7.72c-.78.78-.78 2.05 0 2.83L4 21.41c.39.39.9.59 1.41.59.51 0 1.02-.2 1.41-.59l7.78-7.78 2.81-2.81c.8-.78.8-2.07 0-2.86zM5.41 20L4 18.59l7.72-7.72 1.47 1.35L5.41 20z\"/>\n",
              "  </svg>\n",
              "      </button>\n",
              "      \n",
              "  <style>\n",
              "    .colab-df-container {\n",
              "      display:flex;\n",
              "      flex-wrap:wrap;\n",
              "      gap: 12px;\n",
              "    }\n",
              "\n",
              "    .colab-df-convert {\n",
              "      background-color: #E8F0FE;\n",
              "      border: none;\n",
              "      border-radius: 50%;\n",
              "      cursor: pointer;\n",
              "      display: none;\n",
              "      fill: #1967D2;\n",
              "      height: 32px;\n",
              "      padding: 0 0 0 0;\n",
              "      width: 32px;\n",
              "    }\n",
              "\n",
              "    .colab-df-convert:hover {\n",
              "      background-color: #E2EBFA;\n",
              "      box-shadow: 0px 1px 2px rgba(60, 64, 67, 0.3), 0px 1px 3px 1px rgba(60, 64, 67, 0.15);\n",
              "      fill: #174EA6;\n",
              "    }\n",
              "\n",
              "    [theme=dark] .colab-df-convert {\n",
              "      background-color: #3B4455;\n",
              "      fill: #D2E3FC;\n",
              "    }\n",
              "\n",
              "    [theme=dark] .colab-df-convert:hover {\n",
              "      background-color: #434B5C;\n",
              "      box-shadow: 0px 1px 3px 1px rgba(0, 0, 0, 0.15);\n",
              "      filter: drop-shadow(0px 1px 2px rgba(0, 0, 0, 0.3));\n",
              "      fill: #FFFFFF;\n",
              "    }\n",
              "  </style>\n",
              "\n",
              "      <script>\n",
              "        const buttonEl =\n",
              "          document.querySelector('#df-fa7c15a9-724a-4749-939e-de7b43cd6ed0 button.colab-df-convert');\n",
              "        buttonEl.style.display =\n",
              "          google.colab.kernel.accessAllowed ? 'block' : 'none';\n",
              "\n",
              "        async function convertToInteractive(key) {\n",
              "          const element = document.querySelector('#df-fa7c15a9-724a-4749-939e-de7b43cd6ed0');\n",
              "          const dataTable =\n",
              "            await google.colab.kernel.invokeFunction('convertToInteractive',\n",
              "                                                     [key], {});\n",
              "          if (!dataTable) return;\n",
              "\n",
              "          const docLinkHtml = 'Like what you see? Visit the ' +\n",
              "            '<a target=\"_blank\" href=https://colab.research.google.com/notebooks/data_table.ipynb>data table notebook</a>'\n",
              "            + ' to learn more about interactive tables.';\n",
              "          element.innerHTML = '';\n",
              "          dataTable['output_type'] = 'display_data';\n",
              "          await google.colab.output.renderOutput(dataTable, element);\n",
              "          const docLink = document.createElement('div');\n",
              "          docLink.innerHTML = docLinkHtml;\n",
              "          element.appendChild(docLink);\n",
              "        }\n",
              "      </script>\n",
              "    </div>\n",
              "  </div>\n",
              "  "
            ],
            "text/plain": [
              "          dt        Time                                          Headlines  \\\n",
              "0 2008-10-02  2008-10-02   Nikkei down 1 4 pct on economy fears  autos drop   \n",
              "1 2008-10-03  2008-10-03  FOREX Dollar poised for biggest weekly gain in...   \n",
              "2 2008-10-03  2008-10-03  GLOBAL MARKETS Stocks rally on Wells Wachovia ...   \n",
              "\n",
              "                                         Description  chng_prev  \\\n",
              "0   Nikkei down 1 4 pct  hits lowest point in ove...        NaN   \n",
              "1    Money market squeeze  ECB shift fuel dollar ...     -46.78   \n",
              "2   U S  stocks rally  dollar gains on European w...     -46.78   \n",
              "\n",
              "   candle_h_prev  Close_prev   Volume_prev  target  \n",
              "0            NaN         NaN           NaN     NaN  \n",
              "1          49.63     1114.28  3.492022e+09     0.0  \n",
              "2          49.63     1114.28  3.492022e+09     0.0  "
            ]
          },
          "metadata": {},
          "execution_count": 19
        }
      ]
    },
    {
      "cell_type": "code",
      "metadata": {
        "colab": {
          "base_uri": "https://localhost:8080/"
        },
        "id": "zX9yQ2-n_881",
        "outputId": "06078afe-9505-45a9-c917-198e0548edc4"
      },
      "source": [
        "# кол-во статей по дням \n",
        "headl_cnt = reut[['Headlines', 'dt']].groupby(by='dt', as_index=False).count()\n",
        "headl_cnt['hcnt'] = headl_cnt['Headlines']\n",
        "headl_cnt = headl_cnt[['dt', 'hcnt']]\n",
        "\n",
        "(headl_cnt['hcnt'] < 5).sum(), (headl_cnt['hcnt'] >= 5).sum()"
      ],
      "execution_count": null,
      "outputs": [
        {
          "output_type": "execute_result",
          "data": {
            "text/plain": [
              "(532, 3109)"
            ]
          },
          "metadata": {},
          "execution_count": 20
        }
      ]
    },
    {
      "cell_type": "code",
      "metadata": {
        "id": "Y8b9wo_Z_881"
      },
      "source": [
        "# определили день недели \n",
        "# выходные отправляем в понедельник \n",
        "\n",
        "def wkday(date):\n",
        "    return date.weekday() \n",
        "\n",
        "weekday_n = reut['dt'].apply(wkday)\n",
        "reut['weekday_n'] = weekday_n "
      ],
      "execution_count": null,
      "outputs": []
    },
    {
      "cell_type": "code",
      "metadata": {
        "id": "tg2vnE-J_882",
        "colab": {
          "base_uri": "https://localhost:8080/",
          "height": 254
        },
        "outputId": "eb272f28-2a33-46c8-f2c3-5d6afb0d71d5"
      },
      "source": [
        "# Добавили подсчет заголовков в датасет \n",
        "\n",
        "reut_enrich = reut.set_index('dt').join(headl_cnt.set_index('dt')).reset_index()\n",
        "reut_enrich.tail(3)"
      ],
      "execution_count": null,
      "outputs": [
        {
          "output_type": "execute_result",
          "data": {
            "text/html": [
              "\n",
              "  <div id=\"df-41d56d45-7672-4d00-bc2b-18d9a0cb8998\">\n",
              "    <div class=\"colab-df-container\">\n",
              "      <div>\n",
              "<style scoped>\n",
              "    .dataframe tbody tr th:only-of-type {\n",
              "        vertical-align: middle;\n",
              "    }\n",
              "\n",
              "    .dataframe tbody tr th {\n",
              "        vertical-align: top;\n",
              "    }\n",
              "\n",
              "    .dataframe thead th {\n",
              "        text-align: right;\n",
              "    }\n",
              "</style>\n",
              "<table border=\"1\" class=\"dataframe\">\n",
              "  <thead>\n",
              "    <tr style=\"text-align: right;\">\n",
              "      <th></th>\n",
              "      <th>dt</th>\n",
              "      <th>Time</th>\n",
              "      <th>Headlines</th>\n",
              "      <th>Description</th>\n",
              "      <th>weekday_n</th>\n",
              "      <th>hcnt</th>\n",
              "    </tr>\n",
              "  </thead>\n",
              "  <tbody>\n",
              "    <tr>\n",
              "      <th>221502</th>\n",
              "      <td>2020-02-13</td>\n",
              "      <td>2020-02-13</td>\n",
              "      <td>3 Top Dividend Stocks To Maximize Your Retirem...</td>\n",
              "      <td>Strange but true  seniors fear death less than...</td>\n",
              "      <td>3</td>\n",
              "      <td>41</td>\n",
              "    </tr>\n",
              "    <tr>\n",
              "      <th>221503</th>\n",
              "      <td>2020-02-13</td>\n",
              "      <td>2020-02-13</td>\n",
              "      <td>Improve Your Retirement Income With These 3 To...</td>\n",
              "      <td>Here s a revealing data point  older Americans...</td>\n",
              "      <td>3</td>\n",
              "      <td>41</td>\n",
              "    </tr>\n",
              "    <tr>\n",
              "      <th>221504</th>\n",
              "      <td>2020-02-13</td>\n",
              "      <td>2020-02-13</td>\n",
              "      <td>Coronavirus Fears Re Emerge  Bringing Risk Off...</td>\n",
              "      <td>Thursday Market Open  Anyone who went to bed ...</td>\n",
              "      <td>3</td>\n",
              "      <td>41</td>\n",
              "    </tr>\n",
              "  </tbody>\n",
              "</table>\n",
              "</div>\n",
              "      <button class=\"colab-df-convert\" onclick=\"convertToInteractive('df-41d56d45-7672-4d00-bc2b-18d9a0cb8998')\"\n",
              "              title=\"Convert this dataframe to an interactive table.\"\n",
              "              style=\"display:none;\">\n",
              "        \n",
              "  <svg xmlns=\"http://www.w3.org/2000/svg\" height=\"24px\"viewBox=\"0 0 24 24\"\n",
              "       width=\"24px\">\n",
              "    <path d=\"M0 0h24v24H0V0z\" fill=\"none\"/>\n",
              "    <path d=\"M18.56 5.44l.94 2.06.94-2.06 2.06-.94-2.06-.94-.94-2.06-.94 2.06-2.06.94zm-11 1L8.5 8.5l.94-2.06 2.06-.94-2.06-.94L8.5 2.5l-.94 2.06-2.06.94zm10 10l.94 2.06.94-2.06 2.06-.94-2.06-.94-.94-2.06-.94 2.06-2.06.94z\"/><path d=\"M17.41 7.96l-1.37-1.37c-.4-.4-.92-.59-1.43-.59-.52 0-1.04.2-1.43.59L10.3 9.45l-7.72 7.72c-.78.78-.78 2.05 0 2.83L4 21.41c.39.39.9.59 1.41.59.51 0 1.02-.2 1.41-.59l7.78-7.78 2.81-2.81c.8-.78.8-2.07 0-2.86zM5.41 20L4 18.59l7.72-7.72 1.47 1.35L5.41 20z\"/>\n",
              "  </svg>\n",
              "      </button>\n",
              "      \n",
              "  <style>\n",
              "    .colab-df-container {\n",
              "      display:flex;\n",
              "      flex-wrap:wrap;\n",
              "      gap: 12px;\n",
              "    }\n",
              "\n",
              "    .colab-df-convert {\n",
              "      background-color: #E8F0FE;\n",
              "      border: none;\n",
              "      border-radius: 50%;\n",
              "      cursor: pointer;\n",
              "      display: none;\n",
              "      fill: #1967D2;\n",
              "      height: 32px;\n",
              "      padding: 0 0 0 0;\n",
              "      width: 32px;\n",
              "    }\n",
              "\n",
              "    .colab-df-convert:hover {\n",
              "      background-color: #E2EBFA;\n",
              "      box-shadow: 0px 1px 2px rgba(60, 64, 67, 0.3), 0px 1px 3px 1px rgba(60, 64, 67, 0.15);\n",
              "      fill: #174EA6;\n",
              "    }\n",
              "\n",
              "    [theme=dark] .colab-df-convert {\n",
              "      background-color: #3B4455;\n",
              "      fill: #D2E3FC;\n",
              "    }\n",
              "\n",
              "    [theme=dark] .colab-df-convert:hover {\n",
              "      background-color: #434B5C;\n",
              "      box-shadow: 0px 1px 3px 1px rgba(0, 0, 0, 0.15);\n",
              "      filter: drop-shadow(0px 1px 2px rgba(0, 0, 0, 0.3));\n",
              "      fill: #FFFFFF;\n",
              "    }\n",
              "  </style>\n",
              "\n",
              "      <script>\n",
              "        const buttonEl =\n",
              "          document.querySelector('#df-41d56d45-7672-4d00-bc2b-18d9a0cb8998 button.colab-df-convert');\n",
              "        buttonEl.style.display =\n",
              "          google.colab.kernel.accessAllowed ? 'block' : 'none';\n",
              "\n",
              "        async function convertToInteractive(key) {\n",
              "          const element = document.querySelector('#df-41d56d45-7672-4d00-bc2b-18d9a0cb8998');\n",
              "          const dataTable =\n",
              "            await google.colab.kernel.invokeFunction('convertToInteractive',\n",
              "                                                     [key], {});\n",
              "          if (!dataTable) return;\n",
              "\n",
              "          const docLinkHtml = 'Like what you see? Visit the ' +\n",
              "            '<a target=\"_blank\" href=https://colab.research.google.com/notebooks/data_table.ipynb>data table notebook</a>'\n",
              "            + ' to learn more about interactive tables.';\n",
              "          element.innerHTML = '';\n",
              "          dataTable['output_type'] = 'display_data';\n",
              "          await google.colab.output.renderOutput(dataTable, element);\n",
              "          const docLink = document.createElement('div');\n",
              "          docLink.innerHTML = docLinkHtml;\n",
              "          element.appendChild(docLink);\n",
              "        }\n",
              "      </script>\n",
              "    </div>\n",
              "  </div>\n",
              "  "
            ],
            "text/plain": [
              "               dt        Time  \\\n",
              "221502 2020-02-13  2020-02-13   \n",
              "221503 2020-02-13  2020-02-13   \n",
              "221504 2020-02-13  2020-02-13   \n",
              "\n",
              "                                                Headlines  \\\n",
              "221502  3 Top Dividend Stocks To Maximize Your Retirem...   \n",
              "221503  Improve Your Retirement Income With These 3 To...   \n",
              "221504  Coronavirus Fears Re Emerge  Bringing Risk Off...   \n",
              "\n",
              "                                              Description  weekday_n  hcnt  \n",
              "221502  Strange but true  seniors fear death less than...          3    41  \n",
              "221503  Here s a revealing data point  older Americans...          3    41  \n",
              "221504   Thursday Market Open  Anyone who went to bed ...          3    41  "
            ]
          },
          "metadata": {},
          "execution_count": 22
        }
      ]
    },
    {
      "cell_type": "code",
      "metadata": {
        "colab": {
          "base_uri": "https://localhost:8080/",
          "height": 524
        },
        "id": "LoTg8EDvp4RL",
        "outputId": "8de5e8ab-4c19-4c32-b0e0-cac0f9617c94"
      },
      "source": [
        "def str_t_year(dt_str):\n",
        "  return dt_str[:4]\n",
        "\n",
        "\n",
        "plotter = reut_enrich[['Time', 'Headlines']]\n",
        "plotter['Time'] = plotter['Time'].apply(str_t_year)\n",
        "plotter_cnt = plotter.groupby('Time', as_index=False).count()\n",
        "\n",
        "fig, ax = plt.subplots()\n",
        "ax.bar(plotter_cnt['Time'], plotter_cnt['Headlines'])\n",
        "\n",
        "fig.set_figwidth(12) \n",
        "fig.set_figheight(6)\n",
        "ax.set_title('Распределение статей по годам')\n",
        "ax.set_xlabel('Год') \n",
        "\n",
        "plt.show()\n",
        "\n",
        "# reut_enrich[reut_enrich['Time'].apply(str_t_year)=='2020'][['dt', 'Headlines']].groupby(by='dt', as_index=False).count().tail(20)"
      ],
      "execution_count": null,
      "outputs": [
        {
          "output_type": "stream",
          "name": "stderr",
          "text": [
            "/usr/local/lib/python3.7/dist-packages/ipykernel_launcher.py:6: SettingWithCopyWarning: \n",
            "A value is trying to be set on a copy of a slice from a DataFrame.\n",
            "Try using .loc[row_indexer,col_indexer] = value instead\n",
            "\n",
            "See the caveats in the documentation: https://pandas.pydata.org/pandas-docs/stable/user_guide/indexing.html#returning-a-view-versus-a-copy\n",
            "  \n"
          ]
        },
        {
          "output_type": "display_data",
          "data": {
            "image/png": "[encoded data removed]",
            "text/plain": [
              "<Figure size 864x432 with 1 Axes>"
            ]
          },
          "metadata": {
            "needs_background": "light"
          }
        }
      ]
    },
    {
      "cell_type": "code",
      "metadata": {
        "colab": {
          "base_uri": "https://localhost:8080/",
          "height": 524
        },
        "id": "GSmJTaAEv-rN",
        "outputId": "d2628e40-af6b-45d0-c3ad-a3cb559e7f72"
      },
      "source": [
        "def str_t_month(dt_str):\n",
        "  return dt_str[5:7]\n",
        "\n",
        "plotter = reut_enrich[['Time', 'Headlines']]\n",
        "plotter['Time'] = plotter['Time'].apply(str_t_month)\n",
        "plotter_cnt = plotter.groupby('Time', as_index=False).count()\n",
        "\n",
        "fig, ax = plt.subplots()\n",
        "ax.bar(plotter_cnt['Time'], plotter_cnt['Headlines'])\n",
        "\n",
        "fig.set_figwidth(12) \n",
        "fig.set_figheight(6)\n",
        "ax.set_title('Распределение статей по месяцам')\n",
        "ax.set_xlabel('Номер месяца') \n",
        "\n",
        "plt.show()"
      ],
      "execution_count": null,
      "outputs": [
        {
          "output_type": "stream",
          "name": "stderr",
          "text": [
            "/usr/local/lib/python3.7/dist-packages/ipykernel_launcher.py:5: SettingWithCopyWarning: \n",
            "A value is trying to be set on a copy of a slice from a DataFrame.\n",
            "Try using .loc[row_indexer,col_indexer] = value instead\n",
            "\n",
            "See the caveats in the documentation: https://pandas.pydata.org/pandas-docs/stable/user_guide/indexing.html#returning-a-view-versus-a-copy\n",
            "  \"\"\"\n"
          ]
        },
        {
          "output_type": "display_data",
          "data": {
            "image/png": "[encoded data removed]",
            "text/plain": [
              "<Figure size 864x432 with 1 Axes>"
            ]
          },
          "metadata": {
            "needs_background": "light"
          }
        }
      ]
    },
    {
      "cell_type": "code",
      "metadata": {
        "colab": {
          "base_uri": "https://localhost:8080/",
          "height": 425
        },
        "id": "Pk1MyuxCz7aW",
        "outputId": "74a71079-b831-46fa-eddb-289cd8546f7c"
      },
      "source": [
        "# кол-во слов в заголовке\n",
        "def splitter(text):\n",
        "  return len(text.split())\n",
        "\n",
        "fig, ax = plt.subplots()\n",
        "ax.hist(reut_enrich['Headlines'].apply(splitter), bins=30)\n",
        "# ax.hist(reut_enrich_gr_cut['Headlines'].apply(splitter), bins=30)\n",
        "\n",
        "fig.set_figwidth(12) \n",
        "fig.set_figheight(6)\n",
        "ax.set_title('Number of words per headline distribution')\n",
        "ax.set_xlabel('# of words') \n",
        "\n",
        "plt.show()"
      ],
      "execution_count": null,
      "outputs": [
        {
          "output_type": "display_data",
          "data": {
            "image/png": "[encoded data removed]",
            "text/plain": [
              "<Figure size 864x432 with 1 Axes>"
            ]
          },
          "metadata": {
            "needs_background": "light"
          }
        }
      ]
    },
    {
      "cell_type": "code",
      "metadata": {
        "id": "TIdYL-Kp_882"
      },
      "source": [
        "# считаем суммарное кол-во статей за выходные + пн для понедельников \n",
        "date_hcnt = reut_enrich[['dt', 'weekday_n', 'hcnt']].drop_duplicates()\n",
        "\n",
        "sat_mn = np.where(date_hcnt['weekday_n'] == 5, date_hcnt['dt'] + pd.to_timedelta(2, unit='day'), \n",
        "                  date_hcnt['dt'] + pd.to_timedelta(9999, unit='day')) # ЧТОБЫ ТОЧНО НЕ БЫЛО ПЕРЕСЕЧЕНИЙ \n",
        "sun_mn = np.where(date_hcnt['weekday_n'] == 6, date_hcnt['dt'] + pd.to_timedelta(1, unit='day'), \n",
        "                  date_hcnt['dt'] + pd.to_timedelta(9999, unit='day'))\n",
        "\n",
        "date_hcnt['sat_mn'] = sat_mn\n",
        "date_hcnt['sun_mn'] = sun_mn"
      ],
      "execution_count": null,
      "outputs": []
    },
    {
      "cell_type": "code",
      "metadata": {
        "id": "oUJjGN8N_883"
      },
      "source": [
        "sat_mn_df = date_hcnt[['sat_mn', 'hcnt']]\n",
        "sun_mn_df = date_hcnt[['sun_mn', 'hcnt']]\n",
        "date_hcnt = date_hcnt.drop(columns=['sat_mn', 'sun_mn'])\n",
        "\n",
        "\n",
        "date_hcnt = date_hcnt.set_index('dt').join(sat_mn_df.set_index('sat_mn'), \n",
        "                                           rsuffix='_sat_hcnt', how='left').reset_index()\n",
        "date_hcnt = date_hcnt.set_index('dt').join(sun_mn_df.set_index('sun_mn'), \n",
        "                                           rsuffix='_sun_hcnt', how='left').reset_index()\n",
        "\n",
        "date_hcnt = date_hcnt.fillna(0)\n",
        "\n",
        "date_hcnt['hcnt_gr'] = date_hcnt['hcnt'] + date_hcnt['hcnt_sat_hcnt'] + date_hcnt['hcnt_sun_hcnt'] \n",
        "date_hcnt = date_hcnt.drop(columns=['hcnt', 'hcnt_sat_hcnt', 'hcnt_sun_hcnt', 'weekday_n'])"
      ],
      "execution_count": null,
      "outputs": []
    },
    {
      "cell_type": "code",
      "metadata": {
        "id": "NwOsOMV__883"
      },
      "source": [
        "# Теперь в датасете для понедельников отображается в hcnt_gr сумарное кол-во статей за сб+вс+пн \n",
        "reut_enrich_gr = reut_enrich.set_index('dt').join(date_hcnt.set_index('dt'), how='left').reset_index().drop(columns='hcnt')"
      ],
      "execution_count": null,
      "outputs": []
    },
    {
      "cell_type": "code",
      "metadata": {
        "id": "kCqDg6h6L4zm"
      },
      "source": [
        "# Пометим новости за сб и вс, как пн \n",
        "\n",
        "def wkday_to_mon(date):\n",
        "    res = date.weekday()\n",
        "    if res not in (5, 6):\n",
        "        return res\n",
        "    else: \n",
        "        return 0\n",
        "\n",
        "reut_enrich_gr['weekday_shift'] = reut_enrich_gr['dt'].apply(wkday_to_mon)"
      ],
      "execution_count": null,
      "outputs": []
    },
    {
      "cell_type": "code",
      "metadata": {
        "id": "5CLXCDLm_883"
      },
      "source": [
        "# reut_enrich_gr_weekday = reut_enrich_gr[reut_enrich_gr['weekday_n'] <= 4].drop(columns='hcnt')\n",
        "# reut_enrich_gr_weekday.shape"
      ],
      "execution_count": null,
      "outputs": []
    },
    {
      "cell_type": "markdown",
      "metadata": {
        "id": "GvN8bEhj_884"
      },
      "source": [
        "ВООБЩЕ ЛУЧШЕ ВЗЯТЬ ВСЕ ДНИ, и просто наджойнивая на них индексы(**INNER**), останутся только нужные"
      ]
    },
    {
      "cell_type": "markdown",
      "metadata": {
        "id": "kjjZZjHk_884"
      },
      "source": [
        "\n",
        "## ПРЕДОБРАБОТКА ТЕКСТА "
      ]
    },
    {
      "cell_type": "markdown",
      "metadata": {
        "id": "Y5O3DURlcpEU"
      },
      "source": [
        "ПОПРОБУЕМ СНАЧАЛА ОБРЕЗАТЬ ПО **5/10/N_ARTICLES** НОВОСТЕЙ / ДЕНЬ\n"
      ]
    },
    {
      "cell_type": "code",
      "metadata": {
        "id": "AR93nJN7Urw0"
      },
      "source": [
        "# ВСЯ НОВОСТЬ ВМЕСТО ЗАГОЛОВКА\n",
        "# reut_enrich_gr['Headlines'] = reut_enrich_gr['Description']"
      ],
      "execution_count": null,
      "outputs": []
    },
    {
      "cell_type": "code",
      "metadata": {
        "id": "ykLAi6PldCBq"
      },
      "source": [
        "import random \n",
        "\n",
        "random.seed(13)\n",
        "reut_enrich_gr_cut = pd.DataFrame(columns=['dt', 'Headlines'])\n",
        "# N_ARTICLES = 5\n",
        "\n",
        "for idt in set(reut_enrich_gr['dt']):\n",
        "  art0 = list(reut_enrich_gr[reut_enrich_gr['dt'] == idt]['Headlines'])\n",
        "  art_to_date = random.sample(art0, len(art0))[:N_ARTICLES]\n",
        "  for i in range(min(len(art_to_date), N_ARTICLES)): \n",
        "    art_to_date_df = pd.DataFrame(\n",
        "          [[str(idt), art_to_date[i]]], \n",
        "          columns=['dt', 'Headlines'])\n",
        "    reut_enrich_gr_cut = reut_enrich_gr_cut.append(art_to_date_df)\n",
        "\n",
        "\n",
        "reut_enrich_gr_cut['dt'] = reut_enrich_gr_cut['dt'].astype('datetime64[ns]')"
      ],
      "execution_count": null,
      "outputs": []
    },
    {
      "cell_type": "code",
      "source": [
        "reut_enrich_gr_cut[reut_enrich_gr_cut['dt'] == '2019-01-17'].head()"
      ],
      "metadata": {
        "colab": {
          "base_uri": "https://localhost:8080/",
          "height": 221
        },
        "id": "cbT4ae_2m-O9",
        "outputId": "2d5fda7e-d10b-4cd2-b194-feb9160509cf"
      },
      "execution_count": null,
      "outputs": [
        {
          "output_type": "execute_result",
          "data": {
            "text/html": [
              "\n",
              "  <div id=\"df-0fbfe4ca-e453-427b-acc2-bf0a46402fb2\">\n",
              "    <div class=\"colab-df-container\">\n",
              "      <div>\n",
              "<style scoped>\n",
              "    .dataframe tbody tr th:only-of-type {\n",
              "        vertical-align: middle;\n",
              "    }\n",
              "\n",
              "    .dataframe tbody tr th {\n",
              "        vertical-align: top;\n",
              "    }\n",
              "\n",
              "    .dataframe thead th {\n",
              "        text-align: right;\n",
              "    }\n",
              "</style>\n",
              "<table border=\"1\" class=\"dataframe\">\n",
              "  <thead>\n",
              "    <tr style=\"text-align: right;\">\n",
              "      <th></th>\n",
              "      <th>dt</th>\n",
              "      <th>Headlines</th>\n",
              "    </tr>\n",
              "  </thead>\n",
              "  <tbody>\n",
              "    <tr>\n",
              "      <th>0</th>\n",
              "      <td>2019-01-17</td>\n",
              "      <td>The Zacks Analyst Blog Highlights  NextEra  We...</td>\n",
              "    </tr>\n",
              "    <tr>\n",
              "      <th>0</th>\n",
              "      <td>2019-01-17</td>\n",
              "      <td>Walmart partners with four more grocery delive...</td>\n",
              "    </tr>\n",
              "    <tr>\n",
              "      <th>0</th>\n",
              "      <td>2019-01-17</td>\n",
              "      <td>WEX Inks Deal To Purchase Discovery Benefits F...</td>\n",
              "    </tr>\n",
              "    <tr>\n",
              "      <th>0</th>\n",
              "      <td>2019-01-17</td>\n",
              "      <td>Stocks   Morgan Stanley  CSX  Aurora Cannabis ...</td>\n",
              "    </tr>\n",
              "    <tr>\n",
              "      <th>0</th>\n",
              "      <td>2019-01-17</td>\n",
              "      <td>Top 5 Things to Know in The Market on Thursday</td>\n",
              "    </tr>\n",
              "  </tbody>\n",
              "</table>\n",
              "</div>\n",
              "      <button class=\"colab-df-convert\" onclick=\"convertToInteractive('df-0fbfe4ca-e453-427b-acc2-bf0a46402fb2')\"\n",
              "              title=\"Convert this dataframe to an interactive table.\"\n",
              "              style=\"display:none;\">\n",
              "        \n",
              "  <svg xmlns=\"http://www.w3.org/2000/svg\" height=\"24px\"viewBox=\"0 0 24 24\"\n",
              "       width=\"24px\">\n",
              "    <path d=\"M0 0h24v24H0V0z\" fill=\"none\"/>\n",
              "    <path d=\"M18.56 5.44l.94 2.06.94-2.06 2.06-.94-2.06-.94-.94-2.06-.94 2.06-2.06.94zm-11 1L8.5 8.5l.94-2.06 2.06-.94-2.06-.94L8.5 2.5l-.94 2.06-2.06.94zm10 10l.94 2.06.94-2.06 2.06-.94-2.06-.94-.94-2.06-.94 2.06-2.06.94z\"/><path d=\"M17.41 7.96l-1.37-1.37c-.4-.4-.92-.59-1.43-.59-.52 0-1.04.2-1.43.59L10.3 9.45l-7.72 7.72c-.78.78-.78 2.05 0 2.83L4 21.41c.39.39.9.59 1.41.59.51 0 1.02-.2 1.41-.59l7.78-7.78 2.81-2.81c.8-.78.8-2.07 0-2.86zM5.41 20L4 18.59l7.72-7.72 1.47 1.35L5.41 20z\"/>\n",
              "  </svg>\n",
              "      </button>\n",
              "      \n",
              "  <style>\n",
              "    .colab-df-container {\n",
              "      display:flex;\n",
              "      flex-wrap:wrap;\n",
              "      gap: 12px;\n",
              "    }\n",
              "\n",
              "    .colab-df-convert {\n",
              "      background-color: #E8F0FE;\n",
              "      border: none;\n",
              "      border-radius: 50%;\n",
              "      cursor: pointer;\n",
              "      display: none;\n",
              "      fill: #1967D2;\n",
              "      height: 32px;\n",
              "      padding: 0 0 0 0;\n",
              "      width: 32px;\n",
              "    }\n",
              "\n",
              "    .colab-df-convert:hover {\n",
              "      background-color: #E2EBFA;\n",
              "      box-shadow: 0px 1px 2px rgba(60, 64, 67, 0.3), 0px 1px 3px 1px rgba(60, 64, 67, 0.15);\n",
              "      fill: #174EA6;\n",
              "    }\n",
              "\n",
              "    [theme=dark] .colab-df-convert {\n",
              "      background-color: #3B4455;\n",
              "      fill: #D2E3FC;\n",
              "    }\n",
              "\n",
              "    [theme=dark] .colab-df-convert:hover {\n",
              "      background-color: #434B5C;\n",
              "      box-shadow: 0px 1px 3px 1px rgba(0, 0, 0, 0.15);\n",
              "      filter: drop-shadow(0px 1px 2px rgba(0, 0, 0, 0.3));\n",
              "      fill: #FFFFFF;\n",
              "    }\n",
              "  </style>\n",
              "\n",
              "      <script>\n",
              "        const buttonEl =\n",
              "          document.querySelector('#df-0fbfe4ca-e453-427b-acc2-bf0a46402fb2 button.colab-df-convert');\n",
              "        buttonEl.style.display =\n",
              "          google.colab.kernel.accessAllowed ? 'block' : 'none';\n",
              "\n",
              "        async function convertToInteractive(key) {\n",
              "          const element = document.querySelector('#df-0fbfe4ca-e453-427b-acc2-bf0a46402fb2');\n",
              "          const dataTable =\n",
              "            await google.colab.kernel.invokeFunction('convertToInteractive',\n",
              "                                                     [key], {});\n",
              "          if (!dataTable) return;\n",
              "\n",
              "          const docLinkHtml = 'Like what you see? Visit the ' +\n",
              "            '<a target=\"_blank\" href=https://colab.research.google.com/notebooks/data_table.ipynb>data table notebook</a>'\n",
              "            + ' to learn more about interactive tables.';\n",
              "          element.innerHTML = '';\n",
              "          dataTable['output_type'] = 'display_data';\n",
              "          await google.colab.output.renderOutput(dataTable, element);\n",
              "          const docLink = document.createElement('div');\n",
              "          docLink.innerHTML = docLinkHtml;\n",
              "          element.appendChild(docLink);\n",
              "        }\n",
              "      </script>\n",
              "    </div>\n",
              "  </div>\n",
              "  "
            ],
            "text/plain": [
              "          dt                                          Headlines\n",
              "0 2019-01-17  The Zacks Analyst Blog Highlights  NextEra  We...\n",
              "0 2019-01-17  Walmart partners with four more grocery delive...\n",
              "0 2019-01-17  WEX Inks Deal To Purchase Discovery Benefits F...\n",
              "0 2019-01-17  Stocks   Morgan Stanley  CSX  Aurora Cannabis ...\n",
              "0 2019-01-17     Top 5 Things to Know in The Market on Thursday"
            ]
          },
          "metadata": {},
          "execution_count": 33
        }
      ]
    },
    {
      "cell_type": "markdown",
      "metadata": {
        "id": "PoMPdsMQi-aC"
      },
      "source": [
        "### Токенизация и Лемматизация"
      ]
    },
    {
      "cell_type": "code",
      "metadata": {
        "colab": {
          "base_uri": "https://localhost:8080/"
        },
        "id": "HRwKkZ1R_884",
        "outputId": "5a5e2cb9-d483-42df-fa60-edda145e5fde"
      },
      "source": [
        "from nltk.tokenize import TweetTokenizer\n",
        "import nltk\n",
        "from nltk.corpus import stopwords\n",
        "from nltk.stem import WordNetLemmatizer\n",
        "nltk.download('stopwords')\n",
        "nltk.download(\"wordnet\")\n",
        "\n",
        "ttok = TweetTokenizer()\n",
        "lemmatizer = WordNetLemmatizer()\n",
        "\n",
        "english_stopwords = stopwords.words(\"english\")\n",
        "# english_stopwords = []\n",
        "\n",
        "def tok_n_join(text):\n",
        "    tok_text = ttok.tokenize(text.lower())\n",
        "    tok_text_clean = []\n",
        "    for w in tok_text:\n",
        "      if w not in english_stopwords:\n",
        "        w_lem = lemmatizer.lemmatize(w)\n",
        "        tok_text_clean.append(w_lem)\n",
        "    return ' '.join(tok_text_clean)\n",
        "    # return ' '.join(tok_text)\n",
        "\n",
        "# headl_tok = reut_enrich_gr['Headlines'].apply(tok_n_join)\n",
        "headl_tok = reut_enrich_gr_cut['Headlines'].apply(tok_n_join)\n",
        "# headl_tok = reut_enrich_gr['Description'].apply(descr_cutter).apply(tok_n_join)"
      ],
      "execution_count": null,
      "outputs": [
        {
          "output_type": "stream",
          "name": "stdout",
          "text": [
            "[nltk_data] Downloading package stopwords to /root/nltk_data...\n",
            "[nltk_data]   Package stopwords is already up-to-date!\n",
            "[nltk_data] Downloading package wordnet to /root/nltk_data...\n",
            "[nltk_data]   Package wordnet is already up-to-date!\n"
          ]
        }
      ]
    },
    {
      "cell_type": "code",
      "metadata": {
        "id": "bJy24RYB_atG"
      },
      "source": [
        "### САМЫЕ ПОПУЛЯРНЫЕ СЛОВА ###\n",
        "d_headl = {}\n",
        "\n",
        "for article_text in list(headl_tok):\n",
        "  for article_word in article_text.split(' '):\n",
        "    if article_word in d_headl:\n",
        "      d_headl[article_word] += 1\n",
        "    else: \n",
        "      d_headl[article_word] = 1\n",
        "\n",
        "d_headl_top = dict(sorted(d_headl.items(), key=lambda item: item[1], reverse=True)[:40])"
      ],
      "execution_count": null,
      "outputs": []
    },
    {
      "cell_type": "code",
      "metadata": {
        "colab": {
          "base_uri": "https://localhost:8080/",
          "height": 428
        },
        "id": "sO1N9Bo9__7Y",
        "outputId": "81ada89d-959d-4052-fa6f-83d432c39c4c"
      },
      "source": [
        "# plt.bar(np.arange(len(d_headl_top.values())), d_headl_top.values())\n",
        "fig, ax = plt.subplots(figsize=(15, 6))\n",
        "ax.bar(d_headl_top.keys(), d_headl_top.values())\n",
        "ax.set_title('Самые популярные слова в данных')\n",
        "ax.set_ylabel('Количество упоминаний в корпусе текстов')\n",
        "\n",
        "plt.xticks(rotation=90)\n",
        "plt.show()"
      ],
      "execution_count": null,
      "outputs": [
        {
          "output_type": "display_data",
          "data": {
            "image/png": "[encoded data removed]",
            "text/plain": [
              "<Figure size 1080x432 with 1 Axes>"
            ]
          },
          "metadata": {
            "needs_background": "light"
          }
        }
      ]
    },
    {
      "cell_type": "markdown",
      "metadata": {
        "id": "llXOyLzN_Piw"
      },
      "source": [
        "### Эмбеддинг"
      ]
    },
    {
      "cell_type": "code",
      "metadata": {
        "id": "bmTFUKDj1pSB"
      },
      "source": [
        "# ### TF-IDF ###\n",
        "# # np.random.seed(13)\n",
        "# from sklearn.feature_extraction.text import TfidfVectorizer\n",
        "\n",
        "# tfidf = TfidfVectorizer(min_df=TFIDF_MIN_DF, max_features=TFIDF_MAX_FEATURES) # , max_features=1000)\n",
        "# headl_enc_spacy = tfidf.fit_transform(headl_tok)"
      ],
      "execution_count": null,
      "outputs": []
    },
    {
      "cell_type": "code",
      "metadata": {
        "id": "lmOjgr2m_885"
      },
      "source": [
        "# ### SPACY ###\n",
        "# np.random.seed(13)\n",
        "# # ! python -m spacy download en_core_web_sm\n",
        "# import spacy\n",
        "# import en_core_web_sm\n",
        "\n",
        "# spacy_enc = en_core_web_sm.load()\n",
        "# # nlp = spacy.load('en_core_web_sm')\n",
        "\n",
        "# def spacy_encoder(text):\n",
        "#     return spacy_enc(text).vector\n",
        "\n",
        "\n",
        "# # spaCy эмбеддинг с замером времени \n",
        "\n",
        "# import time \n",
        "# enc_start_dttm = time.time()\n",
        "# headl_enc_spacy = headl_tok.apply(spacy_encoder)\n",
        "# time.time() - enc_start_dttm"
      ],
      "execution_count": null,
      "outputs": []
    },
    {
      "cell_type": "code",
      "metadata": {
        "id": "Cbe9mU4hKtDX",
        "colab": {
          "base_uri": "https://localhost:8080/",
          "height": 130
        },
        "outputId": "ebb74b92-2b03-4c3e-f218-f6d31d26ddfa"
      },
      "source": [
        "spacy_enc_df = reut_enrich_gr_cut[['dt']]\n",
        "# , 'weekday_n', 'hcnt_gr']]\n",
        "# spaCy\n",
        "spacy_enc_df['headl_enc'] = headl_tok\n",
        "# tf-idf \n",
        "# spacy_enc_df['headl_enc'] = headl_enc_spacy.toarray().tolist()\n",
        "spacy_enc_df.head(2)"
      ],
      "execution_count": null,
      "outputs": [
        {
          "output_type": "execute_result",
          "data": {
            "text/html": [
              "\n",
              "  <div id=\"df-5501c51c-6cb1-41ee-b016-3dcf0198f078\">\n",
              "    <div class=\"colab-df-container\">\n",
              "      <div>\n",
              "<style scoped>\n",
              "    .dataframe tbody tr th:only-of-type {\n",
              "        vertical-align: middle;\n",
              "    }\n",
              "\n",
              "    .dataframe tbody tr th {\n",
              "        vertical-align: top;\n",
              "    }\n",
              "\n",
              "    .dataframe thead th {\n",
              "        text-align: right;\n",
              "    }\n",
              "</style>\n",
              "<table border=\"1\" class=\"dataframe\">\n",
              "  <thead>\n",
              "    <tr style=\"text-align: right;\">\n",
              "      <th></th>\n",
              "      <th>dt</th>\n",
              "      <th>headl_enc</th>\n",
              "    </tr>\n",
              "  </thead>\n",
              "  <tbody>\n",
              "    <tr>\n",
              "      <th>0</th>\n",
              "      <td>2016-04-20</td>\n",
              "      <td>spell broken netflix like traditional tv network</td>\n",
              "    </tr>\n",
              "    <tr>\n",
              "      <th>0</th>\n",
              "      <td>2016-04-20</td>\n",
              "      <td>next e vix crude oil</td>\n",
              "    </tr>\n",
              "  </tbody>\n",
              "</table>\n",
              "</div>\n",
              "      <button class=\"colab-df-convert\" onclick=\"convertToInteractive('df-5501c51c-6cb1-41ee-b016-3dcf0198f078')\"\n",
              "              title=\"Convert this dataframe to an interactive table.\"\n",
              "              style=\"display:none;\">\n",
              "        \n",
              "  <svg xmlns=\"http://www.w3.org/2000/svg\" height=\"24px\"viewBox=\"0 0 24 24\"\n",
              "       width=\"24px\">\n",
              "    <path d=\"M0 0h24v24H0V0z\" fill=\"none\"/>\n",
              "    <path d=\"M18.56 5.44l.94 2.06.94-2.06 2.06-.94-2.06-.94-.94-2.06-.94 2.06-2.06.94zm-11 1L8.5 8.5l.94-2.06 2.06-.94-2.06-.94L8.5 2.5l-.94 2.06-2.06.94zm10 10l.94 2.06.94-2.06 2.06-.94-2.06-.94-.94-2.06-.94 2.06-2.06.94z\"/><path d=\"M17.41 7.96l-1.37-1.37c-.4-.4-.92-.59-1.43-.59-.52 0-1.04.2-1.43.59L10.3 9.45l-7.72 7.72c-.78.78-.78 2.05 0 2.83L4 21.41c.39.39.9.59 1.41.59.51 0 1.02-.2 1.41-.59l7.78-7.78 2.81-2.81c.8-.78.8-2.07 0-2.86zM5.41 20L4 18.59l7.72-7.72 1.47 1.35L5.41 20z\"/>\n",
              "  </svg>\n",
              "      </button>\n",
              "      \n",
              "  <style>\n",
              "    .colab-df-container {\n",
              "      display:flex;\n",
              "      flex-wrap:wrap;\n",
              "      gap: 12px;\n",
              "    }\n",
              "\n",
              "    .colab-df-convert {\n",
              "      background-color: #E8F0FE;\n",
              "      border: none;\n",
              "      border-radius: 50%;\n",
              "      cursor: pointer;\n",
              "      display: none;\n",
              "      fill: #1967D2;\n",
              "      height: 32px;\n",
              "      padding: 0 0 0 0;\n",
              "      width: 32px;\n",
              "    }\n",
              "\n",
              "    .colab-df-convert:hover {\n",
              "      background-color: #E2EBFA;\n",
              "      box-shadow: 0px 1px 2px rgba(60, 64, 67, 0.3), 0px 1px 3px 1px rgba(60, 64, 67, 0.15);\n",
              "      fill: #174EA6;\n",
              "    }\n",
              "\n",
              "    [theme=dark] .colab-df-convert {\n",
              "      background-color: #3B4455;\n",
              "      fill: #D2E3FC;\n",
              "    }\n",
              "\n",
              "    [theme=dark] .colab-df-convert:hover {\n",
              "      background-color: #434B5C;\n",
              "      box-shadow: 0px 1px 3px 1px rgba(0, 0, 0, 0.15);\n",
              "      filter: drop-shadow(0px 1px 2px rgba(0, 0, 0, 0.3));\n",
              "      fill: #FFFFFF;\n",
              "    }\n",
              "  </style>\n",
              "\n",
              "      <script>\n",
              "        const buttonEl =\n",
              "          document.querySelector('#df-5501c51c-6cb1-41ee-b016-3dcf0198f078 button.colab-df-convert');\n",
              "        buttonEl.style.display =\n",
              "          google.colab.kernel.accessAllowed ? 'block' : 'none';\n",
              "\n",
              "        async function convertToInteractive(key) {\n",
              "          const element = document.querySelector('#df-5501c51c-6cb1-41ee-b016-3dcf0198f078');\n",
              "          const dataTable =\n",
              "            await google.colab.kernel.invokeFunction('convertToInteractive',\n",
              "                                                     [key], {});\n",
              "          if (!dataTable) return;\n",
              "\n",
              "          const docLinkHtml = 'Like what you see? Visit the ' +\n",
              "            '<a target=\"_blank\" href=https://colab.research.google.com/notebooks/data_table.ipynb>data table notebook</a>'\n",
              "            + ' to learn more about interactive tables.';\n",
              "          element.innerHTML = '';\n",
              "          dataTable['output_type'] = 'display_data';\n",
              "          await google.colab.output.renderOutput(dataTable, element);\n",
              "          const docLink = document.createElement('div');\n",
              "          docLink.innerHTML = docLinkHtml;\n",
              "          element.appendChild(docLink);\n",
              "        }\n",
              "      </script>\n",
              "    </div>\n",
              "  </div>\n",
              "  "
            ],
            "text/plain": [
              "          dt                                         headl_enc\n",
              "0 2016-04-20  spell broken netflix like traditional tv network\n",
              "0 2016-04-20                              next e vix crude oil"
            ]
          },
          "metadata": {},
          "execution_count": 39
        }
      ]
    },
    {
      "cell_type": "markdown",
      "metadata": {
        "id": "JKAlNnJBlcne"
      },
      "source": [
        "Возьмем по N_ARTICLES статей за каждый день и объебиним их конкатенацией "
      ]
    },
    {
      "cell_type": "code",
      "metadata": {
        "id": "ufB2lYN5pdaZ"
      },
      "source": [
        "# перенесем заголовки в столбцы и возьмем только 5 \n",
        "# N_ARTICLES = 10\n",
        "art_enc_flipped = pd.DataFrame(columns=['dt', 'articles_concat'])\n",
        "\n",
        "for idt in set(spacy_enc_df['dt']): #spacy_enc_df['dt'].unique():\n",
        "\n",
        "  art_to_date = list(spacy_enc_df[spacy_enc_df['dt'] == idt]['headl_enc'][:N_ARTICLES])\n",
        "  art_to_date_concat = ''\n",
        "  for i in range(len(art_to_date)): \n",
        "    # spaCy\n",
        "    art_to_date_concat += art_to_date[i] + ' '\n",
        "    # tf-idf\n",
        "    # art_to_date_concat += art_to_date[i]\n",
        "  art_to_date_full = [str(idt)] + [art_to_date_concat]\n",
        "  art_to_date_df = pd.DataFrame(\n",
        "        [art_to_date_full],\n",
        "        columns=['dt', 'articles_concat'])\n",
        "  art_enc_flipped = art_enc_flipped.append(art_to_date_df)\n",
        "\n",
        "\n",
        "  # if len(art_to_date_concat) // emb_dimension >= N_ARTICLES:\n",
        "  #   art_to_date_full = [str(idt)] + [art_to_date_concat]\n",
        "  #   art_to_date_df = pd.DataFrame(\n",
        "  #       [art_to_date_full],\n",
        "  #       columns=['dt', 'articles_concat'])\n",
        "  #   art_enc_flipped = art_enc_flipped.append(art_to_date_df)\n",
        "  # else: \n",
        "  #   # был пустой список в эмбеддингах (видимо, пустой заголовок), поэтому размерности art_to_date и art_to_date_concat не совпали\n",
        "  #   # diff = N_ARTICLES - len(art_to_date)\n",
        "  #   # emb_dimension = len(list(spacy_enc_df['headl_enc'])[0])\n",
        "  #   diff = N_ARTICLES - len(art_to_date_concat) // emb_dimension\n",
        "  #   # art_to_date_full = [str(idt)] + art_to_date + diff*['']\n",
        "  #   # заполним нулями недостающие статьи \n",
        "  #   # art_to_date_concat_full = art_to_date_concat + np.zeros(diff*96).tolist()\n",
        "  #   art_to_date_concat_full = art_to_date_concat + np.zeros(diff*emb_dimension).tolist()\n",
        "  #   art_to_date_full = [str(idt)] + [art_to_date_concat_full]\n",
        "  #   art_to_date_df = pd.DataFrame(\n",
        "  #       [art_to_date_full], \n",
        "  #       columns=['dt', 'articles_concat'])\n",
        "  #   art_enc_flipped = art_enc_flipped.append(art_to_date_df)"
      ],
      "execution_count": null,
      "outputs": []
    },
    {
      "cell_type": "code",
      "source": [
        "art_enc_flipped.head()\n",
        "# sp500_df.dt[:10]\n",
        "art_enc_flipped.shape, sp500_df.shape\n",
        "art_enc_flipped.dt = pd.to_datetime(art_enc_flipped.dt)"
      ],
      "metadata": {
        "id": "gypusX963UXN"
      },
      "execution_count": null,
      "outputs": []
    },
    {
      "cell_type": "code",
      "source": [
        "art_enc_flipped.head()"
      ],
      "metadata": {
        "colab": {
          "base_uri": "https://localhost:8080/",
          "height": 221
        },
        "id": "VKES5-yaCFiK",
        "outputId": "ef709e13-8ad8-4529-9077-7eabffd20c05"
      },
      "execution_count": null,
      "outputs": [
        {
          "output_type": "execute_result",
          "data": {
            "text/html": [
              "\n",
              "  <div id=\"df-72ed4556-d765-4f71-b9ec-340ca930f24d\">\n",
              "    <div class=\"colab-df-container\">\n",
              "      <div>\n",
              "<style scoped>\n",
              "    .dataframe tbody tr th:only-of-type {\n",
              "        vertical-align: middle;\n",
              "    }\n",
              "\n",
              "    .dataframe tbody tr th {\n",
              "        vertical-align: top;\n",
              "    }\n",
              "\n",
              "    .dataframe thead th {\n",
              "        text-align: right;\n",
              "    }\n",
              "</style>\n",
              "<table border=\"1\" class=\"dataframe\">\n",
              "  <thead>\n",
              "    <tr style=\"text-align: right;\">\n",
              "      <th></th>\n",
              "      <th>dt</th>\n",
              "      <th>articles_concat</th>\n",
              "    </tr>\n",
              "  </thead>\n",
              "  <tbody>\n",
              "    <tr>\n",
              "      <th>0</th>\n",
              "      <td>2016-04-20</td>\n",
              "      <td>spell broken netflix like traditional tv netwo...</td>\n",
              "    </tr>\n",
              "    <tr>\n",
              "      <th>0</th>\n",
              "      <td>2013-06-05</td>\n",
              "      <td>usd jpy bull 100 0 v bear 100 5 u k good news ...</td>\n",
              "    </tr>\n",
              "    <tr>\n",
              "      <th>0</th>\n",
              "      <td>2014-07-04</td>\n",
              "      <td>honda say expand u regional air bag recall inc...</td>\n",
              "    </tr>\n",
              "    <tr>\n",
              "      <th>0</th>\n",
              "      <td>2016-08-03</td>\n",
              "      <td>forget gold buy silver etf instead 4 stock wat...</td>\n",
              "    </tr>\n",
              "    <tr>\n",
              "      <th>0</th>\n",
              "      <td>2011-03-14</td>\n",
              "      <td>asia stock tumble japanese quake nikkei plunge...</td>\n",
              "    </tr>\n",
              "  </tbody>\n",
              "</table>\n",
              "</div>\n",
              "      <button class=\"colab-df-convert\" onclick=\"convertToInteractive('df-72ed4556-d765-4f71-b9ec-340ca930f24d')\"\n",
              "              title=\"Convert this dataframe to an interactive table.\"\n",
              "              style=\"display:none;\">\n",
              "        \n",
              "  <svg xmlns=\"http://www.w3.org/2000/svg\" height=\"24px\"viewBox=\"0 0 24 24\"\n",
              "       width=\"24px\">\n",
              "    <path d=\"M0 0h24v24H0V0z\" fill=\"none\"/>\n",
              "    <path d=\"M18.56 5.44l.94 2.06.94-2.06 2.06-.94-2.06-.94-.94-2.06-.94 2.06-2.06.94zm-11 1L8.5 8.5l.94-2.06 2.06-.94-2.06-.94L8.5 2.5l-.94 2.06-2.06.94zm10 10l.94 2.06.94-2.06 2.06-.94-2.06-.94-.94-2.06-.94 2.06-2.06.94z\"/><path d=\"M17.41 7.96l-1.37-1.37c-.4-.4-.92-.59-1.43-.59-.52 0-1.04.2-1.43.59L10.3 9.45l-7.72 7.72c-.78.78-.78 2.05 0 2.83L4 21.41c.39.39.9.59 1.41.59.51 0 1.02-.2 1.41-.59l7.78-7.78 2.81-2.81c.8-.78.8-2.07 0-2.86zM5.41 20L4 18.59l7.72-7.72 1.47 1.35L5.41 20z\"/>\n",
              "  </svg>\n",
              "      </button>\n",
              "      \n",
              "  <style>\n",
              "    .colab-df-container {\n",
              "      display:flex;\n",
              "      flex-wrap:wrap;\n",
              "      gap: 12px;\n",
              "    }\n",
              "\n",
              "    .colab-df-convert {\n",
              "      background-color: #E8F0FE;\n",
              "      border: none;\n",
              "      border-radius: 50%;\n",
              "      cursor: pointer;\n",
              "      display: none;\n",
              "      fill: #1967D2;\n",
              "      height: 32px;\n",
              "      padding: 0 0 0 0;\n",
              "      width: 32px;\n",
              "    }\n",
              "\n",
              "    .colab-df-convert:hover {\n",
              "      background-color: #E2EBFA;\n",
              "      box-shadow: 0px 1px 2px rgba(60, 64, 67, 0.3), 0px 1px 3px 1px rgba(60, 64, 67, 0.15);\n",
              "      fill: #174EA6;\n",
              "    }\n",
              "\n",
              "    [theme=dark] .colab-df-convert {\n",
              "      background-color: #3B4455;\n",
              "      fill: #D2E3FC;\n",
              "    }\n",
              "\n",
              "    [theme=dark] .colab-df-convert:hover {\n",
              "      background-color: #434B5C;\n",
              "      box-shadow: 0px 1px 3px 1px rgba(0, 0, 0, 0.15);\n",
              "      filter: drop-shadow(0px 1px 2px rgba(0, 0, 0, 0.3));\n",
              "      fill: #FFFFFF;\n",
              "    }\n",
              "  </style>\n",
              "\n",
              "      <script>\n",
              "        const buttonEl =\n",
              "          document.querySelector('#df-72ed4556-d765-4f71-b9ec-340ca930f24d button.colab-df-convert');\n",
              "        buttonEl.style.display =\n",
              "          google.colab.kernel.accessAllowed ? 'block' : 'none';\n",
              "\n",
              "        async function convertToInteractive(key) {\n",
              "          const element = document.querySelector('#df-72ed4556-d765-4f71-b9ec-340ca930f24d');\n",
              "          const dataTable =\n",
              "            await google.colab.kernel.invokeFunction('convertToInteractive',\n",
              "                                                     [key], {});\n",
              "          if (!dataTable) return;\n",
              "\n",
              "          const docLinkHtml = 'Like what you see? Visit the ' +\n",
              "            '<a target=\"_blank\" href=https://colab.research.google.com/notebooks/data_table.ipynb>data table notebook</a>'\n",
              "            + ' to learn more about interactive tables.';\n",
              "          element.innerHTML = '';\n",
              "          dataTable['output_type'] = 'display_data';\n",
              "          await google.colab.output.renderOutput(dataTable, element);\n",
              "          const docLink = document.createElement('div');\n",
              "          docLink.innerHTML = docLinkHtml;\n",
              "          element.appendChild(docLink);\n",
              "        }\n",
              "      </script>\n",
              "    </div>\n",
              "  </div>\n",
              "  "
            ],
            "text/plain": [
              "          dt                                    articles_concat\n",
              "0 2016-04-20  spell broken netflix like traditional tv netwo...\n",
              "0 2013-06-05  usd jpy bull 100 0 v bear 100 5 u k good news ...\n",
              "0 2014-07-04  honda say expand u regional air bag recall inc...\n",
              "0 2016-08-03  forget gold buy silver etf instead 4 stock wat...\n",
              "0 2011-03-14  asia stock tumble japanese quake nikkei plunge..."
            ]
          },
          "metadata": {},
          "execution_count": 42
        }
      ]
    },
    {
      "cell_type": "markdown",
      "source": [
        "### keras over texts concat"
      ],
      "metadata": {
        "id": "a0l2WW9gIE0p"
      }
    },
    {
      "cell_type": "code",
      "source": [
        "# import spacy\n",
        "# import gensim.downloader as api\n",
        "# # Load the spacy model that you have installed\n",
        "# # nlp = spacy.load('en_core_web_md')\n",
        "# w2v = api.load('word2vec-google-news-300')\n",
        "\n",
        "from gensim.test.utils import common_texts\n",
        "from gensim.models import Word2Vec\n",
        "\n",
        "def splitter(x):\n",
        "  return x.split(' ')\n",
        "\n",
        "w2v = Word2Vec(sentences=art_enc_flipped.articles_concat.apply(splitter), \n",
        "               size=100, window=5, min_count=1) #, workers=4)\n",
        "# w2v.save(\"word2vec.model\")"
      ],
      "metadata": {
        "id": "Ng2NQfyXIEI5"
      },
      "execution_count": null,
      "outputs": []
    },
    {
      "cell_type": "code",
      "source": [
        "print(w2v['car'].shape)\n",
        "w2v.most_similar(positive='cat')"
      ],
      "metadata": {
        "colab": {
          "base_uri": "https://localhost:8080/"
        },
        "id": "OSw3HlKiK1Hr",
        "outputId": "2f60ce38-88da-4e86-f8ab-4045855b4ef6"
      },
      "execution_count": null,
      "outputs": [
        {
          "output_type": "stream",
          "name": "stdout",
          "text": [
            "(100,)\n"
          ]
        },
        {
          "output_type": "stream",
          "name": "stderr",
          "text": [
            "/usr/local/lib/python3.7/dist-packages/ipykernel_launcher.py:1: DeprecationWarning: Call to deprecated `__getitem__` (Method will be removed in 4.0.0, use self.wv.__getitem__() instead).\n",
            "  \"\"\"Entry point for launching an IPython kernel.\n",
            "/usr/local/lib/python3.7/dist-packages/ipykernel_launcher.py:2: DeprecationWarning: Call to deprecated `most_similar` (Method will be removed in 4.0.0, use self.wv.most_similar() instead).\n",
            "  \n"
          ]
        },
        {
          "output_type": "execute_result",
          "data": {
            "text/plain": [
              "[('ralph', 0.9986608624458313),\n",
              " ('guide', 0.9985532760620117),\n",
              " ('nflx', 0.9984946846961975),\n",
              " ('lauren', 0.9984593987464905),\n",
              " ('roundup', 0.9980705976486206),\n",
              " ('might', 0.9980553388595581),\n",
              " ('tone', 0.9980517625808716),\n",
              " ('corporation', 0.9978456497192383),\n",
              " ('healthcare', 0.9977967143058777),\n",
              " ('dis', 0.9977138042449951)]"
            ]
          },
          "metadata": {},
          "execution_count": 69
        }
      ]
    },
    {
      "cell_type": "code",
      "source": [
        "len(w2v.wv.vocab)\n",
        "w2v.wv['gold'].shape\n",
        "# common_texts"
      ],
      "metadata": {
        "colab": {
          "base_uri": "https://localhost:8080/"
        },
        "id": "eteppgrdFnxT",
        "outputId": "63e29245-ec7a-437a-de4c-9856a384184c"
      },
      "execution_count": null,
      "outputs": [
        {
          "output_type": "execute_result",
          "data": {
            "text/plain": [
              "(100,)"
            ]
          },
          "metadata": {},
          "execution_count": 68
        }
      ]
    },
    {
      "cell_type": "code",
      "source": [
        "from keras.layers import TextVectorization\n",
        "\n",
        "art_enc_flipped.isna().sum()\n",
        "Vectorizer = TextVectorization(max_tokens=30000)\n",
        "Vectorizer.adapt(art_enc_flipped['articles_concat'].to_numpy())\n",
        "vocab = Vectorizer.get_vocabulary()"
      ],
      "metadata": {
        "id": "6LCE0QVrWgXz"
      },
      "execution_count": null,
      "outputs": []
    },
    {
      "cell_type": "code",
      "source": [
        "skip_vocab = list(map(str, vocab))\n",
        "num_tokens = len(skip_vocab)\n",
        "embedding_dim = len(w2v.wv['word']) # len(w2v['word'])\n",
        "embedding_matrix = np.zeros((num_tokens, embedding_dim))\n",
        "\n",
        "null_check_cnt = 0\n",
        "for i, word in enumerate(skip_vocab):\n",
        "  if i % 1000 == 0:\n",
        "    print(i, word, end='; ')\n",
        "  \n",
        "  if word == '' or word == '[UNK]': \n",
        "    null_check_cnt += 1\n",
        "  else: \n",
        "    if word in w2v.wv: # w2v: \n",
        "      embedding_matrix[i] = w2v.wv[word] # w2v[word]\n",
        "    else: \n",
        "      null_check_cnt += 1"
      ],
      "metadata": {
        "colab": {
          "base_uri": "https://localhost:8080/"
        },
        "id": "O8IpbTZeWfvt",
        "outputId": "ee5fa8f9-6d13-4687-82d0-476c4c76023b"
      },
      "execution_count": null,
      "outputs": [
        {
          "output_type": "stream",
          "name": "stdout",
          "text": [
            "0 ; 1000 protest; 2000 suffers; 3000 eni; 4000 dunkin; 5000 pif; 6000 par; 7000 unleash; 8000 lamar; 9000 baro; 10000 transmitter; 11000 safeguard; 12000 orbit; 13000 karyopharm; 14000 flush; 15000 credential; 16000 atrion; "
          ]
        }
      ]
    },
    {
      "cell_type": "code",
      "source": [
        "from keras import regularizers, optimizers, backend\n",
        "from keras.layers import TextVectorization, Embedding, Dense, Dropout, Input\n",
        "from keras.layers import LSTM, GlobalMaxPool1D, Softmax, Lambda\n",
        "from keras.models import Sequential\n",
        "from keras.initializers import Constant\n",
        "import tensorflow as tf\n",
        "\n",
        "print(embedding_matrix.shape)\n",
        "\n",
        "Embedding_layer = Embedding(\n",
        "    num_tokens, embedding_dim,\n",
        "    embeddings_initializer=Constant(embedding_matrix),\n",
        "    trainable=False)"
      ],
      "metadata": {
        "colab": {
          "base_uri": "https://localhost:8080/"
        },
        "id": "zQzcmderWe4n",
        "outputId": "8ff0d392-e755-46e1-f969-6000ba6aa4c2"
      },
      "execution_count": null,
      "outputs": [
        {
          "output_type": "stream",
          "name": "stdout",
          "text": [
            "(16776, 100)\n"
          ]
        }
      ]
    },
    {
      "cell_type": "code",
      "source": [
        "model = Sequential()\n",
        "model.add(Input(shape=(1,), dtype=tf.string))\n",
        "model.add(Vectorizer)\n",
        "model.add(Embedding_layer)\n",
        "model.add(LSTM(64, return_sequences=True))\n",
        "model.add(Lambda(lambda x: backend.mean(x, axis=1)))\n",
        "model.add(Dense(32, activation='relu', \n",
        "                kernel_regularizer=regularizers.l1_l2(l1=1e-5, l2=1e-4)))\n",
        "model.add(Dense(16, activation='relu', \n",
        "                kernel_regularizer=regularizers.l1_l2(l1=1e-5, l2=1e-4)))\n",
        "model.add(Dense(1, activation='sigmoid')) # tf.keras.activations.softmax\n",
        "\n",
        "adam = tf.keras.optimizers.Adam(learning_rate=0.01)\n",
        "metrics_list = tf.keras.metrics.AUC(curve='ROC')\n",
        "loss_func = tf.keras.losses.BinaryCrossentropy()\n",
        "model.compile(optimizer=adam, loss=loss_func, metrics=['accuracy'])\n",
        "print(model.summary())"
      ],
      "metadata": {
        "colab": {
          "base_uri": "https://localhost:8080/"
        },
        "id": "sY8wsUbUK00e",
        "outputId": "c5880310-10b4-40dc-fdce-876711218a19"
      },
      "execution_count": null,
      "outputs": [
        {
          "output_type": "stream",
          "name": "stdout",
          "text": [
            "Model: \"sequential_2\"\n",
            "_________________________________________________________________\n",
            " Layer (type)                Output Shape              Param #   \n",
            "=================================================================\n",
            " text_vectorization (TextVec  (None, None)             0         \n",
            " torization)                                                     \n",
            "                                                                 \n",
            " embedding (Embedding)       (None, None, 100)         1677600   \n",
            "                                                                 \n",
            " lstm_2 (LSTM)               (None, None, 64)          42240     \n",
            "                                                                 \n",
            " lambda_2 (Lambda)           (None, 64)                0         \n",
            "                                                                 \n",
            " dense_6 (Dense)             (None, 32)                2080      \n",
            "                                                                 \n",
            " dense_7 (Dense)             (None, 16)                528       \n",
            "                                                                 \n",
            " dense_8 (Dense)             (None, 1)                 17        \n",
            "                                                                 \n",
            "=================================================================\n",
            "Total params: 1,722,465\n",
            "Trainable params: 44,865\n",
            "Non-trainable params: 1,677,600\n",
            "_________________________________________________________________\n",
            "None\n"
          ]
        }
      ]
    },
    {
      "cell_type": "code",
      "source": [
        ""
      ],
      "metadata": {
        "id": "50l8VcedCMDC"
      },
      "execution_count": null,
      "outputs": []
    },
    {
      "cell_type": "code",
      "source": [
        "# индекс для финансового индекса \n",
        "sp500_df = sp500_enrich[['dt', 'chng_prev', 'candle_h_prev', \n",
        "                         'Close_prev', 'Volume_prev', 'target']] \n",
        "sp500_df = sp500_df.sort_values(by='dt') \n",
        "sp500_idxs = np.arange(len(sp500_df))\n",
        "sp500_df['idx'] = sp500_idxs\n",
        "sp500_df['prev_idx'] = sp500_df['idx'] + 1\n",
        "\n",
        "sp500_df = sp500_df.set_index('idx').join(sp500_df[['prev_idx', 'dt']].set_index('prev_idx'), \n",
        "                                  rsuffix='_prev', how='inner').reset_index()\n",
        "\n",
        "# объединим\n",
        "# связываем индекс с предыдущим \n",
        "united_df = art_enc_flipped.set_index('dt').join(\n",
        "    sp500_df.drop(columns=['dt', 'prev_idx']).set_index('dt_prev'), \n",
        "    rsuffix='_fin', how='inner').reset_index()"
      ],
      "metadata": {
        "id": "NP11morvdkVG"
      },
      "execution_count": null,
      "outputs": []
    },
    {
      "cell_type": "code",
      "source": [
        "united_df.head()"
      ],
      "metadata": {
        "colab": {
          "base_uri": "https://localhost:8080/",
          "height": 348
        },
        "id": "iq-If7OfCxDk",
        "outputId": "127ea871-c26e-4795-bd51-f8d9b4df580f"
      },
      "execution_count": null,
      "outputs": [
        {
          "output_type": "execute_result",
          "data": {
            "text/html": [
              "\n",
              "  <div id=\"df-8445de04-36c7-42e8-b89b-6988f67812b8\">\n",
              "    <div class=\"colab-df-container\">\n",
              "      <div>\n",
              "<style scoped>\n",
              "    .dataframe tbody tr th:only-of-type {\n",
              "        vertical-align: middle;\n",
              "    }\n",
              "\n",
              "    .dataframe tbody tr th {\n",
              "        vertical-align: top;\n",
              "    }\n",
              "\n",
              "    .dataframe thead th {\n",
              "        text-align: right;\n",
              "    }\n",
              "</style>\n",
              "<table border=\"1\" class=\"dataframe\">\n",
              "  <thead>\n",
              "    <tr style=\"text-align: right;\">\n",
              "      <th></th>\n",
              "      <th>level_0</th>\n",
              "      <th>articles_concat</th>\n",
              "      <th>index</th>\n",
              "      <th>chng_prev</th>\n",
              "      <th>candle_h_prev</th>\n",
              "      <th>Close_prev</th>\n",
              "      <th>Volume_prev</th>\n",
              "      <th>target</th>\n",
              "    </tr>\n",
              "  </thead>\n",
              "  <tbody>\n",
              "    <tr>\n",
              "      <th>0</th>\n",
              "      <td>2016-04-20</td>\n",
              "      <td>spell broken netflix like traditional tv netwo...</td>\n",
              "      <td>1899</td>\n",
              "      <td>0.88</td>\n",
              "      <td>14.73</td>\n",
              "      <td>2102.40</td>\n",
              "      <td>2324933333</td>\n",
              "      <td>0</td>\n",
              "    </tr>\n",
              "    <tr>\n",
              "      <th>1</th>\n",
              "      <td>2013-06-05</td>\n",
              "      <td>usd jpy bull 100 0 v bear 100 5 u k good news ...</td>\n",
              "      <td>1175</td>\n",
              "      <td>-20.15</td>\n",
              "      <td>22.22</td>\n",
              "      <td>1608.90</td>\n",
              "      <td>2017972222</td>\n",
              "      <td>1</td>\n",
              "    </tr>\n",
              "    <tr>\n",
              "      <th>2</th>\n",
              "      <td>2016-08-03</td>\n",
              "      <td>forget gold buy silver etf instead 4 stock wat...</td>\n",
              "      <td>1972</td>\n",
              "      <td>6.98</td>\n",
              "      <td>11.23</td>\n",
              "      <td>2163.79</td>\n",
              "      <td>2103627778</td>\n",
              "      <td>1</td>\n",
              "    </tr>\n",
              "    <tr>\n",
              "      <th>3</th>\n",
              "      <td>2011-03-14</td>\n",
              "      <td>asia stock tumble japanese quake nikkei plunge...</td>\n",
              "      <td>615</td>\n",
              "      <td>-4.80</td>\n",
              "      <td>14.82</td>\n",
              "      <td>1296.39</td>\n",
              "      <td>2250205556</td>\n",
              "      <td>0</td>\n",
              "    </tr>\n",
              "    <tr>\n",
              "      <th>4</th>\n",
              "      <td>2013-03-01</td>\n",
              "      <td>sequestration time enter precious metal market...</td>\n",
              "      <td>1109</td>\n",
              "      <td>3.52</td>\n",
              "      <td>18.51</td>\n",
              "      <td>1518.20</td>\n",
              "      <td>2053116667</td>\n",
              "      <td>1</td>\n",
              "    </tr>\n",
              "  </tbody>\n",
              "</table>\n",
              "</div>\n",
              "      <button class=\"colab-df-convert\" onclick=\"convertToInteractive('df-8445de04-36c7-42e8-b89b-6988f67812b8')\"\n",
              "              title=\"Convert this dataframe to an interactive table.\"\n",
              "              style=\"display:none;\">\n",
              "        \n",
              "  <svg xmlns=\"http://www.w3.org/2000/svg\" height=\"24px\"viewBox=\"0 0 24 24\"\n",
              "       width=\"24px\">\n",
              "    <path d=\"M0 0h24v24H0V0z\" fill=\"none\"/>\n",
              "    <path d=\"M18.56 5.44l.94 2.06.94-2.06 2.06-.94-2.06-.94-.94-2.06-.94 2.06-2.06.94zm-11 1L8.5 8.5l.94-2.06 2.06-.94-2.06-.94L8.5 2.5l-.94 2.06-2.06.94zm10 10l.94 2.06.94-2.06 2.06-.94-2.06-.94-.94-2.06-.94 2.06-2.06.94z\"/><path d=\"M17.41 7.96l-1.37-1.37c-.4-.4-.92-.59-1.43-.59-.52 0-1.04.2-1.43.59L10.3 9.45l-7.72 7.72c-.78.78-.78 2.05 0 2.83L4 21.41c.39.39.9.59 1.41.59.51 0 1.02-.2 1.41-.59l7.78-7.78 2.81-2.81c.8-.78.8-2.07 0-2.86zM5.41 20L4 18.59l7.72-7.72 1.47 1.35L5.41 20z\"/>\n",
              "  </svg>\n",
              "      </button>\n",
              "      \n",
              "  <style>\n",
              "    .colab-df-container {\n",
              "      display:flex;\n",
              "      flex-wrap:wrap;\n",
              "      gap: 12px;\n",
              "    }\n",
              "\n",
              "    .colab-df-convert {\n",
              "      background-color: #E8F0FE;\n",
              "      border: none;\n",
              "      border-radius: 50%;\n",
              "      cursor: pointer;\n",
              "      display: none;\n",
              "      fill: #1967D2;\n",
              "      height: 32px;\n",
              "      padding: 0 0 0 0;\n",
              "      width: 32px;\n",
              "    }\n",
              "\n",
              "    .colab-df-convert:hover {\n",
              "      background-color: #E2EBFA;\n",
              "      box-shadow: 0px 1px 2px rgba(60, 64, 67, 0.3), 0px 1px 3px 1px rgba(60, 64, 67, 0.15);\n",
              "      fill: #174EA6;\n",
              "    }\n",
              "\n",
              "    [theme=dark] .colab-df-convert {\n",
              "      background-color: #3B4455;\n",
              "      fill: #D2E3FC;\n",
              "    }\n",
              "\n",
              "    [theme=dark] .colab-df-convert:hover {\n",
              "      background-color: #434B5C;\n",
              "      box-shadow: 0px 1px 3px 1px rgba(0, 0, 0, 0.15);\n",
              "      filter: drop-shadow(0px 1px 2px rgba(0, 0, 0, 0.3));\n",
              "      fill: #FFFFFF;\n",
              "    }\n",
              "  </style>\n",
              "\n",
              "      <script>\n",
              "        const buttonEl =\n",
              "          document.querySelector('#df-8445de04-36c7-42e8-b89b-6988f67812b8 button.colab-df-convert');\n",
              "        buttonEl.style.display =\n",
              "          google.colab.kernel.accessAllowed ? 'block' : 'none';\n",
              "\n",
              "        async function convertToInteractive(key) {\n",
              "          const element = document.querySelector('#df-8445de04-36c7-42e8-b89b-6988f67812b8');\n",
              "          const dataTable =\n",
              "            await google.colab.kernel.invokeFunction('convertToInteractive',\n",
              "                                                     [key], {});\n",
              "          if (!dataTable) return;\n",
              "\n",
              "          const docLinkHtml = 'Like what you see? Visit the ' +\n",
              "            '<a target=\"_blank\" href=https://colab.research.google.com/notebooks/data_table.ipynb>data table notebook</a>'\n",
              "            + ' to learn more about interactive tables.';\n",
              "          element.innerHTML = '';\n",
              "          dataTable['output_type'] = 'display_data';\n",
              "          await google.colab.output.renderOutput(dataTable, element);\n",
              "          const docLink = document.createElement('div');\n",
              "          docLink.innerHTML = docLinkHtml;\n",
              "          element.appendChild(docLink);\n",
              "        }\n",
              "      </script>\n",
              "    </div>\n",
              "  </div>\n",
              "  "
            ],
            "text/plain": [
              "     level_0                                    articles_concat  index  \\\n",
              "0 2016-04-20  spell broken netflix like traditional tv netwo...   1899   \n",
              "1 2013-06-05  usd jpy bull 100 0 v bear 100 5 u k good news ...   1175   \n",
              "2 2016-08-03  forget gold buy silver etf instead 4 stock wat...   1972   \n",
              "3 2011-03-14  asia stock tumble japanese quake nikkei plunge...    615   \n",
              "4 2013-03-01  sequestration time enter precious metal market...   1109   \n",
              "\n",
              "   chng_prev  candle_h_prev  Close_prev  Volume_prev  target  \n",
              "0       0.88          14.73     2102.40   2324933333       0  \n",
              "1     -20.15          22.22     1608.90   2017972222       1  \n",
              "2       6.98          11.23     2163.79   2103627778       1  \n",
              "3      -4.80          14.82     1296.39   2250205556       0  \n",
              "4       3.52          18.51     1518.20   2053116667       1  "
            ]
          },
          "metadata": {},
          "execution_count": 99
        }
      ]
    },
    {
      "cell_type": "code",
      "source": [
        "from sklearn.model_selection import train_test_split\n",
        "X_train, X_val, y_train, y_val = train_test_split(united_df['articles_concat'],\n",
        "                                                  united_df['target'], test_size=0.3)"
      ],
      "metadata": {
        "id": "6fmkEp5ndfgc"
      },
      "execution_count": null,
      "outputs": []
    },
    {
      "cell_type": "code",
      "source": [
        "model_history = model.fit(X_train, \n",
        "                          y_train, \n",
        "                          batch_size=16, \n",
        "                          epochs=5, \n",
        "                          validation_split=0.1)"
      ],
      "metadata": {
        "colab": {
          "base_uri": "https://localhost:8080/"
        },
        "id": "XFH_EA9jcEoC",
        "outputId": "7d685bc1-b716-4926-abe7-0b7fa2e5d2a2"
      },
      "execution_count": null,
      "outputs": [
        {
          "output_type": "stream",
          "name": "stdout",
          "text": [
            "Epoch 1/5\n",
            "105/105 [==============================] - 19s 113ms/step - loss: 0.6966 - accuracy: 0.5427 - val_loss: 0.7006 - val_accuracy: 0.4920\n",
            "Epoch 2/5\n",
            "105/105 [==============================] - 6s 55ms/step - loss: 0.6931 - accuracy: 0.5427 - val_loss: 0.7003 - val_accuracy: 0.4920\n",
            "Epoch 3/5\n",
            "105/105 [==============================] - 5s 45ms/step - loss: 0.6913 - accuracy: 0.5427 - val_loss: 0.6993 - val_accuracy: 0.4920\n",
            "Epoch 4/5\n",
            "105/105 [==============================] - 5s 46ms/step - loss: 0.6908 - accuracy: 0.5427 - val_loss: 0.6989 - val_accuracy: 0.4920\n",
            "Epoch 5/5\n",
            "105/105 [==============================] - 5s 45ms/step - loss: 0.6904 - accuracy: 0.5427 - val_loss: 0.6982 - val_accuracy: 0.4920\n"
          ]
        }
      ]
    },
    {
      "cell_type": "code",
      "source": [
        ""
      ],
      "metadata": {
        "id": "R5yWLj2UILlG"
      },
      "execution_count": null,
      "outputs": []
    },
    {
      "cell_type": "code",
      "source": [
        "from sklearn.metrics import accuracy_score, roc_auc_score, precision_recall_fscore_support\n",
        "\n",
        "pred_proba = model.predict(X_val)\n",
        "pred = pred_proba.round()\n",
        "\n",
        "print(accuracy_score(y_val, pred))\n",
        "print(precision_recall_fscore_support(y_val, pred))\n",
        "print(roc_auc_score(y_val, pred_proba))"
      ],
      "metadata": {
        "colab": {
          "base_uri": "https://localhost:8080/"
        },
        "id": "iM04li07cEfD",
        "outputId": "6e9aa6d5-dcb8-4ca8-984c-294924daeaab"
      },
      "execution_count": null,
      "outputs": [
        {
          "output_type": "stream",
          "name": "stdout",
          "text": [
            "0.550125313283208\n",
            "(array([0.        , 0.55012531]), array([0., 1.]), array([0.        , 0.70978173]), array([359, 439]))\n",
            "0.5\n"
          ]
        },
        {
          "output_type": "stream",
          "name": "stderr",
          "text": [
            "/usr/local/lib/python3.7/dist-packages/sklearn/metrics/_classification.py:1318: UndefinedMetricWarning: Precision and F-score are ill-defined and being set to 0.0 in labels with no predicted samples. Use `zero_division` parameter to control this behavior.\n",
            "  _warn_prf(average, modifier, msg_start, len(result))\n"
          ]
        }
      ]
    },
    {
      "cell_type": "code",
      "source": [
        "import sklearn.metrics as metrics\n",
        "\n",
        "fpr, tpr, threshold = metrics.roc_curve(y_val, pred_proba)\n",
        "roc_auc = metrics.auc(fpr, tpr)\n",
        "\n",
        "# method I: plt\n",
        "import matplotlib.pyplot as plt\n",
        "plt.title('Receiver Operating Characteristic')\n",
        "plt.plot(fpr, tpr, 'b', label = 'AUC = %0.2f' % roc_auc)\n",
        "plt.legend(loc = 'lower right')\n",
        "plt.plot([0, 1], [0, 1],'r--')\n",
        "plt.xlim([0, 1])\n",
        "plt.ylim([0, 1])\n",
        "plt.ylabel('True Positive Rate')\n",
        "plt.xlabel('False Positive Rate')\n",
        "plt.show()"
      ],
      "metadata": {
        "colab": {
          "base_uri": "https://localhost:8080/",
          "height": 315
        },
        "id": "e5Y7yUiNcETN",
        "outputId": "5e4e7a79-7fc4-4beb-8bf4-47a4801c9599"
      },
      "execution_count": null,
      "outputs": [
        {
          "output_type": "display_data",
          "data": {
            "image/png": "[encoded data removed]",
            "text/plain": [
              "<Figure size 432x288 with 1 Axes>"
            ]
          },
          "metadata": {
            "needs_background": "light"
          }
        }
      ]
    },
    {
      "cell_type": "markdown",
      "source": [
        "---"
      ],
      "metadata": {
        "id": "wz4CocHZK3gf"
      }
    },
    {
      "cell_type": "code",
      "metadata": {
        "colab": {
          "base_uri": "https://localhost:8080/",
          "height": 130
        },
        "id": "0gopreNThISy",
        "outputId": "eae74d31-5cb5-4689-871c-66b967f8394d"
      },
      "source": [
        "# формат дат \n",
        "art_enc_flipped['dt'] = art_enc_flipped['dt'].astype('datetime64[ns]')\n",
        "\n",
        "# объединим с числовыми данными о текстах \n",
        "reut_art_enc_df = art_enc_flipped.set_index('dt').join(\n",
        "    reut_enrich_gr[['dt', 'weekday_n', 'hcnt_gr', 'weekday_shift']].set_index('dt')\n",
        "  , how='inner').reset_index().drop_duplicates(subset=['dt'])\n",
        "\n",
        "reut_art_enc_df = reut_art_enc_df.sort_values(by='dt')\n",
        "reut_art_enc_df.head(2) "
      ],
      "execution_count": null,
      "outputs": [
        {
          "output_type": "execute_result",
          "data": {
            "text/html": [
              "\n",
              "  <div id=\"df-df6bb029-9da8-457d-b5df-a7b09aa2fd44\">\n",
              "    <div class=\"colab-df-container\">\n",
              "      <div>\n",
              "<style scoped>\n",
              "    .dataframe tbody tr th:only-of-type {\n",
              "        vertical-align: middle;\n",
              "    }\n",
              "\n",
              "    .dataframe tbody tr th {\n",
              "        vertical-align: top;\n",
              "    }\n",
              "\n",
              "    .dataframe thead th {\n",
              "        text-align: right;\n",
              "    }\n",
              "</style>\n",
              "<table border=\"1\" class=\"dataframe\">\n",
              "  <thead>\n",
              "    <tr style=\"text-align: right;\">\n",
              "      <th></th>\n",
              "      <th>dt</th>\n",
              "      <th>articles_concat</th>\n",
              "      <th>weekday_n</th>\n",
              "      <th>hcnt_gr</th>\n",
              "      <th>weekday_shift</th>\n",
              "    </tr>\n",
              "  </thead>\n",
              "  <tbody>\n",
              "    <tr>\n",
              "      <th>0</th>\n",
              "      <td>2008-10-02</td>\n",
              "      <td>[-0.3580548167228699, -0.9777846932411194, -1....</td>\n",
              "      <td>3</td>\n",
              "      <td>1.0</td>\n",
              "      <td>3</td>\n",
              "    </tr>\n",
              "    <tr>\n",
              "      <th>1</th>\n",
              "      <td>2008-10-03</td>\n",
              "      <td>[0.533836841583252, -0.9398090243339539, -0.75...</td>\n",
              "      <td>4</td>\n",
              "      <td>4.0</td>\n",
              "      <td>4</td>\n",
              "    </tr>\n",
              "  </tbody>\n",
              "</table>\n",
              "</div>\n",
              "      <button class=\"colab-df-convert\" onclick=\"convertToInteractive('df-df6bb029-9da8-457d-b5df-a7b09aa2fd44')\"\n",
              "              title=\"Convert this dataframe to an interactive table.\"\n",
              "              style=\"display:none;\">\n",
              "        \n",
              "  <svg xmlns=\"http://www.w3.org/2000/svg\" height=\"24px\"viewBox=\"0 0 24 24\"\n",
              "       width=\"24px\">\n",
              "    <path d=\"M0 0h24v24H0V0z\" fill=\"none\"/>\n",
              "    <path d=\"M18.56 5.44l.94 2.06.94-2.06 2.06-.94-2.06-.94-.94-2.06-.94 2.06-2.06.94zm-11 1L8.5 8.5l.94-2.06 2.06-.94-2.06-.94L8.5 2.5l-.94 2.06-2.06.94zm10 10l.94 2.06.94-2.06 2.06-.94-2.06-.94-.94-2.06-.94 2.06-2.06.94z\"/><path d=\"M17.41 7.96l-1.37-1.37c-.4-.4-.92-.59-1.43-.59-.52 0-1.04.2-1.43.59L10.3 9.45l-7.72 7.72c-.78.78-.78 2.05 0 2.83L4 21.41c.39.39.9.59 1.41.59.51 0 1.02-.2 1.41-.59l7.78-7.78 2.81-2.81c.8-.78.8-2.07 0-2.86zM5.41 20L4 18.59l7.72-7.72 1.47 1.35L5.41 20z\"/>\n",
              "  </svg>\n",
              "      </button>\n",
              "      \n",
              "  <style>\n",
              "    .colab-df-container {\n",
              "      display:flex;\n",
              "      flex-wrap:wrap;\n",
              "      gap: 12px;\n",
              "    }\n",
              "\n",
              "    .colab-df-convert {\n",
              "      background-color: #E8F0FE;\n",
              "      border: none;\n",
              "      border-radius: 50%;\n",
              "      cursor: pointer;\n",
              "      display: none;\n",
              "      fill: #1967D2;\n",
              "      height: 32px;\n",
              "      padding: 0 0 0 0;\n",
              "      width: 32px;\n",
              "    }\n",
              "\n",
              "    .colab-df-convert:hover {\n",
              "      background-color: #E2EBFA;\n",
              "      box-shadow: 0px 1px 2px rgba(60, 64, 67, 0.3), 0px 1px 3px 1px rgba(60, 64, 67, 0.15);\n",
              "      fill: #174EA6;\n",
              "    }\n",
              "\n",
              "    [theme=dark] .colab-df-convert {\n",
              "      background-color: #3B4455;\n",
              "      fill: #D2E3FC;\n",
              "    }\n",
              "\n",
              "    [theme=dark] .colab-df-convert:hover {\n",
              "      background-color: #434B5C;\n",
              "      box-shadow: 0px 1px 3px 1px rgba(0, 0, 0, 0.15);\n",
              "      filter: drop-shadow(0px 1px 2px rgba(0, 0, 0, 0.3));\n",
              "      fill: #FFFFFF;\n",
              "    }\n",
              "  </style>\n",
              "\n",
              "      <script>\n",
              "        const buttonEl =\n",
              "          document.querySelector('#df-df6bb029-9da8-457d-b5df-a7b09aa2fd44 button.colab-df-convert');\n",
              "        buttonEl.style.display =\n",
              "          google.colab.kernel.accessAllowed ? 'block' : 'none';\n",
              "\n",
              "        async function convertToInteractive(key) {\n",
              "          const element = document.querySelector('#df-df6bb029-9da8-457d-b5df-a7b09aa2fd44');\n",
              "          const dataTable =\n",
              "            await google.colab.kernel.invokeFunction('convertToInteractive',\n",
              "                                                     [key], {});\n",
              "          if (!dataTable) return;\n",
              "\n",
              "          const docLinkHtml = 'Like what you see? Visit the ' +\n",
              "            '<a target=\"_blank\" href=https://colab.research.google.com/notebooks/data_table.ipynb>data table notebook</a>'\n",
              "            + ' to learn more about interactive tables.';\n",
              "          element.innerHTML = '';\n",
              "          dataTable['output_type'] = 'display_data';\n",
              "          await google.colab.output.renderOutput(dataTable, element);\n",
              "          const docLink = document.createElement('div');\n",
              "          docLink.innerHTML = docLinkHtml;\n",
              "          element.appendChild(docLink);\n",
              "        }\n",
              "      </script>\n",
              "    </div>\n",
              "  </div>\n",
              "  "
            ],
            "text/plain": [
              "          dt                                    articles_concat  weekday_n  \\\n",
              "0 2008-10-02  [-0.3580548167228699, -0.9777846932411194, -1....          3   \n",
              "1 2008-10-03  [0.533836841583252, -0.9398090243339539, -0.75...          4   \n",
              "\n",
              "   hcnt_gr  weekday_shift  \n",
              "0      1.0              3  \n",
              "1      4.0              4  "
            ]
          },
          "metadata": {},
          "execution_count": 43
        }
      ]
    },
    {
      "cell_type": "code",
      "metadata": {
        "colab": {
          "base_uri": "https://localhost:8080/"
        },
        "id": "60IirXqOv7Q4",
        "outputId": "b9ba0cca-155b-41e1-a90a-8647470f9882"
      },
      "source": [
        "reut_art_enc_df.head()\n",
        "len(list(reut_art_enc_df['articles_concat'])[2]) , len(list(art_enc_flipped['articles_concat'])[4])\n",
        "# len(list(spacy_enc_df['headl_enc'])[0])"
      ],
      "execution_count": null,
      "outputs": [
        {
          "output_type": "execute_result",
          "data": {
            "text/plain": [
              "(288, 288)"
            ]
          },
          "metadata": {},
          "execution_count": 44
        }
      ]
    },
    {
      "cell_type": "markdown",
      "metadata": {
        "id": "3GMNKBaphJuu"
      },
      "source": [
        "### Негативные слова"
      ]
    },
    {
      "cell_type": "code",
      "metadata": {
        "colab": {
          "base_uri": "https://localhost:8080/"
        },
        "id": "FuDPZ2NO_886",
        "outputId": "2bc8e38b-4999-4283-ab81-e251b4706056"
      },
      "source": [
        "! pip install pysentiment2\n",
        "\n",
        "import pysentiment2 as ps\n",
        "hiv4 = ps.HIV4()"
      ],
      "execution_count": null,
      "outputs": [
        {
          "output_type": "stream",
          "name": "stdout",
          "text": [
            "Collecting pysentiment2\n",
            "  Downloading pysentiment2-0.1.1-py3-none-any.whl (1.9 MB)\n",
            "\u001b[K     |████████████████████████████████| 1.9 MB 4.3 MB/s \n",
            "\u001b[?25hRequirement already satisfied: nltk>=2.0 in /usr/local/lib/python3.7/dist-packages (from pysentiment2) (3.2.5)\n",
            "Requirement already satisfied: pandas in /usr/local/lib/python3.7/dist-packages (from pysentiment2) (1.3.5)\n",
            "Requirement already satisfied: six in /usr/local/lib/python3.7/dist-packages (from nltk>=2.0->pysentiment2) (1.15.0)\n",
            "Requirement already satisfied: numpy>=1.17.3 in /usr/local/lib/python3.7/dist-packages (from pandas->pysentiment2) (1.21.5)\n",
            "Requirement already satisfied: python-dateutil>=2.7.3 in /usr/local/lib/python3.7/dist-packages (from pandas->pysentiment2) (2.8.2)\n",
            "Requirement already satisfied: pytz>=2017.3 in /usr/local/lib/python3.7/dist-packages (from pandas->pysentiment2) (2018.9)\n",
            "Installing collected packages: pysentiment2\n",
            "Successfully installed pysentiment2-0.1.1\n"
          ]
        }
      ]
    },
    {
      "cell_type": "code",
      "metadata": {
        "colab": {
          "base_uri": "https://localhost:8080/"
        },
        "id": "62lcwYaq_887",
        "outputId": "08a3a2ac-faed-4523-be72-a82d7a90fed9"
      },
      "source": [
        "def pos_neg_score(text):\n",
        "  text_tokenized_hiv4 = hiv4.tokenize(text)\n",
        "  pos = hiv4.get_score(text_tokenized_hiv4)['Positive']\n",
        "  neg = hiv4.get_score(text_tokenized_hiv4)['Negative']\n",
        "  len_sent = len(text.split(' '))\n",
        "\n",
        "  return neg / len_sent\n",
        "\n",
        "\n",
        "# neg_score = headl_tok.apply(pos_neg_score) # собран из reut_enrich_gr\n",
        "neg_score = reut_enrich_gr['Headlines'].apply(tok_n_join).apply(pos_neg_score)\n",
        "date_neg = reut_enrich_gr[['dt', 'hcnt_gr']] \n",
        "date_neg['neg_score'] = neg_score \n",
        "# neg_score = reut_enrich_gr_cut['Headlines'].apply(tok_n_join).apply(pos_neg_score)\n",
        "# date_neg = pd.DataFrame(reut_enrich_gr_cut['dt'])\n",
        "# date_neg['neg_score'] = neg_score "
      ],
      "execution_count": null,
      "outputs": [
        {
          "output_type": "stream",
          "name": "stderr",
          "text": [
            "/usr/local/lib/python3.7/dist-packages/ipykernel_launcher.py:13: SettingWithCopyWarning: \n",
            "A value is trying to be set on a copy of a slice from a DataFrame.\n",
            "Try using .loc[row_indexer,col_indexer] = value instead\n",
            "\n",
            "See the caveats in the documentation: https://pandas.pydata.org/pandas-docs/stable/user_guide/indexing.html#returning-a-view-versus-a-copy\n",
            "  del sys.path[0]\n"
          ]
        }
      ]
    },
    {
      "cell_type": "code",
      "metadata": {
        "colab": {
          "base_uri": "https://localhost:8080/",
          "height": 530
        },
        "id": "qqoc98rEyZm1",
        "outputId": "6dafd219-282c-4686-cf79-2d9025c98993"
      },
      "source": [
        "# по headl_tok, построенному на reut_enrich_gr \n",
        "# plt.hist(date_neg['neg_score'][date_neg['neg_score'] != 0])\n",
        "\n",
        "plotter = date_neg[date_neg['dt'] >= '2012-01-01']\n",
        "plotter['year_month'] = date_neg['dt'].apply(str).apply(str_t_year) + '_' + date_neg['dt'].apply(str).apply(str_t_month)\n",
        "\n",
        "ymmean = plotter[['year_month', 'neg_score']].groupby('year_month', as_index=False).mean()\n",
        "\n",
        "fig, ax = plt.subplots()\n",
        "ax.bar(ymmean['year_month'], ymmean['neg_score'])\n",
        "\n",
        "fig.set_figwidth(20) \n",
        "fig.set_figheight(8)\n",
        "ax.set_title('Средний \\\"индекс негативных слов\\\" по месяцам')\n",
        "ax.set_xlabel('год_месяц') \n",
        "plt.xticks(rotation=90)\n",
        "\n",
        "plt.show() "
      ],
      "execution_count": null,
      "outputs": [
        {
          "output_type": "stream",
          "name": "stderr",
          "text": [
            "/usr/local/lib/python3.7/dist-packages/ipykernel_launcher.py:5: SettingWithCopyWarning: \n",
            "A value is trying to be set on a copy of a slice from a DataFrame.\n",
            "Try using .loc[row_indexer,col_indexer] = value instead\n",
            "\n",
            "See the caveats in the documentation: https://pandas.pydata.org/pandas-docs/stable/user_guide/indexing.html#returning-a-view-versus-a-copy\n",
            "  \"\"\"\n"
          ]
        },
        {
          "output_type": "display_data",
          "data": {
            "image/png": "[encoded data removed]",
            "text/plain": [
              "<Figure size 1440x576 with 1 Axes>"
            ]
          },
          "metadata": {
            "needs_background": "light"
          }
        }
      ]
    },
    {
      "cell_type": "code",
      "metadata": {
        "id": "ZHv8izVmyaac"
      },
      "source": [
        ""
      ],
      "execution_count": null,
      "outputs": []
    },
    {
      "cell_type": "code",
      "metadata": {
        "colab": {
          "base_uri": "https://localhost:8080/",
          "height": 266
        },
        "id": "mE-aEE9GwxMv",
        "outputId": "70ba05e6-d04d-4dde-e2f6-02f437f49763"
      },
      "source": [
        "# получаем датасет с эмбеддингами, колич. данными о новостях и средним индексом негативности \n",
        "avg_neg_score = date_neg[['dt', 'neg_score']].groupby(by='dt', as_index=False).mean()\n",
        "reut_enc_df = reut_art_enc_df.set_index('dt').join(avg_neg_score.set_index('dt')\n",
        "                  , how='inner').reset_index()\n",
        "\n",
        "reut_enc_df.head() "
      ],
      "execution_count": null,
      "outputs": [
        {
          "output_type": "execute_result",
          "data": {
            "text/html": [
              "\n",
              "  <div id=\"df-38b5bc3d-2c2e-459e-826f-5778de8a15ce\">\n",
              "    <div class=\"colab-df-container\">\n",
              "      <div>\n",
              "<style scoped>\n",
              "    .dataframe tbody tr th:only-of-type {\n",
              "        vertical-align: middle;\n",
              "    }\n",
              "\n",
              "    .dataframe tbody tr th {\n",
              "        vertical-align: top;\n",
              "    }\n",
              "\n",
              "    .dataframe thead th {\n",
              "        text-align: right;\n",
              "    }\n",
              "</style>\n",
              "<table border=\"1\" class=\"dataframe\">\n",
              "  <thead>\n",
              "    <tr style=\"text-align: right;\">\n",
              "      <th></th>\n",
              "      <th>dt</th>\n",
              "      <th>articles_concat</th>\n",
              "      <th>weekday_n</th>\n",
              "      <th>hcnt_gr</th>\n",
              "      <th>weekday_shift</th>\n",
              "      <th>neg_score</th>\n",
              "    </tr>\n",
              "  </thead>\n",
              "  <tbody>\n",
              "    <tr>\n",
              "      <th>0</th>\n",
              "      <td>2008-10-02</td>\n",
              "      <td>[-0.3580548167228699, -0.9777846932411194, -1....</td>\n",
              "      <td>3</td>\n",
              "      <td>1.0</td>\n",
              "      <td>3</td>\n",
              "      <td>0.125000</td>\n",
              "    </tr>\n",
              "    <tr>\n",
              "      <th>1</th>\n",
              "      <td>2008-10-03</td>\n",
              "      <td>[0.533836841583252, -0.9398090243339539, -0.75...</td>\n",
              "      <td>4</td>\n",
              "      <td>4.0</td>\n",
              "      <td>4</td>\n",
              "      <td>0.000000</td>\n",
              "    </tr>\n",
              "    <tr>\n",
              "      <th>2</th>\n",
              "      <td>2008-10-06</td>\n",
              "      <td>[-0.16671057045459747, 0.7351138591766357, -1....</td>\n",
              "      <td>0</td>\n",
              "      <td>2.0</td>\n",
              "      <td>0</td>\n",
              "      <td>0.111111</td>\n",
              "    </tr>\n",
              "    <tr>\n",
              "      <th>3</th>\n",
              "      <td>2008-10-07</td>\n",
              "      <td>[0.10771000385284424, 0.021953009068965912, -1...</td>\n",
              "      <td>1</td>\n",
              "      <td>2.0</td>\n",
              "      <td>1</td>\n",
              "      <td>0.111111</td>\n",
              "    </tr>\n",
              "    <tr>\n",
              "      <th>4</th>\n",
              "      <td>2008-10-08</td>\n",
              "      <td>[0.3373503088951111, 0.6633867025375366, -1.19...</td>\n",
              "      <td>2</td>\n",
              "      <td>1.0</td>\n",
              "      <td>2</td>\n",
              "      <td>0.100000</td>\n",
              "    </tr>\n",
              "  </tbody>\n",
              "</table>\n",
              "</div>\n",
              "      <button class=\"colab-df-convert\" onclick=\"convertToInteractive('df-38b5bc3d-2c2e-459e-826f-5778de8a15ce')\"\n",
              "              title=\"Convert this dataframe to an interactive table.\"\n",
              "              style=\"display:none;\">\n",
              "        \n",
              "  <svg xmlns=\"http://www.w3.org/2000/svg\" height=\"24px\"viewBox=\"0 0 24 24\"\n",
              "       width=\"24px\">\n",
              "    <path d=\"M0 0h24v24H0V0z\" fill=\"none\"/>\n",
              "    <path d=\"M18.56 5.44l.94 2.06.94-2.06 2.06-.94-2.06-.94-.94-2.06-.94 2.06-2.06.94zm-11 1L8.5 8.5l.94-2.06 2.06-.94-2.06-.94L8.5 2.5l-.94 2.06-2.06.94zm10 10l.94 2.06.94-2.06 2.06-.94-2.06-.94-.94-2.06-.94 2.06-2.06.94z\"/><path d=\"M17.41 7.96l-1.37-1.37c-.4-.4-.92-.59-1.43-.59-.52 0-1.04.2-1.43.59L10.3 9.45l-7.72 7.72c-.78.78-.78 2.05 0 2.83L4 21.41c.39.39.9.59 1.41.59.51 0 1.02-.2 1.41-.59l7.78-7.78 2.81-2.81c.8-.78.8-2.07 0-2.86zM5.41 20L4 18.59l7.72-7.72 1.47 1.35L5.41 20z\"/>\n",
              "  </svg>\n",
              "      </button>\n",
              "      \n",
              "  <style>\n",
              "    .colab-df-container {\n",
              "      display:flex;\n",
              "      flex-wrap:wrap;\n",
              "      gap: 12px;\n",
              "    }\n",
              "\n",
              "    .colab-df-convert {\n",
              "      background-color: #E8F0FE;\n",
              "      border: none;\n",
              "      border-radius: 50%;\n",
              "      cursor: pointer;\n",
              "      display: none;\n",
              "      fill: #1967D2;\n",
              "      height: 32px;\n",
              "      padding: 0 0 0 0;\n",
              "      width: 32px;\n",
              "    }\n",
              "\n",
              "    .colab-df-convert:hover {\n",
              "      background-color: #E2EBFA;\n",
              "      box-shadow: 0px 1px 2px rgba(60, 64, 67, 0.3), 0px 1px 3px 1px rgba(60, 64, 67, 0.15);\n",
              "      fill: #174EA6;\n",
              "    }\n",
              "\n",
              "    [theme=dark] .colab-df-convert {\n",
              "      background-color: #3B4455;\n",
              "      fill: #D2E3FC;\n",
              "    }\n",
              "\n",
              "    [theme=dark] .colab-df-convert:hover {\n",
              "      background-color: #434B5C;\n",
              "      box-shadow: 0px 1px 3px 1px rgba(0, 0, 0, 0.15);\n",
              "      filter: drop-shadow(0px 1px 2px rgba(0, 0, 0, 0.3));\n",
              "      fill: #FFFFFF;\n",
              "    }\n",
              "  </style>\n",
              "\n",
              "      <script>\n",
              "        const buttonEl =\n",
              "          document.querySelector('#df-38b5bc3d-2c2e-459e-826f-5778de8a15ce button.colab-df-convert');\n",
              "        buttonEl.style.display =\n",
              "          google.colab.kernel.accessAllowed ? 'block' : 'none';\n",
              "\n",
              "        async function convertToInteractive(key) {\n",
              "          const element = document.querySelector('#df-38b5bc3d-2c2e-459e-826f-5778de8a15ce');\n",
              "          const dataTable =\n",
              "            await google.colab.kernel.invokeFunction('convertToInteractive',\n",
              "                                                     [key], {});\n",
              "          if (!dataTable) return;\n",
              "\n",
              "          const docLinkHtml = 'Like what you see? Visit the ' +\n",
              "            '<a target=\"_blank\" href=https://colab.research.google.com/notebooks/data_table.ipynb>data table notebook</a>'\n",
              "            + ' to learn more about interactive tables.';\n",
              "          element.innerHTML = '';\n",
              "          dataTable['output_type'] = 'display_data';\n",
              "          await google.colab.output.renderOutput(dataTable, element);\n",
              "          const docLink = document.createElement('div');\n",
              "          docLink.innerHTML = docLinkHtml;\n",
              "          element.appendChild(docLink);\n",
              "        }\n",
              "      </script>\n",
              "    </div>\n",
              "  </div>\n",
              "  "
            ],
            "text/plain": [
              "          dt                                    articles_concat  weekday_n  \\\n",
              "0 2008-10-02  [-0.3580548167228699, -0.9777846932411194, -1....          3   \n",
              "1 2008-10-03  [0.533836841583252, -0.9398090243339539, -0.75...          4   \n",
              "2 2008-10-06  [-0.16671057045459747, 0.7351138591766357, -1....          0   \n",
              "3 2008-10-07  [0.10771000385284424, 0.021953009068965912, -1...          1   \n",
              "4 2008-10-08  [0.3373503088951111, 0.6633867025375366, -1.19...          2   \n",
              "\n",
              "   hcnt_gr  weekday_shift  neg_score  \n",
              "0      1.0              3   0.125000  \n",
              "1      4.0              4   0.000000  \n",
              "2      2.0              0   0.111111  \n",
              "3      2.0              1   0.111111  \n",
              "4      1.0              2   0.100000  "
            ]
          },
          "metadata": {},
          "execution_count": 48
        }
      ]
    },
    {
      "cell_type": "markdown",
      "metadata": {
        "id": "rsSWxLOvnfeH"
      },
      "source": [
        "## Объединим тексты новостей и индексы "
      ]
    },
    {
      "cell_type": "code",
      "metadata": {
        "id": "naBGv9j6vTgJ"
      },
      "source": [
        "# индекс для финансового индекса  \n",
        "sp500_df = sp500_df.sort_values(by='dt') \n",
        "sp500_idxs = np.arange(len(sp500_df))\n",
        "sp500_df['idx'] = sp500_idxs\n",
        "sp500_df['prev_idx'] = sp500_df['idx'] + 1\n",
        "\n",
        "sp500_df = sp500_df.set_index('idx').join(sp500_df[['prev_idx', 'dt']].set_index('prev_idx'), \n",
        "                                  rsuffix='_prev', how='inner').reset_index()\n",
        "\n",
        "# объединим\n",
        "# связываем индекс с предыдущим \n",
        "united_df = reut_enc_df.set_index('dt').join(\n",
        "    sp500_df.drop(columns=['dt', 'prev_idx']).set_index('dt_prev'), \n",
        "    rsuffix='_fin', how='inner').reset_index()"
      ],
      "execution_count": null,
      "outputs": []
    },
    {
      "cell_type": "markdown",
      "metadata": {
        "id": "sjZla7TJDIb1"
      },
      "source": [
        "**ВАЖНО**\n",
        "В *united_df* *dt* и *target* относятся к таргет-дню(следующий после новости). Все остальные столбцы относятся к дню новостей. "
      ]
    },
    {
      "cell_type": "code",
      "metadata": {
        "colab": {
          "base_uri": "https://localhost:8080/",
          "height": 477
        },
        "id": "iroU6fD4lSuM",
        "outputId": "df18be0d-bf50-4e16-af8e-6438fc1183fc"
      },
      "source": [
        "import seaborn as sns\n",
        "\n",
        "fig, ax = plt.subplots(figsize=(8,6)) \n",
        "sns.heatmap(united_df[['hcnt_gr', 'weekday_n', 'neg_score', # 'weekday_shift'\n",
        "              'chng_prev', 'candle_h_prev', 'Close_prev', 'Volume_prev', 'target']].corr(), annot=True, fmt='.1g', linewidths=.5)"
      ],
      "execution_count": null,
      "outputs": [
        {
          "output_type": "execute_result",
          "data": {
            "text/plain": [
              "<matplotlib.axes._subplots.AxesSubplot at 0x7f17b354a5d0>"
            ]
          },
          "metadata": {},
          "execution_count": 50
        },
        {
          "output_type": "display_data",
          "data": {
            "image/png": "[encoded data removed]",
            "text/plain": [
              "<Figure size 576x432 with 2 Axes>"
            ]
          },
          "metadata": {
            "needs_background": "light"
          }
        }
      ]
    },
    {
      "cell_type": "markdown",
      "metadata": {
        "id": "22Vd9GlP1PdD"
      },
      "source": [
        "## Построение модели "
      ]
    },
    {
      "cell_type": "markdown",
      "metadata": {
        "id": "m0J6XxPtzXIF"
      },
      "source": [
        "### Бейзлайн "
      ]
    },
    {
      "cell_type": "code",
      "source": [
        "united_df.head(2)"
      ],
      "metadata": {
        "colab": {
          "base_uri": "https://localhost:8080/",
          "height": 240
        },
        "id": "dqtUC_dfM2IB",
        "outputId": "2952dab5-ae6f-4096-dd74-04bd9c38efac"
      },
      "execution_count": null,
      "outputs": [
        {
          "output_type": "execute_result",
          "data": {
            "text/html": [
              "\n",
              "  <div id=\"df-722d89ac-8549-47cb-ae79-d55dcdcddd7e\">\n",
              "    <div class=\"colab-df-container\">\n",
              "      <div>\n",
              "<style scoped>\n",
              "    .dataframe tbody tr th:only-of-type {\n",
              "        vertical-align: middle;\n",
              "    }\n",
              "\n",
              "    .dataframe tbody tr th {\n",
              "        vertical-align: top;\n",
              "    }\n",
              "\n",
              "    .dataframe thead th {\n",
              "        text-align: right;\n",
              "    }\n",
              "</style>\n",
              "<table border=\"1\" class=\"dataframe\">\n",
              "  <thead>\n",
              "    <tr style=\"text-align: right;\">\n",
              "      <th></th>\n",
              "      <th>level_0</th>\n",
              "      <th>articles_concat</th>\n",
              "      <th>weekday_n</th>\n",
              "      <th>hcnt_gr</th>\n",
              "      <th>weekday_shift</th>\n",
              "      <th>neg_score</th>\n",
              "      <th>index</th>\n",
              "      <th>chng_prev</th>\n",
              "      <th>candle_h_prev</th>\n",
              "      <th>Close_prev</th>\n",
              "      <th>Volume_prev</th>\n",
              "      <th>target</th>\n",
              "    </tr>\n",
              "  </thead>\n",
              "  <tbody>\n",
              "    <tr>\n",
              "      <th>0</th>\n",
              "      <td>2008-10-03</td>\n",
              "      <td>[0.533836841583252, -0.9398090243339539, -0.75...</td>\n",
              "      <td>4</td>\n",
              "      <td>4.0</td>\n",
              "      <td>4</td>\n",
              "      <td>0.000000</td>\n",
              "      <td>1</td>\n",
              "      <td>-15.05</td>\n",
              "      <td>55.68</td>\n",
              "      <td>1099.23</td>\n",
              "      <td>3731177778</td>\n",
              "      <td>0</td>\n",
              "    </tr>\n",
              "    <tr>\n",
              "      <th>1</th>\n",
              "      <td>2008-10-06</td>\n",
              "      <td>[-0.16671057045459747, 0.7351138591766357, -1....</td>\n",
              "      <td>0</td>\n",
              "      <td>2.0</td>\n",
              "      <td>0</td>\n",
              "      <td>0.111111</td>\n",
              "      <td>2</td>\n",
              "      <td>-42.34</td>\n",
              "      <td>91.26</td>\n",
              "      <td>1056.89</td>\n",
              "      <td>4420011111</td>\n",
              "      <td>0</td>\n",
              "    </tr>\n",
              "  </tbody>\n",
              "</table>\n",
              "</div>\n",
              "      <button class=\"colab-df-convert\" onclick=\"convertToInteractive('df-722d89ac-8549-47cb-ae79-d55dcdcddd7e')\"\n",
              "              title=\"Convert this dataframe to an interactive table.\"\n",
              "              style=\"display:none;\">\n",
              "        \n",
              "  <svg xmlns=\"http://www.w3.org/2000/svg\" height=\"24px\"viewBox=\"0 0 24 24\"\n",
              "       width=\"24px\">\n",
              "    <path d=\"M0 0h24v24H0V0z\" fill=\"none\"/>\n",
              "    <path d=\"M18.56 5.44l.94 2.06.94-2.06 2.06-.94-2.06-.94-.94-2.06-.94 2.06-2.06.94zm-11 1L8.5 8.5l.94-2.06 2.06-.94-2.06-.94L8.5 2.5l-.94 2.06-2.06.94zm10 10l.94 2.06.94-2.06 2.06-.94-2.06-.94-.94-2.06-.94 2.06-2.06.94z\"/><path d=\"M17.41 7.96l-1.37-1.37c-.4-.4-.92-.59-1.43-.59-.52 0-1.04.2-1.43.59L10.3 9.45l-7.72 7.72c-.78.78-.78 2.05 0 2.83L4 21.41c.39.39.9.59 1.41.59.51 0 1.02-.2 1.41-.59l7.78-7.78 2.81-2.81c.8-.78.8-2.07 0-2.86zM5.41 20L4 18.59l7.72-7.72 1.47 1.35L5.41 20z\"/>\n",
              "  </svg>\n",
              "      </button>\n",
              "      \n",
              "  <style>\n",
              "    .colab-df-container {\n",
              "      display:flex;\n",
              "      flex-wrap:wrap;\n",
              "      gap: 12px;\n",
              "    }\n",
              "\n",
              "    .colab-df-convert {\n",
              "      background-color: #E8F0FE;\n",
              "      border: none;\n",
              "      border-radius: 50%;\n",
              "      cursor: pointer;\n",
              "      display: none;\n",
              "      fill: #1967D2;\n",
              "      height: 32px;\n",
              "      padding: 0 0 0 0;\n",
              "      width: 32px;\n",
              "    }\n",
              "\n",
              "    .colab-df-convert:hover {\n",
              "      background-color: #E2EBFA;\n",
              "      box-shadow: 0px 1px 2px rgba(60, 64, 67, 0.3), 0px 1px 3px 1px rgba(60, 64, 67, 0.15);\n",
              "      fill: #174EA6;\n",
              "    }\n",
              "\n",
              "    [theme=dark] .colab-df-convert {\n",
              "      background-color: #3B4455;\n",
              "      fill: #D2E3FC;\n",
              "    }\n",
              "\n",
              "    [theme=dark] .colab-df-convert:hover {\n",
              "      background-color: #434B5C;\n",
              "      box-shadow: 0px 1px 3px 1px rgba(0, 0, 0, 0.15);\n",
              "      filter: drop-shadow(0px 1px 2px rgba(0, 0, 0, 0.3));\n",
              "      fill: #FFFFFF;\n",
              "    }\n",
              "  </style>\n",
              "\n",
              "      <script>\n",
              "        const buttonEl =\n",
              "          document.querySelector('#df-722d89ac-8549-47cb-ae79-d55dcdcddd7e button.colab-df-convert');\n",
              "        buttonEl.style.display =\n",
              "          google.colab.kernel.accessAllowed ? 'block' : 'none';\n",
              "\n",
              "        async function convertToInteractive(key) {\n",
              "          const element = document.querySelector('#df-722d89ac-8549-47cb-ae79-d55dcdcddd7e');\n",
              "          const dataTable =\n",
              "            await google.colab.kernel.invokeFunction('convertToInteractive',\n",
              "                                                     [key], {});\n",
              "          if (!dataTable) return;\n",
              "\n",
              "          const docLinkHtml = 'Like what you see? Visit the ' +\n",
              "            '<a target=\"_blank\" href=https://colab.research.google.com/notebooks/data_table.ipynb>data table notebook</a>'\n",
              "            + ' to learn more about interactive tables.';\n",
              "          element.innerHTML = '';\n",
              "          dataTable['output_type'] = 'display_data';\n",
              "          await google.colab.output.renderOutput(dataTable, element);\n",
              "          const docLink = document.createElement('div');\n",
              "          docLink.innerHTML = docLinkHtml;\n",
              "          element.appendChild(docLink);\n",
              "        }\n",
              "      </script>\n",
              "    </div>\n",
              "  </div>\n",
              "  "
            ],
            "text/plain": [
              "     level_0                                    articles_concat  weekday_n  \\\n",
              "0 2008-10-03  [0.533836841583252, -0.9398090243339539, -0.75...          4   \n",
              "1 2008-10-06  [-0.16671057045459747, 0.7351138591766357, -1....          0   \n",
              "\n",
              "   hcnt_gr  weekday_shift  neg_score  index  chng_prev  candle_h_prev  \\\n",
              "0      4.0              4   0.000000      1     -15.05          55.68   \n",
              "1      2.0              0   0.111111      2     -42.34          91.26   \n",
              "\n",
              "   Close_prev  Volume_prev  target  \n",
              "0     1099.23   3731177778       0  \n",
              "1     1056.89   4420011111       0  "
            ]
          },
          "metadata": {},
          "execution_count": 51
        }
      ]
    },
    {
      "cell_type": "code",
      "metadata": {
        "id": "M-GFD6hmFi5v",
        "colab": {
          "base_uri": "https://localhost:8080/"
        },
        "outputId": "8de2da01-0a52-4fd2-ce9e-a3d9de54508e"
      },
      "source": [
        "# масштабируем данные (скейлинг) \n",
        "from sklearn.preprocessing import MinMaxScaler\n",
        "from sklearn.preprocessing import StandardScaler\n",
        "from sklearn.model_selection import train_test_split\n",
        "np.random.seed(13)\n",
        "\n",
        "\n",
        "X0 = united_df[['hcnt_gr', 'weekday_n', 'neg_score', # 'weekday_shift'\n",
        "               'chng_prev', 'candle_h_prev', 'Volume_prev']] # Close_prev не берем, поскольку высоко корредирован с другими \n",
        "# дамми дня текстов \n",
        "# выбросим дамми на один из дней недели во избежание дамми-трэп \n",
        "X_fin = pd.concat([X0, pd.get_dummies(X0['weekday_n'])], axis=1).drop(columns=['weekday_n', 4])\n",
        "\n",
        "X_text = pd.DataFrame(np.array(list(united_df['articles_concat'])).reshape(united_df.shape[0], \n",
        "                                                                           len(united_df['articles_concat'][0])))\n",
        "\n",
        "# масштабированные данные \n",
        "mmscaler = MinMaxScaler() \n",
        "# X_fin = unied_df[['hcnt_gr_scaled', 'weekday_shift_scaled', 'neg_score_scaled', \n",
        "#              t   'chng_prev_scaled', 'candle_h_prev_scaled', 'Close_prev_scaled', 'Volume_prev_scaled']]\n",
        "X_fin['Volume_prev'] = united_df['Volume_prev'] / 10**9\n",
        "\n",
        "X = pd.concat([X_fin, X_text], axis=1)\n",
        "y = united_df['target']\n",
        "X = pd.DataFrame(mmscaler.fit_transform(X), columns=X.columns)\n",
        "# X['Volume_prev'] = pd.DataFrame(mmscaler.fit_transform(pd.DataFrame(X_train['Volume_prev'])))\n",
        "\n",
        "X_train, X_val, y_train, y_val = train_test_split(X, y, test_size=0.3)\n",
        "# X_train, X_val, y_train, y_val = train_test_split(X_fin, y, test_size=0.3)"
      ],
      "execution_count": null,
      "outputs": [
        {
          "output_type": "stream",
          "name": "stderr",
          "text": [
            "/usr/local/lib/python3.7/dist-packages/sklearn/utils/validation.py:1692: FutureWarning: Feature names only support names that are all strings. Got feature names with dtypes: ['int', 'str']. An error will be raised in 1.2.\n",
            "  FutureWarning,\n",
            "/usr/local/lib/python3.7/dist-packages/sklearn/utils/validation.py:1692: FutureWarning: Feature names only support names that are all strings. Got feature names with dtypes: ['int', 'str']. An error will be raised in 1.2.\n",
            "  FutureWarning,\n"
          ]
        }
      ]
    },
    {
      "cell_type": "code",
      "metadata": {
        "colab": {
          "base_uri": "https://localhost:8080/"
        },
        "id": "FUYuzCosFixc",
        "outputId": "888abd5c-1963-4335-83ba-bd4af1c55b52"
      },
      "source": [
        "from sklearn.linear_model import LogisticRegression \n",
        "from sklearn.metrics import accuracy_score\n",
        "np.random.seed(13)\n",
        "\n",
        "lr = LogisticRegression(max_iter=5000)\n",
        "lr.fit(X_train, y_train)\n",
        "lr_pred = lr.predict(X_val)\n",
        "accuracy_score(lr_pred, y_val)"
      ],
      "execution_count": null,
      "outputs": [
        {
          "output_type": "stream",
          "name": "stderr",
          "text": [
            "/usr/local/lib/python3.7/dist-packages/sklearn/utils/validation.py:1692: FutureWarning: Feature names only support names that are all strings. Got feature names with dtypes: ['int', 'str']. An error will be raised in 1.2.\n",
            "  FutureWarning,\n",
            "/usr/local/lib/python3.7/dist-packages/sklearn/utils/validation.py:1692: FutureWarning: Feature names only support names that are all strings. Got feature names with dtypes: ['int', 'str']. An error will be raised in 1.2.\n",
            "  FutureWarning,\n"
          ]
        },
        {
          "output_type": "execute_result",
          "data": {
            "text/plain": [
              "0.5"
            ]
          },
          "metadata": {},
          "execution_count": 53
        }
      ]
    },
    {
      "cell_type": "code",
      "metadata": {
        "colab": {
          "base_uri": "https://localhost:8080/",
          "height": 461
        },
        "id": "Hqpvc9ZDkElM",
        "outputId": "d708abfc-fc68-4009-e381-b3c5b5f1f7af"
      },
      "source": [
        "lr.coef_[0][12]\n",
        "# lr.coef_[0][:20]\n",
        "\n",
        "fig, ax = plt.subplots(2, 2, figsize=(8,6),   )\n",
        "\n",
        "ax[0, 0].hist(united_df['chng_prev'])\n",
        "ax[0, 1].hist(X_train['chng_prev'])\n",
        "ax[1, 0].hist(united_df['candle_h_prev'])\n",
        "ax[1, 1].hist(X_train['candle_h_prev'])\n",
        "\n",
        "ax[0, 0].set_title('Измнение индекса. НЕТ масштабирования')\n",
        "ax[0, 1].set_title('Измнение индекса. ЕСТЬ масштабирование')\n",
        "ax[1, 0].set_title('Размер свечи. НЕТ масштабирования')\n",
        "ax[1, 1].set_title('Размер свечи. ЕСТЬ масштабирование')\n",
        "\n",
        "fig.tight_layout() "
      ],
      "execution_count": null,
      "outputs": [
        {
          "output_type": "display_data",
          "data": {
            "image/png": "[encoded data removed]",
            "text/plain": [
              "<Figure size 576x432 with 4 Axes>"
            ]
          },
          "metadata": {
            "needs_background": "light"
          }
        }
      ]
    },
    {
      "cell_type": "code",
      "metadata": {
        "colab": {
          "base_uri": "https://localhost:8080/",
          "height": 396
        },
        "id": "7aynk2BDjWo9",
        "outputId": "08b5b199-129f-42cb-8049-78bead71d10b"
      },
      "source": [
        "# plt.bar(np.arange(10), lr.coef_[0][:10], )\n",
        "\n",
        "fig, ax = plt.subplots(figsize=(15,6))\n",
        "ax.bar(np.arange(len(lr.coef_[0])), lr.coef_[0])\n",
        "ax.set_title('Веса признаков в логистической регрессии (учитывая эмбеддинги текстов)')\n",
        "ax.set_ylabel('Вес')\n",
        "\n",
        "plt.show()"
      ],
      "execution_count": null,
      "outputs": [
        {
          "output_type": "display_data",
          "data": {
            "image/png": "[encoded data removed]",
            "text/plain": [
              "<Figure size 1080x432 with 1 Axes>"
            ]
          },
          "metadata": {
            "needs_background": "light"
          }
        }
      ]
    },
    {
      "cell_type": "code",
      "metadata": {
        "colab": {
          "base_uri": "https://localhost:8080/"
        },
        "id": "YX0EOkbh1VZs",
        "outputId": "443575a1-d145-40ba-d965-7c6b96eadff2"
      },
      "source": [
        "from sklearn.metrics import precision_recall_fscore_support\n",
        "\n",
        "lr.coef_[0][:10]\n",
        "precision_recall_fscore_support(y_val, lr_pred, average='binary')"
      ],
      "execution_count": null,
      "outputs": [
        {
          "output_type": "execute_result",
          "data": {
            "text/plain": [
              "(0.5303643724696356, 0.6107226107226107, 0.5677139761646804, None)"
            ]
          },
          "metadata": {},
          "execution_count": 56
        }
      ]
    },
    {
      "cell_type": "code",
      "source": [
        "import sklearn.metrics as metrics\n",
        "\n",
        "preds = lr.predict_proba(X_val)[:, 1]\n",
        "fpr, tpr, threshold = metrics.roc_curve(y_val, preds)\n",
        "roc_auc = metrics.auc(fpr, tpr)\n",
        "\n",
        "# method I: plt\n",
        "import matplotlib.pyplot as plt\n",
        "plt.title('Receiver Operating Characteristic')\n",
        "plt.plot(fpr, tpr, 'b', label = 'AUC = %0.2f' % roc_auc)\n",
        "plt.legend(loc = 'lower right')\n",
        "plt.plot([0, 1], [0, 1],'r--')\n",
        "plt.xlim([0, 1])\n",
        "plt.ylim([0, 1])\n",
        "plt.ylabel('True Positive Rate')\n",
        "plt.xlabel('False Positive Rate')\n",
        "plt.show()"
      ],
      "metadata": {
        "colab": {
          "base_uri": "https://localhost:8080/",
          "height": 348
        },
        "id": "99EqO5y_A6hM",
        "outputId": "a9da5f66-40cd-4d9e-a1b8-798e1e98d8c5"
      },
      "execution_count": null,
      "outputs": [
        {
          "output_type": "stream",
          "name": "stderr",
          "text": [
            "/usr/local/lib/python3.7/dist-packages/sklearn/utils/validation.py:1692: FutureWarning: Feature names only support names that are all strings. Got feature names with dtypes: ['int', 'str']. An error will be raised in 1.2.\n",
            "  FutureWarning,\n"
          ]
        },
        {
          "output_type": "display_data",
          "data": {
            "image/png": "[encoded data removed]",
            "text/plain": [
              "<Figure size 432x288 with 1 Axes>"
            ]
          },
          "metadata": {
            "needs_background": "light"
          }
        }
      ]
    },
    {
      "cell_type": "code",
      "metadata": {
        "colab": {
          "base_uri": "https://localhost:8080/",
          "height": 398
        },
        "id": "ukdrnnSgTfF5",
        "outputId": "e3b5a340-dc78-45eb-9c9e-f5161cd5df7b"
      },
      "source": [
        "from sklearn.metrics import precision_recall_curve\n",
        "from sklearn.metrics import plot_precision_recall_curve\n",
        "import matplotlib.pyplot as plt\n",
        "\n",
        "disp = plot_precision_recall_curve(lr, X_val, y_val)\n",
        "disp.ax_.set_title('Precision-Recall curve. Accuracy: {0:0.2f}'.format(accuracy_score(lr_pred, y_val)))"
      ],
      "execution_count": null,
      "outputs": [
        {
          "output_type": "stream",
          "name": "stderr",
          "text": [
            "/usr/local/lib/python3.7/dist-packages/sklearn/utils/deprecation.py:87: FutureWarning: Function plot_precision_recall_curve is deprecated; Function `plot_precision_recall_curve` is deprecated in 1.0 and will be removed in 1.2. Use one of the class methods: PrecisionRecallDisplay.from_predictions or PrecisionRecallDisplay.from_estimator.\n",
            "  warnings.warn(msg, category=FutureWarning)\n",
            "/usr/local/lib/python3.7/dist-packages/sklearn/utils/validation.py:1692: FutureWarning: Feature names only support names that are all strings. Got feature names with dtypes: ['int', 'str']. An error will be raised in 1.2.\n",
            "  FutureWarning,\n"
          ]
        },
        {
          "output_type": "execute_result",
          "data": {
            "text/plain": [
              "Text(0.5, 1.0, 'Precision-Recall curve. Accuracy: 0.50')"
            ]
          },
          "metadata": {},
          "execution_count": 57
        },
        {
          "output_type": "display_data",
          "data": {
            "image/png": "[encoded data removed]",
            "text/plain": [
              "<Figure size 432x288 with 1 Axes>"
            ]
          },
          "metadata": {
            "needs_background": "light"
          }
        }
      ]
    },
    {
      "cell_type": "code",
      "metadata": {
        "id": "P-fp2-5DEgfK"
      },
      "source": [
        ""
      ],
      "execution_count": null,
      "outputs": []
    },
    {
      "cell_type": "markdown",
      "source": [
        "### LSTM"
      ],
      "metadata": {
        "id": "QqJoU6U_PURw"
      }
    },
    {
      "cell_type": "code",
      "source": [
        "united_df.head()"
      ],
      "metadata": {
        "id": "WEUDZjv-Pz2s",
        "colab": {
          "base_uri": "https://localhost:8080/",
          "height": 431
        },
        "outputId": "e9359d99-aad7-41ac-907e-11cb0b4903c0"
      },
      "execution_count": null,
      "outputs": [
        {
          "output_type": "execute_result",
          "data": {
            "text/html": [
              "\n",
              "  <div id=\"df-54bef673-1395-4694-83f3-a823eb045e68\">\n",
              "    <div class=\"colab-df-container\">\n",
              "      <div>\n",
              "<style scoped>\n",
              "    .dataframe tbody tr th:only-of-type {\n",
              "        vertical-align: middle;\n",
              "    }\n",
              "\n",
              "    .dataframe tbody tr th {\n",
              "        vertical-align: top;\n",
              "    }\n",
              "\n",
              "    .dataframe thead th {\n",
              "        text-align: right;\n",
              "    }\n",
              "</style>\n",
              "<table border=\"1\" class=\"dataframe\">\n",
              "  <thead>\n",
              "    <tr style=\"text-align: right;\">\n",
              "      <th></th>\n",
              "      <th>level_0</th>\n",
              "      <th>articles_concat</th>\n",
              "      <th>weekday_n</th>\n",
              "      <th>hcnt_gr</th>\n",
              "      <th>weekday_shift</th>\n",
              "      <th>neg_score</th>\n",
              "      <th>index</th>\n",
              "      <th>chng_prev</th>\n",
              "      <th>candle_h_prev</th>\n",
              "      <th>Close_prev</th>\n",
              "      <th>Volume_prev</th>\n",
              "      <th>target</th>\n",
              "    </tr>\n",
              "  </thead>\n",
              "  <tbody>\n",
              "    <tr>\n",
              "      <th>0</th>\n",
              "      <td>2008-10-03</td>\n",
              "      <td>[0.533836841583252, -0.9398090243339539, -0.75...</td>\n",
              "      <td>4</td>\n",
              "      <td>4.0</td>\n",
              "      <td>4</td>\n",
              "      <td>0.000000</td>\n",
              "      <td>1</td>\n",
              "      <td>-15.05</td>\n",
              "      <td>55.68</td>\n",
              "      <td>1099.23</td>\n",
              "      <td>3731177778</td>\n",
              "      <td>0</td>\n",
              "    </tr>\n",
              "    <tr>\n",
              "      <th>1</th>\n",
              "      <td>2008-10-06</td>\n",
              "      <td>[-0.16671057045459747, 0.7351138591766357, -1....</td>\n",
              "      <td>0</td>\n",
              "      <td>2.0</td>\n",
              "      <td>0</td>\n",
              "      <td>0.111111</td>\n",
              "      <td>2</td>\n",
              "      <td>-42.34</td>\n",
              "      <td>91.26</td>\n",
              "      <td>1056.89</td>\n",
              "      <td>4420011111</td>\n",
              "      <td>0</td>\n",
              "    </tr>\n",
              "    <tr>\n",
              "      <th>2</th>\n",
              "      <td>2008-10-07</td>\n",
              "      <td>[0.10771000385284424, 0.021953009068965912, -1...</td>\n",
              "      <td>1</td>\n",
              "      <td>2.0</td>\n",
              "      <td>1</td>\n",
              "      <td>0.111111</td>\n",
              "      <td>3</td>\n",
              "      <td>-60.66</td>\n",
              "      <td>76.68</td>\n",
              "      <td>996.23</td>\n",
              "      <td>3927338889</td>\n",
              "      <td>0</td>\n",
              "    </tr>\n",
              "    <tr>\n",
              "      <th>3</th>\n",
              "      <td>2008-10-08</td>\n",
              "      <td>[0.3373503088951111, 0.6633867025375366, -1.19...</td>\n",
              "      <td>2</td>\n",
              "      <td>1.0</td>\n",
              "      <td>2</td>\n",
              "      <td>0.100000</td>\n",
              "      <td>4</td>\n",
              "      <td>-11.29</td>\n",
              "      <td>50.09</td>\n",
              "      <td>984.94</td>\n",
              "      <td>4842405556</td>\n",
              "      <td>0</td>\n",
              "    </tr>\n",
              "    <tr>\n",
              "      <th>4</th>\n",
              "      <td>2008-10-09</td>\n",
              "      <td>[0.8671865463256836, 0.38207077980041504, -2.2...</td>\n",
              "      <td>3</td>\n",
              "      <td>3.0</td>\n",
              "      <td>3</td>\n",
              "      <td>0.181481</td>\n",
              "      <td>5</td>\n",
              "      <td>-75.02</td>\n",
              "      <td>96.06</td>\n",
              "      <td>909.92</td>\n",
              "      <td>3788333333</td>\n",
              "      <td>0</td>\n",
              "    </tr>\n",
              "  </tbody>\n",
              "</table>\n",
              "</div>\n",
              "      <button class=\"colab-df-convert\" onclick=\"convertToInteractive('df-54bef673-1395-4694-83f3-a823eb045e68')\"\n",
              "              title=\"Convert this dataframe to an interactive table.\"\n",
              "              style=\"display:none;\">\n",
              "        \n",
              "  <svg xmlns=\"http://www.w3.org/2000/svg\" height=\"24px\"viewBox=\"0 0 24 24\"\n",
              "       width=\"24px\">\n",
              "    <path d=\"M0 0h24v24H0V0z\" fill=\"none\"/>\n",
              "    <path d=\"M18.56 5.44l.94 2.06.94-2.06 2.06-.94-2.06-.94-.94-2.06-.94 2.06-2.06.94zm-11 1L8.5 8.5l.94-2.06 2.06-.94-2.06-.94L8.5 2.5l-.94 2.06-2.06.94zm10 10l.94 2.06.94-2.06 2.06-.94-2.06-.94-.94-2.06-.94 2.06-2.06.94z\"/><path d=\"M17.41 7.96l-1.37-1.37c-.4-.4-.92-.59-1.43-.59-.52 0-1.04.2-1.43.59L10.3 9.45l-7.72 7.72c-.78.78-.78 2.05 0 2.83L4 21.41c.39.39.9.59 1.41.59.51 0 1.02-.2 1.41-.59l7.78-7.78 2.81-2.81c.8-.78.8-2.07 0-2.86zM5.41 20L4 18.59l7.72-7.72 1.47 1.35L5.41 20z\"/>\n",
              "  </svg>\n",
              "      </button>\n",
              "      \n",
              "  <style>\n",
              "    .colab-df-container {\n",
              "      display:flex;\n",
              "      flex-wrap:wrap;\n",
              "      gap: 12px;\n",
              "    }\n",
              "\n",
              "    .colab-df-convert {\n",
              "      background-color: #E8F0FE;\n",
              "      border: none;\n",
              "      border-radius: 50%;\n",
              "      cursor: pointer;\n",
              "      display: none;\n",
              "      fill: #1967D2;\n",
              "      height: 32px;\n",
              "      padding: 0 0 0 0;\n",
              "      width: 32px;\n",
              "    }\n",
              "\n",
              "    .colab-df-convert:hover {\n",
              "      background-color: #E2EBFA;\n",
              "      box-shadow: 0px 1px 2px rgba(60, 64, 67, 0.3), 0px 1px 3px 1px rgba(60, 64, 67, 0.15);\n",
              "      fill: #174EA6;\n",
              "    }\n",
              "\n",
              "    [theme=dark] .colab-df-convert {\n",
              "      background-color: #3B4455;\n",
              "      fill: #D2E3FC;\n",
              "    }\n",
              "\n",
              "    [theme=dark] .colab-df-convert:hover {\n",
              "      background-color: #434B5C;\n",
              "      box-shadow: 0px 1px 3px 1px rgba(0, 0, 0, 0.15);\n",
              "      filter: drop-shadow(0px 1px 2px rgba(0, 0, 0, 0.3));\n",
              "      fill: #FFFFFF;\n",
              "    }\n",
              "  </style>\n",
              "\n",
              "      <script>\n",
              "        const buttonEl =\n",
              "          document.querySelector('#df-54bef673-1395-4694-83f3-a823eb045e68 button.colab-df-convert');\n",
              "        buttonEl.style.display =\n",
              "          google.colab.kernel.accessAllowed ? 'block' : 'none';\n",
              "\n",
              "        async function convertToInteractive(key) {\n",
              "          const element = document.querySelector('#df-54bef673-1395-4694-83f3-a823eb045e68');\n",
              "          const dataTable =\n",
              "            await google.colab.kernel.invokeFunction('convertToInteractive',\n",
              "                                                     [key], {});\n",
              "          if (!dataTable) return;\n",
              "\n",
              "          const docLinkHtml = 'Like what you see? Visit the ' +\n",
              "            '<a target=\"_blank\" href=https://colab.research.google.com/notebooks/data_table.ipynb>data table notebook</a>'\n",
              "            + ' to learn more about interactive tables.';\n",
              "          element.innerHTML = '';\n",
              "          dataTable['output_type'] = 'display_data';\n",
              "          await google.colab.output.renderOutput(dataTable, element);\n",
              "          const docLink = document.createElement('div');\n",
              "          docLink.innerHTML = docLinkHtml;\n",
              "          element.appendChild(docLink);\n",
              "        }\n",
              "      </script>\n",
              "    </div>\n",
              "  </div>\n",
              "  "
            ],
            "text/plain": [
              "     level_0                                    articles_concat  weekday_n  \\\n",
              "0 2008-10-03  [0.533836841583252, -0.9398090243339539, -0.75...          4   \n",
              "1 2008-10-06  [-0.16671057045459747, 0.7351138591766357, -1....          0   \n",
              "2 2008-10-07  [0.10771000385284424, 0.021953009068965912, -1...          1   \n",
              "3 2008-10-08  [0.3373503088951111, 0.6633867025375366, -1.19...          2   \n",
              "4 2008-10-09  [0.8671865463256836, 0.38207077980041504, -2.2...          3   \n",
              "\n",
              "   hcnt_gr  weekday_shift  neg_score  index  chng_prev  candle_h_prev  \\\n",
              "0      4.0              4   0.000000      1     -15.05          55.68   \n",
              "1      2.0              0   0.111111      2     -42.34          91.26   \n",
              "2      2.0              1   0.111111      3     -60.66          76.68   \n",
              "3      1.0              2   0.100000      4     -11.29          50.09   \n",
              "4      3.0              3   0.181481      5     -75.02          96.06   \n",
              "\n",
              "   Close_prev  Volume_prev  target  \n",
              "0     1099.23   3731177778       0  \n",
              "1     1056.89   4420011111       0  \n",
              "2      996.23   3927338889       0  \n",
              "3      984.94   4842405556       0  \n",
              "4      909.92   3788333333       0  "
            ]
          },
          "metadata": {},
          "execution_count": 73
        }
      ]
    },
    {
      "cell_type": "code",
      "source": [
        "import numpy as np \n",
        "import tensorflow as tf\n",
        "tf.random.set_seed(13)\n",
        "np.random.seed(13)\n",
        "\n",
        "from keras.models import Sequential\n",
        "from keras import layers\n",
        "from keras.layers import Dense, LSTM, GlobalMaxPool1D, Dropout, Lambda\n",
        "from keras.backend import clear_session \n",
        "\n",
        "# построение модели \n",
        "model = Sequential()\n",
        "model.add(Lambda(lambda x: x[:,:,:,0], input_shape=(*X_train.shape, 1)))\n",
        "model.add(LSTM(32, input_dim=X_train.shape[1], return_sequences=True)) #, activation='relu'\n",
        "model.add(GlobalMaxPool1D())\n",
        "model.add(Dropout(0.5))\n",
        "model.add(Dense(16, activation='relu')) #, input_dim=32\n",
        "# model.add(layers.Dense(32, input_dim=X_train.shape[1], activation='relu'))\n",
        "model.add(Dense(1, activation='sigmoid'))\n",
        "\n",
        "\n",
        "# настройка  \n",
        "model.compile(loss='binary_crossentropy', \n",
        "               optimizer='adam', \n",
        "               metrics=['accuracy'])\n",
        "model.summary()"
      ],
      "metadata": {
        "colab": {
          "base_uri": "https://localhost:8080/"
        },
        "id": "5LItPPSfPzxi",
        "outputId": "5a0ace00-26f4-4c84-d1a5-6b7abae054e5"
      },
      "execution_count": null,
      "outputs": [
        {
          "output_type": "stream",
          "name": "stdout",
          "text": [
            "Model: \"sequential\"\n",
            "_________________________________________________________________\n",
            " Layer (type)                Output Shape              Param #   \n",
            "=================================================================\n",
            " lambda (Lambda)             (None, 1862, 297)         0         \n",
            "                                                                 \n",
            " lstm (LSTM)                 (None, 1862, 32)          42240     \n",
            "                                                                 \n",
            " global_max_pooling1d (Globa  (None, 32)               0         \n",
            " lMaxPooling1D)                                                  \n",
            "                                                                 \n",
            " dropout (Dropout)           (None, 32)                0         \n",
            "                                                                 \n",
            " dense (Dense)               (None, 16)                528       \n",
            "                                                                 \n",
            " dense_1 (Dense)             (None, 1)                 17        \n",
            "                                                                 \n",
            "=================================================================\n",
            "Total params: 42,785\n",
            "Trainable params: 42,785\n",
            "Non-trainable params: 0\n",
            "_________________________________________________________________\n"
          ]
        }
      ]
    },
    {
      "cell_type": "code",
      "source": [
        ""
      ],
      "metadata": {
        "id": "9gATfkOkYBrY"
      },
      "execution_count": null,
      "outputs": []
    },
    {
      "cell_type": "code",
      "source": [
        ""
      ],
      "metadata": {
        "id": "Vp9Kzgc0YBmO"
      },
      "execution_count": null,
      "outputs": []
    },
    {
      "cell_type": "markdown",
      "source": [
        "#### Dense attempt"
      ],
      "metadata": {
        "id": "7T0HzGSlY0Zl"
      }
    },
    {
      "cell_type": "code",
      "source": [
        "import numpy as np \n",
        "import tensorflow as tf\n",
        "tf.random.set_seed(13)\n",
        "np.random.seed(13)\n",
        "\n",
        "from keras.models import Sequential\n",
        "from keras import layers\n",
        "from keras.layers import Dense, LSTM, GlobalMaxPool1D, Dropout, Lambda\n",
        "from keras.backend import clear_session \n",
        "\n",
        "# построение модели \n",
        "model = Sequential()\n",
        "model.add(Dense(32, input_dim=X_train.shape[1], activation='relu'))\n",
        "model.add(Dense(16, input_dim=32, activation='relu'))\n",
        "model.add(Dense(1, activation='sigmoid'))\n",
        "\n",
        "\n",
        "# настройка  \n",
        "model.compile(loss='binary_crossentropy', \n",
        "               optimizer='adam', \n",
        "               metrics=['accuracy'])\n",
        "model.summary()"
      ],
      "metadata": {
        "colab": {
          "base_uri": "https://localhost:8080/"
        },
        "id": "BeXKz3J-YBag",
        "outputId": "1be13baa-0ba8-41df-ed1f-75776c658952"
      },
      "execution_count": null,
      "outputs": [
        {
          "output_type": "stream",
          "name": "stdout",
          "text": [
            "Model: \"sequential\"\n",
            "_________________________________________________________________\n",
            " Layer (type)                Output Shape              Param #   \n",
            "=================================================================\n",
            " dense (Dense)               (None, 32)                9536      \n",
            "                                                                 \n",
            " dense_1 (Dense)             (None, 16)                528       \n",
            "                                                                 \n",
            " dense_2 (Dense)             (None, 1)                 17        \n",
            "                                                                 \n",
            "=================================================================\n",
            "Total params: 10,081\n",
            "Trainable params: 10,081\n",
            "Non-trainable params: 0\n",
            "_________________________________________________________________\n"
          ]
        }
      ]
    },
    {
      "cell_type": "code",
      "source": [
        "# обучение\n",
        "model.fit(X_train, y_train,\n",
        "          epochs=30,\n",
        "          verbose=True,\n",
        "          validation_data=(X_val, y_val), \n",
        "          batch_size=8)\n",
        "\n",
        "# почистить веса для перезапуска \n",
        "clear_session() "
      ],
      "metadata": {
        "colab": {
          "base_uri": "https://localhost:8080/"
        },
        "id": "fx8vLFmkPzr6",
        "outputId": "24032ce8-487a-4242-bf50-ec07158e7375"
      },
      "execution_count": null,
      "outputs": [
        {
          "output_type": "stream",
          "name": "stdout",
          "text": [
            "Epoch 1/30\n",
            "233/233 [==============================] - 3s 9ms/step - loss: 0.6914 - accuracy: 0.5451 - val_loss: 0.6961 - val_accuracy: 0.5376\n",
            "Epoch 2/30\n",
            "233/233 [==============================] - 1s 5ms/step - loss: 0.6918 - accuracy: 0.5424 - val_loss: 0.6905 - val_accuracy: 0.5376\n",
            "Epoch 3/30\n",
            "233/233 [==============================] - 1s 4ms/step - loss: 0.6907 - accuracy: 0.5424 - val_loss: 0.6910 - val_accuracy: 0.5376\n",
            "Epoch 4/30\n",
            "233/233 [==============================] - 1s 5ms/step - loss: 0.6899 - accuracy: 0.5424 - val_loss: 0.6914 - val_accuracy: 0.5376\n",
            "Epoch 5/30\n",
            "233/233 [==============================] - 1s 4ms/step - loss: 0.6900 - accuracy: 0.5424 - val_loss: 0.6910 - val_accuracy: 0.5376\n",
            "Epoch 6/30\n",
            "233/233 [==============================] - 1s 6ms/step - loss: 0.6901 - accuracy: 0.5424 - val_loss: 0.6904 - val_accuracy: 0.5376\n",
            "Epoch 7/30\n",
            "233/233 [==============================] - 1s 4ms/step - loss: 0.6899 - accuracy: 0.5424 - val_loss: 0.6906 - val_accuracy: 0.5376\n",
            "Epoch 8/30\n",
            "233/233 [==============================] - 1s 4ms/step - loss: 0.6897 - accuracy: 0.5424 - val_loss: 0.6905 - val_accuracy: 0.5376\n",
            "Epoch 9/30\n",
            "233/233 [==============================] - 1s 5ms/step - loss: 0.6892 - accuracy: 0.5424 - val_loss: 0.6913 - val_accuracy: 0.5376\n",
            "Epoch 10/30\n",
            "233/233 [==============================] - 1s 4ms/step - loss: 0.6902 - accuracy: 0.5424 - val_loss: 0.6904 - val_accuracy: 0.5376\n",
            "Epoch 11/30\n",
            "233/233 [==============================] - 1s 2ms/step - loss: 0.6898 - accuracy: 0.5424 - val_loss: 0.6903 - val_accuracy: 0.5376\n",
            "Epoch 12/30\n",
            "233/233 [==============================] - 0s 2ms/step - loss: 0.6898 - accuracy: 0.5424 - val_loss: 0.6903 - val_accuracy: 0.5376\n",
            "Epoch 13/30\n",
            "233/233 [==============================] - 1s 2ms/step - loss: 0.6897 - accuracy: 0.5424 - val_loss: 0.6903 - val_accuracy: 0.5376\n",
            "Epoch 14/30\n",
            "233/233 [==============================] - 1s 2ms/step - loss: 0.6897 - accuracy: 0.5424 - val_loss: 0.6904 - val_accuracy: 0.5376\n",
            "Epoch 15/30\n",
            "233/233 [==============================] - 0s 2ms/step - loss: 0.6897 - accuracy: 0.5424 - val_loss: 0.6903 - val_accuracy: 0.5376\n",
            "Epoch 16/30\n",
            "233/233 [==============================] - 0s 2ms/step - loss: 0.6897 - accuracy: 0.5424 - val_loss: 0.6904 - val_accuracy: 0.5376\n",
            "Epoch 17/30\n",
            "233/233 [==============================] - 0s 2ms/step - loss: 0.6897 - accuracy: 0.5424 - val_loss: 0.6903 - val_accuracy: 0.5376\n",
            "Epoch 18/30\n",
            "233/233 [==============================] - 0s 2ms/step - loss: 0.6897 - accuracy: 0.5424 - val_loss: 0.6903 - val_accuracy: 0.5376\n",
            "Epoch 19/30\n",
            "233/233 [==============================] - 1s 2ms/step - loss: 0.6897 - accuracy: 0.5424 - val_loss: 0.6904 - val_accuracy: 0.5376\n",
            "Epoch 20/30\n",
            "233/233 [==============================] - 1s 2ms/step - loss: 0.6897 - accuracy: 0.5424 - val_loss: 0.6903 - val_accuracy: 0.5376\n",
            "Epoch 21/30\n",
            "233/233 [==============================] - 1s 2ms/step - loss: 0.6897 - accuracy: 0.5424 - val_loss: 0.6904 - val_accuracy: 0.5376\n",
            "Epoch 22/30\n",
            "233/233 [==============================] - 0s 2ms/step - loss: 0.6897 - accuracy: 0.5424 - val_loss: 0.6904 - val_accuracy: 0.5376\n",
            "Epoch 23/30\n",
            "233/233 [==============================] - 0s 2ms/step - loss: 0.6898 - accuracy: 0.5424 - val_loss: 0.6904 - val_accuracy: 0.5376\n",
            "Epoch 24/30\n",
            "233/233 [==============================] - 0s 2ms/step - loss: 0.6898 - accuracy: 0.5424 - val_loss: 0.6904 - val_accuracy: 0.5376\n",
            "Epoch 25/30\n",
            "233/233 [==============================] - 0s 2ms/step - loss: 0.6898 - accuracy: 0.5424 - val_loss: 0.6903 - val_accuracy: 0.5376\n",
            "Epoch 26/30\n",
            "233/233 [==============================] - 0s 2ms/step - loss: 0.6897 - accuracy: 0.5424 - val_loss: 0.6904 - val_accuracy: 0.5376\n",
            "Epoch 27/30\n",
            "233/233 [==============================] - 1s 2ms/step - loss: 0.6898 - accuracy: 0.5424 - val_loss: 0.6904 - val_accuracy: 0.5376\n",
            "Epoch 28/30\n",
            "233/233 [==============================] - 1s 2ms/step - loss: 0.6898 - accuracy: 0.5424 - val_loss: 0.6904 - val_accuracy: 0.5376\n",
            "Epoch 29/30\n",
            "233/233 [==============================] - 0s 2ms/step - loss: 0.6898 - accuracy: 0.5424 - val_loss: 0.6904 - val_accuracy: 0.5376\n",
            "Epoch 30/30\n",
            "233/233 [==============================] - 0s 2ms/step - loss: 0.6898 - accuracy: 0.5424 - val_loss: 0.6904 - val_accuracy: 0.5376\n"
          ]
        }
      ]
    },
    {
      "cell_type": "code",
      "source": [
        "tf.random.set_seed(13)\n",
        "np.random.seed(13)\n",
        "# точность \n",
        "\n",
        "train_loss, train_accuracy = model.evaluate(X_train, y_train, verbose=False)\n",
        "print(\"Training Accuracy: {:.4f}\".format(train_accuracy))\n",
        "val_loss, val_accuracy = model.evaluate(X_val, y_val, verbose=False)\n",
        "print(\"Validation Accuracy:  {:.4f}\".format(val_accuracy)) "
      ],
      "metadata": {
        "colab": {
          "base_uri": "https://localhost:8080/"
        },
        "id": "n7PmaAujPziC",
        "outputId": "92c500da-d497-4c87-ace9-37dc3d290076"
      },
      "execution_count": null,
      "outputs": [
        {
          "output_type": "stream",
          "name": "stdout",
          "text": [
            "Training Accuracy: 0.5424\n",
            "Validation Accuracy:  0.5376\n"
          ]
        }
      ]
    },
    {
      "cell_type": "code",
      "source": [
        "model.predict(X_val).shape, X_val.shape"
      ],
      "metadata": {
        "colab": {
          "base_uri": "https://localhost:8080/"
        },
        "id": "J3dD_6g8CJTx",
        "outputId": "27bd9792-9a1a-4ac1-bdc6-b06915034cd0"
      },
      "execution_count": null,
      "outputs": [
        {
          "output_type": "execute_result",
          "data": {
            "text/plain": [
              "((798, 1), (798, 297))"
            ]
          },
          "metadata": {},
          "execution_count": 69
        }
      ]
    },
    {
      "cell_type": "markdown",
      "metadata": {
        "id": "0NxfngK-iHi8"
      },
      "source": [
        "Линейная комбинация предсказания на текстах и финансовых. "
      ]
    },
    {
      "cell_type": "code",
      "metadata": {
        "id": "CCoaA5Vufv_W"
      },
      "source": [
        "# from sklearn.linear_model import LinearRegression\n",
        "# np.random.seed(13)\n",
        "\n",
        "# X_train, X_val, y_train, y_val = train_test_split(X_text, y, test_size=0.3)\n",
        "# lr_text = LogisticRegression(max_iter=1000)\n",
        "# lr_text.fit(X_train, y_train)\n",
        "# lr_text_pred = lr_text.predict(X_val)\n",
        "\n",
        "# X_train, X_val, y_train, y_val = train_test_split(X_fin, y, test_size=0.3)\n",
        "# lr_fin = LogisticRegression(max_iter=1000)\n",
        "# lr_fin.fit(X_train, y_train)\n",
        "# lr_fin_pred = lr_fin.predict(X_val)\n",
        "\n",
        "# lr_comb = LogisticRegression(max_iter=100)\n",
        "# lr_comb.fit(X_train, y_train)\n",
        "# lr_comb_pred = lr_comb.predict(X_val) \n",
        "# print(accuracy_score(lr_comb_pred, y_val)) \n",
        "# print(precision_recall_fscore_support(y_val, lr_comb_pred, average='binary'))\n",
        "# disp = plot_precision_recall_curve(lr_comb, X_val, y_val)\n",
        "# disp.ax_.set_title('Precision-Recall curve. Accuracy: {0:0.2f}'.format(accuracy_score(lr_comb_pred, y_val))) "
      ],
      "execution_count": null,
      "outputs": []
    },
    {
      "cell_type": "code",
      "metadata": {
        "id": "3tp9UFkZGcz4"
      },
      "source": [
        ""
      ],
      "execution_count": null,
      "outputs": []
    },
    {
      "cell_type": "markdown",
      "metadata": {
        "id": "p_o346ywJJUB"
      },
      "source": [
        "### NN"
      ]
    },
    {
      "cell_type": "code",
      "metadata": {
        "id": "FlGEhuLyGcrZ"
      },
      "source": [
        "import numpy as np \n",
        "import tensorflow as tf\n",
        "tf.random.set_seed(13)\n",
        "np.random.seed(13)\n",
        "\n",
        "from keras.models import Sequential\n",
        "from keras import layers\n",
        "from keras.backend import clear_session \n",
        "\n",
        "# построение модели \n",
        "model = Sequential()\n",
        "model.add(layers.Dense(100, input_dim=X_train.shape[1], activation='relu'))\n",
        "# model.add(layers.Dense(100, input_dim=300, activation='relu'))\n",
        "# model.add(layers.Dense(10, input_dim=100, activation='relu'))\n",
        "model.add(layers.Dense(1, activation='sigmoid'))"
      ],
      "execution_count": null,
      "outputs": []
    },
    {
      "cell_type": "code",
      "metadata": {
        "colab": {
          "base_uri": "https://localhost:8080/"
        },
        "id": "fm7HWO-d_ujd",
        "outputId": "7a008eaf-b885-4a5b-97dc-2b7cf1f84c18"
      },
      "source": [
        "tf.random.set_seed(13)\n",
        "np.random.seed(13)\n",
        "# настройка и обучение \n",
        "\n",
        "model.compile(loss='binary_crossentropy', \n",
        "               optimizer='adam', \n",
        "               metrics=['accuracy'])\n",
        "print(model.summary()) \n",
        "\n",
        "model.fit(X_train, y_train,\n",
        "          epochs=100,\n",
        "          verbose=False,\n",
        "          validation_data=(X_val, y_val), \n",
        "          batch_size=8)\n",
        "\n",
        "# почистить веса для перезапуска \n",
        "clear_session() "
      ],
      "execution_count": null,
      "outputs": [
        {
          "output_type": "stream",
          "text": [
            "Model: \"sequential\"\n",
            "_________________________________________________________________\n",
            "Layer (type)                 Output Shape              Param #   \n",
            "=================================================================\n",
            "dense (Dense)                (None, 100)               501000    \n",
            "_________________________________________________________________\n",
            "dense_1 (Dense)              (None, 1)                 101       \n",
            "=================================================================\n",
            "Total params: 501,101\n",
            "Trainable params: 501,101\n",
            "Non-trainable params: 0\n",
            "_________________________________________________________________\n",
            "None\n"
          ],
          "name": "stdout"
        }
      ]
    },
    {
      "cell_type": "code",
      "metadata": {
        "colab": {
          "base_uri": "https://localhost:8080/"
        },
        "id": "e_kZ4yIxJ5FW",
        "outputId": "31aeb11d-ce54-40db-89f2-23047d8f6714"
      },
      "source": [
        "tf.random.set_seed(13)\n",
        "np.random.seed(13)\n",
        "# точность \n",
        "\n",
        "train_loss, train_accuracy = model.evaluate(X_train, y_train, verbose=False)\n",
        "print(\"Training Accuracy: {:.4f}\".format(train_accuracy))\n",
        "val_loss, val_accuracy = model.evaluate(X_val, y_val, verbose=False)\n",
        "print(\"Validation Accuracy:  {:.4f}\".format(val_accuracy)) "
      ],
      "execution_count": null,
      "outputs": [
        {
          "output_type": "stream",
          "text": [
            "Training Accuracy: 1.0000\n",
            "Validation Accuracy:  0.5213\n"
          ],
          "name": "stdout"
        }
      ]
    },
    {
      "cell_type": "code",
      "metadata": {
        "id": "gQcfDS83J48F"
      },
      "source": [
        ""
      ],
      "execution_count": null,
      "outputs": []
    },
    {
      "cell_type": "code",
      "metadata": {
        "colab": {
          "base_uri": "https://localhost:8080/"
        },
        "id": "gLWKLTgpaD9y",
        "outputId": "ce1fd557-9181-4ea2-8f40-e1a466d61b17"
      },
      "source": [
        "import numpy as np \n",
        "import tensorflow as tf\n",
        "from keras.models import Sequential\n",
        "from keras import layers\n",
        "from keras.backend import clear_session \n",
        "\n",
        "tf.random.set_seed(13)\n",
        "np.random.seed(13)\n",
        "\n",
        "for first_layer_size in (50, 100, 200): \n",
        "  for n_epochs in (10, 50, 100): \n",
        "    for batch_size in (8, 16, 32): \n",
        "      model = Sequential()\n",
        "      model.add(layers.Dense(first_layer_size, input_dim=X_train.shape[1], activation='relu'))\n",
        "      model.add(layers.Dense(1, activation='sigmoid'))\n",
        "\n",
        "      model.compile(loss='binary_crossentropy', \n",
        "               optimizer='adam', \n",
        "               metrics=['accuracy'])\n",
        "\n",
        "      model.fit(X_train, y_train,\n",
        "                epochs=n_epochs,\n",
        "                verbose=False,\n",
        "                validation_data=(X_val, y_val), \n",
        "                batch_size=batch_size)\n",
        "\n",
        "      # почистить веса для перезапуска \n",
        "      clear_session() \n",
        "\n",
        "      val_loss, val_accuracy = model.evaluate(X_val, y_val, verbose=False)\n",
        "      print(\"first_layer_size: {}. n_epochs: {}. batch_size: {}. Validation Accuracy:  {:.4f}\".format(first_layer_size, n_epochs, batch_size, val_accuracy)) "
      ],
      "execution_count": null,
      "outputs": [
        {
          "output_type": "stream",
          "text": [
            "first_layer_size: 50. n_epochs: 10. batch_size: 8. Validation Accuracy:  0.5326\n",
            "first_layer_size: 50. n_epochs: 10. batch_size: 16. Validation Accuracy:  0.5251\n",
            "first_layer_size: 50. n_epochs: 10. batch_size: 32. Validation Accuracy:  0.5338\n",
            "first_layer_size: 50. n_epochs: 50. batch_size: 8. Validation Accuracy:  0.5301\n",
            "first_layer_size: 50. n_epochs: 50. batch_size: 16. Validation Accuracy:  0.5288\n",
            "first_layer_size: 50. n_epochs: 50. batch_size: 32. Validation Accuracy:  0.5313\n",
            "first_layer_size: 50. n_epochs: 100. batch_size: 8. Validation Accuracy:  0.5263\n",
            "first_layer_size: 50. n_epochs: 100. batch_size: 16. Validation Accuracy:  0.5251\n",
            "first_layer_size: 50. n_epochs: 100. batch_size: 32. Validation Accuracy:  0.5351\n",
            "first_layer_size: 100. n_epochs: 10. batch_size: 8. Validation Accuracy:  0.5163\n",
            "first_layer_size: 100. n_epochs: 10. batch_size: 16. Validation Accuracy:  0.5263\n",
            "first_layer_size: 100. n_epochs: 10. batch_size: 32. Validation Accuracy:  0.5226\n",
            "first_layer_size: 100. n_epochs: 50. batch_size: 8. Validation Accuracy:  0.5251\n",
            "first_layer_size: 100. n_epochs: 50. batch_size: 16. Validation Accuracy:  0.5351\n",
            "first_layer_size: 100. n_epochs: 50. batch_size: 32. Validation Accuracy:  0.5213\n",
            "first_layer_size: 100. n_epochs: 100. batch_size: 8. Validation Accuracy:  0.5251\n",
            "first_layer_size: 100. n_epochs: 100. batch_size: 16. Validation Accuracy:  0.5276\n",
            "first_layer_size: 100. n_epochs: 100. batch_size: 32. Validation Accuracy:  0.5263\n",
            "first_layer_size: 200. n_epochs: 10. batch_size: 8. Validation Accuracy:  0.5251\n",
            "first_layer_size: 200. n_epochs: 10. batch_size: 16. Validation Accuracy:  0.5238\n",
            "first_layer_size: 200. n_epochs: 10. batch_size: 32. Validation Accuracy:  0.5201\n",
            "first_layer_size: 200. n_epochs: 50. batch_size: 8. Validation Accuracy:  0.5263\n",
            "first_layer_size: 200. n_epochs: 50. batch_size: 16. Validation Accuracy:  0.5313\n",
            "first_layer_size: 200. n_epochs: 50. batch_size: 32. Validation Accuracy:  0.5213\n",
            "first_layer_size: 200. n_epochs: 100. batch_size: 8. Validation Accuracy:  0.5226\n",
            "first_layer_size: 200. n_epochs: 100. batch_size: 16. Validation Accuracy:  0.5226\n",
            "first_layer_size: 200. n_epochs: 100. batch_size: 32. Validation Accuracy:  0.5326\n"
          ],
          "name": "stdout"
        }
      ]
    },
    {
      "cell_type": "code",
      "metadata": {
        "id": "mQqlU3u-o-8n"
      },
      "source": [
        ""
      ],
      "execution_count": null,
      "outputs": []
    },
    {
      "cell_type": "markdown",
      "metadata": {
        "id": "te25BuS0a75p"
      },
      "source": [
        "Transformer"
      ]
    },
    {
      "cell_type": "code",
      "metadata": {
        "id": "P-ft3mKYaDzF"
      },
      "source": [
        "# ! pip install smaberta\n",
        "# from smaberta import TransformerModel\n",
        "\n",
        "# model = TransformerModel('roberta', 'roberta-base', num_labels=2, reprocess_input_data=True, \n",
        "#                          num_train_epochs=3, learning_rate=0.001, # , output_dir='./saved_model/'\n",
        "#                          overwrite_output_dir=True, fp16=False)"
      ],
      "execution_count": null,
      "outputs": []
    },
    {
      "cell_type": "code",
      "metadata": {
        "id": "2NKhwAx51VE1"
      },
      "source": [
        "# соберем тексты для BERT по дням \n",
        "reut_enrich_gr_cut.head(20)\n",
        "\n",
        "N_ARTICLES_BERT = 5\n",
        "\n",
        "reut_bert_flip = pd.DataFrame(columns=['dt', 'articles_concat'])\n",
        "\n",
        "for idt in set(spacy_enc_df['dt']):\n",
        "  # art_to_date = list(reut_enrich_gr_cut[reut_enrich_gr_cut['dt'] == idt]['Headlines'][:N_ARTICLES_BERT])\n",
        "  art_to_date = list(reut_enrich_gr_cut[reut_enrich_gr_cut['dt'] == idt]['Headlines'][:N_ARTICLES_BERT])\n",
        "  art_to_date_concat = ''\n",
        "  for i in range(len(art_to_date)): \n",
        "    art_to_date_concat += art_to_date[i].lower() # '<STOP>' +\n",
        "  if len(art_to_date) >= N_ARTICLES_BERT:\n",
        "    art_to_date_full = [str(idt)] + [art_to_date_concat]\n",
        "    art_to_date_df = pd.DataFrame(\n",
        "        [art_to_date_full], \n",
        "        columns=['dt', 'articles_concat'])\n",
        "    reut_bert_flip = reut_bert_flip.append(art_to_date_df)\n",
        "  else: \n",
        "    diff = N_ARTICLES_BERT - len(art_to_date)\n",
        "    # art_to_date_full = [str(idt)] + art_to_date + diff*['']\n",
        "    # заполним нулями недостающие статьи \n",
        "    art_to_date_concat_full = art_to_date_concat \n",
        "    art_to_date_full = [str(idt)] + [art_to_date_concat_full]\n",
        "    art_to_date_df = pd.DataFrame(\n",
        "        [art_to_date_full], \n",
        "        columns=['dt', 'articles_concat'])\n",
        "    reut_bert_flip = reut_bert_flip.append(art_to_date_df)\n",
        "\n",
        "reut_bert_flip['dt'] = reut_bert_flip['dt'].astype('datetime64[ns]')\n",
        "\n",
        "bert_df = reut_bert_flip.set_index('dt').join(\n",
        "    sp500_df.drop(columns=['dt', 'prev_idx']).set_index('dt_prev'), \n",
        "    rsuffix='_fin', how='inner').reset_index()\n",
        "\n",
        "\n",
        "# масштабированные данные \n",
        "mmscaler = MinMaxScaler() \n",
        "bert_df['Volume_prev'] = bert_df['Volume_prev'] / (10**9)\n",
        "# bert_df = pd.DataFrame(mmscaler.fit_transform(bert_df), columns=bert_df.columns)"
      ],
      "execution_count": null,
      "outputs": []
    },
    {
      "cell_type": "code",
      "metadata": {
        "colab": {
          "base_uri": "https://localhost:8080/",
          "height": 289
        },
        "id": "x_mSrhMN_888",
        "outputId": "a3751a74-c260-4daa-ec50-87b8079d8a89"
      },
      "source": [
        "# bert_X_train, bert_X_val, bert_y_train, bert_y_val = train_test_split(bert_df['articles_concat'], bert_df['target'], test_size=0.3)\n",
        "# bert_X_train.head()\n",
        "bert_df.head()"
      ],
      "execution_count": null,
      "outputs": [
        {
          "output_type": "execute_result",
          "data": {
            "text/html": [
              "<div>\n",
              "<style scoped>\n",
              "    .dataframe tbody tr th:only-of-type {\n",
              "        vertical-align: middle;\n",
              "    }\n",
              "\n",
              "    .dataframe tbody tr th {\n",
              "        vertical-align: top;\n",
              "    }\n",
              "\n",
              "    .dataframe thead th {\n",
              "        text-align: right;\n",
              "    }\n",
              "</style>\n",
              "<table border=\"1\" class=\"dataframe\">\n",
              "  <thead>\n",
              "    <tr style=\"text-align: right;\">\n",
              "      <th></th>\n",
              "      <th>level_0</th>\n",
              "      <th>articles_concat</th>\n",
              "      <th>index</th>\n",
              "      <th>chng_prev</th>\n",
              "      <th>candle_h_prev</th>\n",
              "      <th>Close_prev</th>\n",
              "      <th>Volume_prev</th>\n",
              "      <th>target</th>\n",
              "    </tr>\n",
              "  </thead>\n",
              "  <tbody>\n",
              "    <tr>\n",
              "      <th>0</th>\n",
              "      <td>2013-09-25</td>\n",
              "      <td>with q3 earnings expectations falling  where t...</td>\n",
              "      <td>1253</td>\n",
              "      <td>-5.25</td>\n",
              "      <td>9.83</td>\n",
              "      <td>1692.77</td>\n",
              "      <td>1.749294</td>\n",
              "      <td>1</td>\n",
              "    </tr>\n",
              "    <tr>\n",
              "      <th>1</th>\n",
              "      <td>2009-07-07</td>\n",
              "      <td>nikkei hits 6 wk low on yen  machinery stocks ...</td>\n",
              "      <td>190</td>\n",
              "      <td>-17.69</td>\n",
              "      <td>18.79</td>\n",
              "      <td>881.03</td>\n",
              "      <td>2.596278</td>\n",
              "      <td>0</td>\n",
              "    </tr>\n",
              "    <tr>\n",
              "      <th>2</th>\n",
              "      <td>2012-12-04</td>\n",
              "      <td>european markets look lower the nation s balan...</td>\n",
              "      <td>1050</td>\n",
              "      <td>-2.10</td>\n",
              "      <td>9.14</td>\n",
              "      <td>1407.05</td>\n",
              "      <td>1.804283</td>\n",
              "      <td>1</td>\n",
              "    </tr>\n",
              "    <tr>\n",
              "      <th>3</th>\n",
              "      <td>2011-04-21</td>\n",
              "      <td>update 3 jfe eyes asian recovery after q4 slam...</td>\n",
              "      <td>643</td>\n",
              "      <td>4.15</td>\n",
              "      <td>4.66</td>\n",
              "      <td>1337.38</td>\n",
              "      <td>1.992911</td>\n",
              "      <td>0</td>\n",
              "    </tr>\n",
              "    <tr>\n",
              "      <th>4</th>\n",
              "      <td>2009-08-04</td>\n",
              "      <td>update 2 bmw to sell own brand electric cars q...</td>\n",
              "      <td>210</td>\n",
              "      <td>3.02</td>\n",
              "      <td>10.44</td>\n",
              "      <td>1005.65</td>\n",
              "      <td>3.174278</td>\n",
              "      <td>0</td>\n",
              "    </tr>\n",
              "  </tbody>\n",
              "</table>\n",
              "</div>"
            ],
            "text/plain": [
              "     level_0  ... target\n",
              "0 2013-09-25  ...      1\n",
              "1 2009-07-07  ...      0\n",
              "2 2012-12-04  ...      1\n",
              "3 2011-04-21  ...      0\n",
              "4 2009-08-04  ...      0\n",
              "\n",
              "[5 rows x 8 columns]"
            ]
          },
          "metadata": {
            "tags": []
          },
          "execution_count": 60
        }
      ]
    },
    {
      "cell_type": "code",
      "metadata": {
        "id": "NftMXu9suWQD"
      },
      "source": [
        " # model.train(bert_X_train, bert_y_train)"
      ],
      "execution_count": null,
      "outputs": []
    },
    {
      "cell_type": "code",
      "metadata": {
        "id": "GSnjKMR3uWF-"
      },
      "source": [
        "# bert_preds, bert_model_outputs = model.predict(bert_X_val) # bert_df.drop(columns='target'))\n",
        "# accuracy_score(bert_preds, bert_y_val) # bert_df['target'])"
      ],
      "execution_count": null,
      "outputs": []
    },
    {
      "cell_type": "code",
      "metadata": {
        "id": "X6f-PihFJaJ0"
      },
      "source": [
        "# токенизация для BERT \n",
        "from keras.preprocessing.text import Tokenizer\n",
        "from keras.preprocessing.sequence import pad_sequences\n",
        "\n",
        "# The maximum number of words to be used. (most frequent)\n",
        "MAX_NB_WORDS = 50000 # 50000\n",
        "# Max number of words in each text.\n",
        "MAX_SEQUENCE_LENGTH = 40 # 250\n",
        "\n",
        "tokenizer = Tokenizer(num_words=MAX_NB_WORDS, filters='!\"#$%&()*+,-./:;<=>?@[\\]^_`{|}~', lower=True)\n",
        "tokenizer.fit_on_texts(bert_df['articles_concat'].values)\n",
        "\n",
        "bert_X0 = tokenizer.texts_to_sequences(bert_df['articles_concat'].values)\n",
        "bert_X = pad_sequences(bert_X0, maxlen=MAX_SEQUENCE_LENGTH, padding='post')\n",
        "\n",
        "bert_X_train, bert_X_val, bert_y_train, bert_y_val = train_test_split(bert_X, bert_df['target'], test_size=0.3, random_state=13) "
      ],
      "execution_count": null,
      "outputs": []
    },
    {
      "cell_type": "markdown",
      "metadata": {
        "id": "vu32ki_Wyz2s"
      },
      "source": [
        "### LSTM "
      ]
    },
    {
      "cell_type": "code",
      "metadata": {
        "id": "-hGoVuX0RxOV"
      },
      "source": [
        "# соберем тексты для LSTM по дням \n",
        "N_ARTICLES_BERT = 1\n",
        "\n",
        "reut_bert_flip = pd.DataFrame(columns=['dt', 'articles_concat'])\n",
        "\n",
        "# попробуем лемматизированные тексты \n",
        "reut_lstm = reut_enrich_gr_cut\n",
        "reut_lstm['Headlines'] = headl_tok\n",
        "\n",
        "for idt in set(spacy_enc_df['dt']):\n",
        "  # art_to_date = list(reut_enrich_gr_cut[reut_enrich_gr_cut['dt'] == idt]['Headlines'][:N_ARTICLES_BERT])\n",
        "  art_to_date = list(reut_enrich_gr_cut[reut_enrich_gr_cut['dt'] == idt]['Headlines'][:N_ARTICLES_BERT])\n",
        "  art_to_date_concat = ''\n",
        "  for i in range(len(art_to_date)): \n",
        "    art_to_date_concat += art_to_date[i].lower() # '<STOP>' +\n",
        "  if len(art_to_date) >= N_ARTICLES_BERT:\n",
        "    art_to_date_full = [str(idt)] + [art_to_date_concat]\n",
        "    art_to_date_df = pd.DataFrame(\n",
        "        [art_to_date_full], \n",
        "        columns=['dt', 'articles_concat'])\n",
        "    reut_bert_flip = reut_bert_flip.append(art_to_date_df)\n",
        "  else: \n",
        "    diff = N_ARTICLES_BERT - len(art_to_date)\n",
        "    # art_to_date_full = [str(idt)] + art_to_date + diff*['']\n",
        "    # заполним нулями недостающие статьи \n",
        "    art_to_date_concat_full = art_to_date_concat \n",
        "    art_to_date_full = [str(idt)] + [art_to_date_concat_full]\n",
        "    art_to_date_df = pd.DataFrame(\n",
        "        [art_to_date_full], \n",
        "        columns=['dt', 'articles_concat'])\n",
        "    reut_bert_flip = reut_bert_flip.append(art_to_date_df)\n",
        "\n",
        "reut_bert_flip['dt'] = reut_bert_flip['dt'].astype('datetime64[ns]')\n",
        "\n",
        "bert_df = reut_bert_flip.set_index('dt').join(\n",
        "    sp500_df.drop(columns=['dt', 'prev_idx']).set_index('dt_prev'), \n",
        "    rsuffix='_fin', how='inner').reset_index()\n",
        "\n",
        "\n",
        "bert_df['Volume_prev'] = bert_df['Volume_prev'] / (10**9)\n",
        "# bert_df = pd.DataFrame(mmscaler.fit_transform(bert_df), columns=bert_df.columns)"
      ],
      "execution_count": null,
      "outputs": []
    },
    {
      "cell_type": "code",
      "metadata": {
        "id": "1ZDryx35R1IG"
      },
      "source": [
        "# токенизация для LSTM  \n",
        "from keras.preprocessing.text import Tokenizer\n",
        "from keras.preprocessing.sequence import pad_sequences\n",
        "\n",
        "# The maximum number of words to be used. (most frequent)\n",
        "MAX_NB_WORDS = 3000 # 50000\n",
        "# Max number of words in each text.\n",
        "MAX_SEQUENCE_LENGTH = 10 * N_ARTICLES_BERT # 15\n",
        "\n",
        "bert_df = bert_df.sort_values(by='level_0')\n",
        "tokenizer = Tokenizer(num_words=MAX_NB_WORDS, filters='!\"#$%&()*+,-./:;<=>?@[\\]^_`{|}~', lower=True)\n",
        "tokenizer.fit_on_texts(bert_df['articles_concat'].values)\n",
        "\n",
        "bert_X0 = tokenizer.texts_to_sequences(bert_df['articles_concat'].values)\n",
        "bert_X = pd.DataFrame(pad_sequences(bert_X0, maxlen=MAX_SEQUENCE_LENGTH, padding='post'))\n",
        "\n",
        "# mmscaler = MinMaxScaler() \n",
        "# bert_X = pd.DataFrame(mmscaler.fit_transform(bert_X), columns=bert_X.columns)\n",
        "\n",
        "bert_X_train, bert_X_val, bert_y_train, bert_y_val = train_test_split(bert_X, pd.DataFrame(bert_df['target']), test_size=0.3, random_state=13) \n",
        "bert_X_train = bert_X[:1900]\n",
        "bert_X_val = bert_X[1900:]\n",
        "bert_y_train = pd.DataFrame(bert_df['target'])[:1900]\n",
        "bert_y_val = pd.DataFrame(bert_df['target'])[1900:] \n",
        "# bert_X_train = bert_X\n",
        "# bert_y_train = bert_df['target']\n",
        "\n",
        "# tfifd embedding \n",
        "# bert_X = pd.DataFrame(np.array(list(united_df['articles_concat'])).reshape(united_df.shape[0], \n",
        "#                                                                            len(united_df['articles_concat'][0])))\n",
        "# bert_X_train, bert_X_val, bert_y_train, bert_y_val = train_test_split(bert_X, united_df['target'], test_size=0.3, random_state=13) "
      ],
      "execution_count": null,
      "outputs": []
    },
    {
      "cell_type": "code",
      "metadata": {
        "colab": {
          "base_uri": "https://localhost:8080/"
        },
        "id": "1UtNnBcq-KjC",
        "outputId": "81f4aa78-dd01-4a7a-f27f-1cc8a7fe4554"
      },
      "source": [
        "# https://towardsdatascience.com/multi-class-text-classification-with-lstm-1590bee1bd17\n",
        "\n",
        "from keras.layers import Embedding\n",
        "from keras import Sequential \n",
        "from keras.layers import SpatialDropout1D\n",
        "from keras.layers import LSTM\n",
        "from keras.layers import Dense \n",
        "from keras.callbacks import EarlyStopping\n",
        "from keras.backend import clear_session \n",
        "from keras.losses import SparseCategoricalCrossentropy\n",
        "from keras.optimizers import SGD\n",
        "\n",
        "# This is fixed.\n",
        "EMBEDDING_DIM = 32 # 128\n",
        "\n",
        "# optimizer \n",
        "sgd = SGD(learning_rate=0.1)\n",
        "\n",
        "model = Sequential()\n",
        "model.add(Embedding(MAX_NB_WORDS, EMBEDDING_DIM, input_length=bert_X.shape[1])) # bert_df['articles_concat'] input_length=bert_X.shape[1]\n",
        "model.add(SpatialDropout1D(0.1))\n",
        "model.add(LSTM(100, dropout=0.1, recurrent_dropout=0.1)) # 100 recurrent_dropout=0.1\n",
        "model.add(Dense(50, activation='tanh'))\n",
        "model.add(Dense(1, activation='softmax'))\n",
        "# model.compile(loss='categorical_crossentropy', optimizer=sgd, metrics=['accuracy'])\n",
        "model.compile(loss='categorical_crossentropy', optimizer='adam', metrics=['accuracy'])\n",
        "\n",
        "epochs = 5\n",
        "batch_size = 32 # 64\n",
        "\n",
        "history = model.fit(bert_X_train, bert_y_train, validation_data=(bert_X_val, bert_y_val), \n",
        "                    epochs=epochs, batch_size=batch_size, # validation_split=0.3, \n",
        "                    # callbacks=[EarlyStopping(monitor='val_loss', patience=3, min_delta=0.0001)]\n",
        "                    )\n",
        "\n",
        "clear_session() "
      ],
      "execution_count": null,
      "outputs": [
        {
          "output_type": "stream",
          "text": [
            "Epoch 1/5\n",
            "60/60 [==============================] - 8s 47ms/step - loss: 0.0000e+00 - accuracy: 0.5322 - val_loss: 0.0000e+00 - val_accuracy: 0.5487\n",
            "Epoch 2/5\n",
            "60/60 [==============================] - 2s 25ms/step - loss: 0.0000e+00 - accuracy: 0.5505 - val_loss: 0.0000e+00 - val_accuracy: 0.5487\n",
            "Epoch 3/5\n",
            "60/60 [==============================] - 2s 28ms/step - loss: 0.0000e+00 - accuracy: 0.5489 - val_loss: 0.0000e+00 - val_accuracy: 0.5487\n",
            "Epoch 4/5\n",
            "60/60 [==============================] - 2s 31ms/step - loss: 0.0000e+00 - accuracy: 0.5406 - val_loss: 0.0000e+00 - val_accuracy: 0.5487\n",
            "Epoch 5/5\n",
            "60/60 [==============================] - 2s 27ms/step - loss: 0.0000e+00 - accuracy: 0.5459 - val_loss: 0.0000e+00 - val_accuracy: 0.5487\n"
          ],
          "name": "stdout"
        }
      ]
    },
    {
      "cell_type": "code",
      "metadata": {
        "colab": {
          "base_uri": "https://localhost:8080/"
        },
        "id": "XPKOCDmH-KXc",
        "outputId": "944bca43-367c-4a13-9db0-515c4752e41e"
      },
      "source": [
        "# headl_enc_spacy[:, :, None].shape\n",
        "headl_enc_spacy.shape \n",
        "model.evaluate(bert_X_val, bert_y_val, batch_size=128)"
      ],
      "execution_count": null,
      "outputs": [
        {
          "output_type": "stream",
          "text": [
            "6/6 [==============================] - 0s 10ms/step - loss: 0.0000e+00 - accuracy: 0.5487\n"
          ],
          "name": "stdout"
        },
        {
          "output_type": "execute_result",
          "data": {
            "text/plain": [
              "[0.0, 0.5486842393875122]"
            ]
          },
          "metadata": {
            "tags": []
          },
          "execution_count": 65
        }
      ]
    },
    {
      "cell_type": "code",
      "metadata": {
        "colab": {
          "base_uri": "https://localhost:8080/"
        },
        "id": "lO6L2kMPlzgY",
        "outputId": "c4264e65-d145-4869-a262-7e785feafd72"
      },
      "source": [
        "bert_X_val.shape"
      ],
      "execution_count": null,
      "outputs": [
        {
          "output_type": "execute_result",
          "data": {
            "text/plain": [
              "(760, 10)"
            ]
          },
          "metadata": {
            "tags": []
          },
          "execution_count": 405
        }
      ]
    },
    {
      "cell_type": "code",
      "metadata": {
        "colab": {
          "base_uri": "https://localhost:8080/"
        },
        "id": "MmP-bMI5lzWx",
        "outputId": "fff10048-ee43-4adc-b79c-fa9ab3e43eab"
      },
      "source": [
        "model.summary()"
      ],
      "execution_count": null,
      "outputs": [
        {
          "output_type": "stream",
          "text": [
            "Model: \"sequential\"\n",
            "_________________________________________________________________\n",
            "Layer (type)                 Output Shape              Param #   \n",
            "=================================================================\n",
            "embedding (Embedding)        (None, 10, 32)            96000     \n",
            "_________________________________________________________________\n",
            "spatial_dropout1d (SpatialDr (None, 10, 32)            0         \n",
            "_________________________________________________________________\n",
            "lstm (LSTM)                  (None, 100)               53200     \n",
            "_________________________________________________________________\n",
            "dense (Dense)                (None, 50)                5050      \n",
            "_________________________________________________________________\n",
            "dense_1 (Dense)              (None, 1)                 51        \n",
            "=================================================================\n",
            "Total params: 154,301\n",
            "Trainable params: 154,301\n",
            "Non-trainable params: 0\n",
            "_________________________________________________________________\n"
          ],
          "name": "stdout"
        }
      ]
    },
    {
      "cell_type": "code",
      "metadata": {
        "id": "pzBsw0MolzFH"
      },
      "source": [
        ""
      ],
      "execution_count": null,
      "outputs": []
    },
    {
      "cell_type": "code",
      "metadata": {
        "id": "dYUOuMh6_888"
      },
      "source": [
        ""
      ],
      "execution_count": null,
      "outputs": []
    },
    {
      "cell_type": "code",
      "metadata": {
        "id": "usQgnzBIMVwf"
      },
      "source": [
        ""
      ],
      "execution_count": null,
      "outputs": []
    },
    {
      "cell_type": "markdown",
      "metadata": {
        "id": "OeYNO6ENmoWV"
      },
      "source": [
        "## Эксперименты "
      ]
    },
    {
      "cell_type": "markdown",
      "metadata": {
        "id": "y-gHHeWWl2hV"
      },
      "source": [
        "### word2vec"
      ]
    },
    {
      "cell_type": "code",
      "metadata": {
        "id": "-JgIYH1cpXCO"
      },
      "source": [
        "# tokenization and lemmat for WORD2VEC\n",
        "ttok = TweetTokenizer()\n",
        "lemmatizer = WordNetLemmatizer()\n",
        "\n",
        "english_stopwords = stopwords.words(\"english\")\n",
        "# english_stopwords = []\n",
        "\n",
        "def tok_n_join(text):\n",
        "    tok_text = ttok.tokenize(text.lower())\n",
        "    tok_text_clean = []\n",
        "    for w in tok_text:\n",
        "      if w not in english_stopwords:\n",
        "        w_lem = lemmatizer.lemmatize(w)\n",
        "        tok_text_clean.append(w_lem)\n",
        "    return tok_text_clean \n",
        "    # return ' '.join(tok_text)\n",
        "\n",
        "# headl_tok = reut_enrich_gr['Headlines'].apply(tok_n_join)\n",
        "w2v_tok = reut_enrich_gr_cut['Headlines'].apply(tok_n_join)"
      ],
      "execution_count": null,
      "outputs": []
    },
    {
      "cell_type": "code",
      "metadata": {
        "colab": {
          "base_uri": "https://localhost:8080/",
          "height": 111
        },
        "id": "VhdtLfuRowFi",
        "outputId": "db187917-fec9-4956-f5e2-7d7703c57233"
      },
      "source": [
        "N_ARTICLES = 1\n",
        "\n",
        "# prepare data \n",
        "w2v_enc_df = reut_enrich_gr_cut[['dt']]\n",
        "w2v_enc_df['headl_enc'] = w2v_tok\n",
        "\n",
        "# перенесем заголовки в столбцы и возьмем только 5 \n",
        "# N_ARTICLES = 10\n",
        "art_flipped = pd.DataFrame(columns=['dt', 'articles_concat'])\n",
        "\n",
        "for idt in set(w2v_enc_df['dt']):\n",
        "  emb_dimension = len(list(w2v_enc_df['headl_enc'])[0])\n",
        "\n",
        "  art_to_date = list(w2v_enc_df[w2v_enc_df['dt'] == idt]['headl_enc'][:N_ARTICLES])\n",
        "  art_to_date_concat = []\n",
        "  for i in range(len(art_to_date)): \n",
        "\n",
        "    art_to_date_concat += art_to_date[i]\n",
        "\n",
        "  art_to_date_full = [str(idt)] + [art_to_date_concat]\n",
        "  art_to_date_df = pd.DataFrame(\n",
        "      [art_to_date_full],\n",
        "      columns=['dt', 'articles_concat'])\n",
        "  art_flipped = art_flipped.append(art_to_date_df)\n",
        "\n",
        "# формат дат \n",
        "art_flipped['dt'] = art_flipped['dt'].astype('datetime64[ns]')\n",
        "\n",
        "# объединим с числовыми данными о текстах \n",
        "reut_art_df = art_flipped.set_index('dt').join(\n",
        "    reut_enrich_gr[['dt', 'weekday_n', 'hcnt_gr', 'weekday_shift']].set_index('dt')\n",
        "  , how='inner').reset_index().drop_duplicates(subset=['dt'])\n",
        "\n",
        "reut_art_df = reut_art_df.sort_values(by='dt')\n",
        "reut_art_df.head(2) "
      ],
      "execution_count": null,
      "outputs": [
        {
          "output_type": "execute_result",
          "data": {
            "text/html": [
              "<div>\n",
              "<style scoped>\n",
              "    .dataframe tbody tr th:only-of-type {\n",
              "        vertical-align: middle;\n",
              "    }\n",
              "\n",
              "    .dataframe tbody tr th {\n",
              "        vertical-align: top;\n",
              "    }\n",
              "\n",
              "    .dataframe thead th {\n",
              "        text-align: right;\n",
              "    }\n",
              "</style>\n",
              "<table border=\"1\" class=\"dataframe\">\n",
              "  <thead>\n",
              "    <tr style=\"text-align: right;\">\n",
              "      <th></th>\n",
              "      <th>dt</th>\n",
              "      <th>articles_concat</th>\n",
              "      <th>weekday_n</th>\n",
              "      <th>hcnt_gr</th>\n",
              "      <th>weekday_shift</th>\n",
              "    </tr>\n",
              "  </thead>\n",
              "  <tbody>\n",
              "    <tr>\n",
              "      <th>0</th>\n",
              "      <td>2008-10-02</td>\n",
              "      <td>[nikkei, 1, 4, pct, hit, lowest, point, 3, yea...</td>\n",
              "      <td>3</td>\n",
              "      <td>1.0</td>\n",
              "      <td>3</td>\n",
              "    </tr>\n",
              "    <tr>\n",
              "      <th>1</th>\n",
              "      <td>2008-10-03</td>\n",
              "      <td>[u, stock, rally, dollar, gain, european, weak...</td>\n",
              "      <td>4</td>\n",
              "      <td>4.0</td>\n",
              "      <td>4</td>\n",
              "    </tr>\n",
              "  </tbody>\n",
              "</table>\n",
              "</div>"
            ],
            "text/plain": [
              "          dt  ... weekday_shift\n",
              "0 2008-10-02  ...             3\n",
              "1 2008-10-03  ...             4\n",
              "\n",
              "[2 rows x 5 columns]"
            ]
          },
          "metadata": {
            "tags": []
          },
          "execution_count": 85
        }
      ]
    },
    {
      "cell_type": "code",
      "metadata": {
        "colab": {
          "base_uri": "https://localhost:8080/"
        },
        "id": "B6btS3J5FUdT",
        "outputId": "752ca1ed-e4eb-4689-9edb-8918993e5105"
      },
      "source": [
        "reut_art_df['articles_concat'].shape\n",
        "len(tfidf.vocabulary_)"
      ],
      "execution_count": null,
      "outputs": [
        {
          "output_type": "execute_result",
          "data": {
            "text/plain": [
              "15000"
            ]
          },
          "metadata": {
            "tags": []
          },
          "execution_count": 86
        }
      ]
    },
    {
      "cell_type": "code",
      "metadata": {
        "id": "N0JmP4SDl1fP"
      },
      "source": [
        "from gensim.models import Word2Vec\n",
        "# w2v = Word2Vec(sentences=headl_tok, vector_size=100, window=5, min_count=1, workers=4)\n",
        "# model.train([[\"hello\", \"world\"]], total_examples=1, epochs=1)\n",
        "w2v_emb_size = 8 # 128\n",
        "w2v = Word2Vec(min_count=TFIDF_MIN_DF, # 5,\n",
        "                     window=5,\n",
        "                     size=w2v_emb_size,\n",
        "                    #  sample=6e-5, \n",
        "                    #  alpha=0.03, \n",
        "                    #  min_alpha=0.0007, \n",
        "                    #  negative=20,\n",
        "                     workers=2)\n",
        "w2v.build_vocab(reut_art_df['articles_concat'], progress_per=1000)"
      ],
      "execution_count": null,
      "outputs": []
    },
    {
      "cell_type": "code",
      "metadata": {
        "colab": {
          "base_uri": "https://localhost:8080/"
        },
        "id": "oXO7Y1Jxl1Ka",
        "outputId": "30f7e0b8-5e25-4ff8-89a9-4db996c1fdec"
      },
      "source": [
        "w2v.train(reut_art_df['articles_concat'], \n",
        "          total_examples= len(tfidf.vocabulary_), # reut_art_df['articles_concat'].shape[0], \n",
        "          epochs=1, \n",
        "          report_delay=1)"
      ],
      "execution_count": null,
      "outputs": [
        {
          "output_type": "execute_result",
          "data": {
            "text/plain": [
              "(1254760, 1339957)"
            ]
          },
          "metadata": {
            "tags": []
          },
          "execution_count": 88
        }
      ]
    },
    {
      "cell_type": "code",
      "metadata": {
        "id": "vsi36jfgsZ6d"
      },
      "source": [
        "# усредненные векторы по предложениям \n",
        "reut_w2v_enc = []\n",
        "\n",
        "# reut_art_df.head()\n",
        "for i in range(len(reut_art_df['dt'])):\n",
        "  sent_enc = np.zeros(w2v_emb_size)\n",
        "  sent = list(reut_art_df['articles_concat'])[i]\n",
        "  word_cnt = 0\n",
        "  for word in sent:\n",
        "    if word in w2v.wv:\n",
        "      sent_enc += w2v.wv[word]\n",
        "      word_cnt += 1\n",
        "  \n",
        "  if word_cnt == 0:\n",
        "    reut_w2v_enc.append(sent_enc)\n",
        "  else: \n",
        "    sent_enc_mean = sent_enc / word_cnt\n",
        "    reut_w2v_enc.append(sent_enc_mean)\n",
        "\n",
        "\n",
        "reut_art_df['w2v_enc'] = reut_w2v_enc"
      ],
      "execution_count": null,
      "outputs": []
    },
    {
      "cell_type": "code",
      "metadata": {
        "id": "ETjSHONtxA7I"
      },
      "source": [
        "# индекс для финансового индекса  \n",
        "sp500_df = sp500_enrich[['dt', 'chng_prev', 'candle_h_prev', \n",
        "                         'Close_prev', 'Volume_prev', 'target']] \n",
        "sp500_df = sp500_df.sort_values(by='dt') \n",
        "sp500_idxs = np.arange(len(sp500_df))\n",
        "sp500_df['idx'] = sp500_idxs\n",
        "sp500_df['prev_idx'] = sp500_df['idx'] + 1\n",
        "\n",
        "sp500_df = sp500_df.set_index('idx').join(sp500_df[['prev_idx', 'dt']].set_index('prev_idx'), \n",
        "                                  rsuffix='_prev', how='inner').reset_index()\n",
        "\n",
        "# объединим\n",
        "# связываем индекс с предыдущим \n",
        "w2v_united_df = reut_art_df.set_index('dt').join(\n",
        "    sp500_df.drop(columns=['dt', 'prev_idx']).set_index('dt_prev'), \n",
        "    rsuffix='_fin', how='inner').reset_index()"
      ],
      "execution_count": null,
      "outputs": []
    },
    {
      "cell_type": "code",
      "metadata": {
        "id": "kuRdFaRZvege"
      },
      "source": [
        "np.random.seed(13) \n",
        "X_w2v = np.array(list(w2v_united_df['w2v_enc'])).reshape(np.array(list(w2v_united_df['w2v_enc'])).shape[0], \n",
        "                                               len(np.array(list(w2v_united_df['w2v_enc']))[0]))\n",
        "y_w2v = w2v_united_df['target']\n",
        "\n",
        "# X_w2v = pd.concat([X_fin, pd.DataFrame(X_w2v)], axis=1)\n",
        "X_train, X_val, y_train, y_val = train_test_split(X_w2v, y_w2v, test_size=0.3)"
      ],
      "execution_count": null,
      "outputs": []
    },
    {
      "cell_type": "code",
      "metadata": {
        "colab": {
          "base_uri": "https://localhost:8080/"
        },
        "id": "_hkWcxdwveSO",
        "outputId": "d5e93652-3908-4ccc-e961-8e09549348b5"
      },
      "source": [
        "from sklearn.linear_model import LogisticRegression \n",
        "from sklearn.metrics import accuracy_score\n",
        "np.random.seed(13)\n",
        "\n",
        "lr = LogisticRegression(max_iter=5000)\n",
        "lr.fit(X_train, y_train)\n",
        "lr_pred = lr.predict(X_val)\n",
        "accuracy_score(lr_pred, y_val)"
      ],
      "execution_count": null,
      "outputs": [
        {
          "output_type": "execute_result",
          "data": {
            "text/plain": [
              "0.5200501253132832"
            ]
          },
          "metadata": {
            "tags": []
          },
          "execution_count": 110
        }
      ]
    },
    {
      "cell_type": "code",
      "metadata": {
        "id": "G4nKFphtRrIl",
        "colab": {
          "base_uri": "https://localhost:8080/",
          "height": 312
        },
        "outputId": "6272e44a-d6d2-40d5-cd2a-844d01fbd9e2"
      },
      "source": [
        "from sklearn.metrics import precision_recall_curve\n",
        "from sklearn.metrics import plot_precision_recall_curve\n",
        "import matplotlib.pyplot as plt\n",
        "\n",
        "disp = plot_precision_recall_curve(lr, X_val, y_val)\n",
        "disp.ax_.set_title('Precision-Recall curve. Accuracy: {0:0.2f}'.format(accuracy_score(lr_pred, y_val)))"
      ],
      "execution_count": null,
      "outputs": [
        {
          "output_type": "execute_result",
          "data": {
            "text/plain": [
              "Text(0.5, 1.0, 'Precision-Recall curve. Accuracy: 0.52')"
            ]
          },
          "metadata": {
            "tags": []
          },
          "execution_count": 111
        },
        {
          "output_type": "display_data",
          "data": {
            "image/png": "[encoded data removed]",
            "text/plain": [
              "<Figure size 432x288 with 1 Axes>"
            ]
          },
          "metadata": {
            "tags": [],
            "needs_background": "light"
          }
        }
      ]
    },
    {
      "cell_type": "code",
      "metadata": {
        "id": "Jao4ltM3De5R"
      },
      "source": [
        ""
      ],
      "execution_count": null,
      "outputs": []
    },
    {
      "cell_type": "code",
      "metadata": {
        "id": "sTIJMB3PDeCj",
        "colab": {
          "base_uri": "https://localhost:8080/"
        },
        "outputId": "199b4c8c-ec83-42b7-934d-ebc5737aef39"
      },
      "source": [
        "# ! pip install catboost \n",
        "from catboost import CatBoostRegressor\n",
        "\n",
        "model = CatBoostRegressor(iterations=5,\n",
        "                          learning_rate=1,\n",
        "                          depth=4)\n",
        "# Fit model\n",
        "model.fit(X_train, y_train)\n",
        "# Get predictions\n",
        "cbr_pred = model.predict(X_val)\n",
        "accuracy_score(cbr_pred.round(), y_val)"
      ],
      "execution_count": null,
      "outputs": [
        {
          "output_type": "stream",
          "text": [
            "0:\tlearn: 0.4930822\ttotal: 1.31ms\tremaining: 5.25ms\n",
            "1:\tlearn: 0.4901782\ttotal: 4.27ms\tremaining: 6.41ms\n",
            "2:\tlearn: 0.4876443\ttotal: 6.13ms\tremaining: 4.08ms\n",
            "3:\tlearn: 0.4865043\ttotal: 8.4ms\tremaining: 2.1ms\n",
            "4:\tlearn: 0.4840139\ttotal: 9.68ms\tremaining: 0us\n"
          ],
          "name": "stdout"
        },
        {
          "output_type": "execute_result",
          "data": {
            "text/plain": [
              "0.5100250626566416"
            ]
          },
          "metadata": {
            "tags": []
          },
          "execution_count": 113
        }
      ]
    },
    {
      "cell_type": "markdown",
      "metadata": {
        "id": "PBHOGWlOQDvc"
      },
      "source": [
        "word2vec + LSTM "
      ]
    },
    {
      "cell_type": "code",
      "metadata": {
        "colab": {
          "base_uri": "https://localhost:8080/"
        },
        "id": "gJKyopH5UTNu",
        "outputId": "6e23e0c2-f658-4524-cd0e-1bfebc6271b2"
      },
      "source": [
        "# индекс для финансового индекса  \n",
        "sp500_df = sp500_enrich[['dt', 'chng_prev', 'candle_h_prev', \n",
        "                         'Close_prev', 'Volume_prev', 'target']] \n",
        "sp500_df = sp500_df.sort_values(by='dt') \n",
        "sp500_idxs = np.arange(len(sp500_df))\n",
        "sp500_df['idx'] = sp500_idxs\n",
        "sp500_df['prev_idx'] = sp500_df['idx'] + 1\n",
        "\n",
        "sp500_df = sp500_df.set_index('idx').join(sp500_df[['prev_idx', 'dt']].set_index('prev_idx'), \n",
        "                                  rsuffix='_prev', how='inner').reset_index()\n",
        "\n",
        "# объединим\n",
        "# связываем индекс с предыдущим \n",
        "w2v_united_df = reut_art_df.set_index('dt').join(\n",
        "    sp500_df.drop(columns=['dt', 'prev_idx']).set_index('dt_prev'), \n",
        "    rsuffix='_fin', how='inner').reset_index()\n",
        "\n",
        "\n",
        "w2v_united_df.head()\n",
        "w2v_united_df.shape"
      ],
      "execution_count": null,
      "outputs": [
        {
          "output_type": "execute_result",
          "data": {
            "text/plain": [
              "(2660, 12)"
            ]
          },
          "metadata": {
            "tags": []
          },
          "execution_count": 66
        }
      ]
    },
    {
      "cell_type": "code",
      "metadata": {
        "id": "NerHBd7FQF77"
      },
      "source": [
        "# https://towardsdatascience.com/multi-class-text-classification-with-lstm-1590bee1bd17\n",
        "# https://stackoverflow.com/questions/42064690/using-pre-trained-word2vec-with-lstm-for-word-generation\n",
        "\n",
        "from keras.layers import Embedding\n",
        "from keras import Sequential \n",
        "from keras.layers import SpatialDropout1D\n",
        "from keras.layers import LSTM\n",
        "from keras.layers import Dense \n",
        "from keras.callbacks import EarlyStopping\n",
        "from keras.backend import clear_session \n",
        "from keras.losses import SparseCategoricalCrossentropy\n",
        "from keras.optimizers import SGD\n",
        "from keras.layers import Conv1D\n",
        "from keras.layers import Conv2D \n",
        "\n",
        "max_sentence_len = 15\n",
        "def list_cutter(arr):\n",
        "  return arr[:max_sentence_len]\n",
        "\n",
        "sentences = w2v_united_df['articles_concat'].apply(list_cutter)\n",
        "w2v_emb_size = 128\n",
        "w2v = Word2Vec(sentences, size=w2v_emb_size, min_count=3, \n",
        "                                    window=5, iter=1000)\n",
        "# pretrained_weights = w2v.wv.syn0\n",
        "pretrained_weights = w2v.wv.vectors\n",
        "vocab_size, emdedding_size = pretrained_weights.shape\n",
        "def word2idx(word):\n",
        "  if word in w2v.wv:\n",
        "    return w2v.wv.vocab[word].index  # индекс 0 у слова stock \n",
        "  else:\n",
        "    return 0\n",
        "def idx2word(idx):\n",
        "  return w2v.wv.index2word[idx]"
      ],
      "execution_count": null,
      "outputs": []
    },
    {
      "cell_type": "code",
      "metadata": {
        "colab": {
          "base_uri": "https://localhost:8080/"
        },
        "id": "wpM315qsWCzB",
        "outputId": "60d5ef90-2fcc-497f-eee9-90f6e9cb6d8e"
      },
      "source": [
        "# prepare data \n",
        "train_x = np.zeros([len(sentences), max_sentence_len], dtype=np.int32) \n",
        "train_y = np.zeros([len(sentences)], dtype=np.int32) \n",
        "for i, sentence in enumerate(sentences):\n",
        "  for t, word in enumerate(sentence[:-1]):\n",
        "    train_x[i, t] = word2idx(word)\n",
        "  train_y[i] = word2idx(sentence[-1])\n",
        "\n",
        "# model LSTM \n",
        "model = Sequential()\n",
        "model.add(Embedding(input_dim=vocab_size, output_dim=w2v_emb_size, \n",
        "                    weights=[pretrained_weights]))\n",
        "model.add(LSTM(units=w2v_emb_size))\n",
        "# model.add(Conv1D(filters=1, kernel_size=3, activation='softmax'))\n",
        "# model.add(Dense(units=100, activation='tanh'))\n",
        "model.add(Dense(units=1, activation='softmax'))\n",
        "# model.add(Activation('softmax'))\n",
        "# model.compile(optimizer='adam', loss='sparse_categorical_crossentropy')\n",
        "model.compile(loss='categorical_crossentropy', optimizer='adam', metrics=['accuracy'])\n",
        "\n",
        "epochs = 5\n",
        "batch_size = 32 # 64\n",
        "\n",
        "history = model.fit(train_x, train_y, \n",
        "                    # validation_data=(X_val, y_val), \n",
        "                    epochs=epochs, batch_size=batch_size, \n",
        "                    validation_split=0.3, \n",
        "                    # callbacks=[EarlyStopping(monitor='val_loss', patience=3, min_delta=0.0001)]\n",
        "                    )\n",
        "\n",
        "clear_session() "
      ],
      "execution_count": null,
      "outputs": [
        {
          "output_type": "stream",
          "text": [
            "Epoch 1/5\n",
            "59/59 [==============================] - 4s 39ms/step - loss: 0.0000e+00 - accuracy: 0.0192 - val_loss: 0.0000e+00 - val_accuracy: 0.0163\n",
            "Epoch 2/5\n",
            "59/59 [==============================] - 2s 28ms/step - loss: 0.0000e+00 - accuracy: 0.0307 - val_loss: 0.0000e+00 - val_accuracy: 0.0163\n",
            "Epoch 3/5\n",
            "59/59 [==============================] - 2s 28ms/step - loss: 0.0000e+00 - accuracy: 0.0234 - val_loss: 0.0000e+00 - val_accuracy: 0.0163\n",
            "Epoch 4/5\n",
            "59/59 [==============================] - 2s 28ms/step - loss: 0.0000e+00 - accuracy: 0.0265 - val_loss: 0.0000e+00 - val_accuracy: 0.0163\n",
            "Epoch 5/5\n",
            "59/59 [==============================] - 2s 28ms/step - loss: 0.0000e+00 - accuracy: 0.0182 - val_loss: 0.0000e+00 - val_accuracy: 0.0163\n"
          ],
          "name": "stdout"
        }
      ]
    },
    {
      "cell_type": "code",
      "metadata": {
        "id": "JgIrfRtoWCjH"
      },
      "source": [
        ""
      ],
      "execution_count": null,
      "outputs": []
    },
    {
      "cell_type": "code",
      "metadata": {
        "colab": {
          "base_uri": "https://localhost:8080/"
        },
        "id": "ELKghwGAyY5w",
        "outputId": "7d8f4964-3096-4372-cf4b-a1d11094c354"
      },
      "source": [
        "pretrained_weights[0] \n",
        "w2v.wv.vectors.shape"
      ],
      "execution_count": null,
      "outputs": [
        {
          "output_type": "execute_result",
          "data": {
            "text/plain": [
              "(2094, 128)"
            ]
          },
          "metadata": {
            "tags": []
          },
          "execution_count": 82
        }
      ]
    },
    {
      "cell_type": "markdown",
      "metadata": {
        "id": "1QK4KihVQIP2"
      },
      "source": [
        "word2vec + NN "
      ]
    },
    {
      "cell_type": "code",
      "metadata": {
        "colab": {
          "base_uri": "https://localhost:8080/"
        },
        "id": "VSSIBnbqyYpT",
        "outputId": "593f4e99-8736-43c2-a44a-88370a409c50"
      },
      "source": [
        "# word2vec + NN \n",
        "import numpy as np \n",
        "import tensorflow as tf\n",
        "tf.random.set_seed(13)\n",
        "np.random.seed(13)\n",
        "\n",
        "from keras.models import Sequential\n",
        "from keras import layers\n",
        "from keras.backend import clear_session \n",
        "\n",
        "# построение модели \n",
        "model = Sequential()\n",
        "model.add(layers.Dense(100, input_dim=X_train.shape[1], activation='relu'))\n",
        "# model.add(layers.Dense(100, input_dim=300, activation='relu'))\n",
        "# model.add(layers.Dense(10, input_dim=100, activation='relu'))\n",
        "model.add(layers.Dense(1, activation='sigmoid'))\n",
        "\n",
        "# настройка и обучение \n",
        "\n",
        "model.compile(loss='binary_crossentropy', \n",
        "               optimizer='adam', \n",
        "               metrics=['accuracy'])\n",
        "print(model.summary()) \n",
        "\n",
        "model.fit(X_train, y_train,\n",
        "          epochs=100,\n",
        "          verbose=False,\n",
        "          validation_data=(X_val, y_val), \n",
        "          batch_size=8)\n",
        "\n",
        "# почистить веса для перезапуска \n",
        "clear_session() \n",
        "\n",
        "\n",
        "# точность \n",
        "train_loss, train_accuracy = model.evaluate(X_train, y_train, verbose=False)\n",
        "print(\"Training Accuracy: {:.4f}\".format(train_accuracy))\n",
        "val_loss, val_accuracy = model.evaluate(X_val, y_val, verbose=False)\n",
        "print(\"Validation Accuracy:  {:.4f}\".format(val_accuracy)) "
      ],
      "execution_count": null,
      "outputs": [
        {
          "output_type": "stream",
          "text": [
            "Model: \"sequential\"\n",
            "_________________________________________________________________\n",
            "Layer (type)                 Output Shape              Param #   \n",
            "=================================================================\n",
            "dense (Dense)                (None, 100)               12900     \n",
            "_________________________________________________________________\n",
            "dense_1 (Dense)              (None, 1)                 101       \n",
            "=================================================================\n",
            "Total params: 13,001\n",
            "Trainable params: 13,001\n",
            "Non-trainable params: 0\n",
            "_________________________________________________________________\n",
            "None\n",
            "Training Accuracy: 0.5424\n",
            "Validation Accuracy:  0.5376\n"
          ],
          "name": "stdout"
        }
      ]
    },
    {
      "cell_type": "code",
      "metadata": {
        "id": "AuDFnTN4vd1M"
      },
      "source": [
        ""
      ],
      "execution_count": null,
      "outputs": []
    },
    {
      "cell_type": "markdown",
      "metadata": {
        "id": "H_al5q-hMf-0"
      },
      "source": [
        "Transformer word2vec"
      ]
    },
    {
      "cell_type": "code",
      "metadata": {
        "id": "sEjVcskCvdrd"
      },
      "source": [
        "# ! pip install smaberta\n",
        "from smaberta import TransformerModel\n",
        "\n",
        "model = TransformerModel('roberta', 'roberta-base', num_labels=2, reprocess_input_data=True, \n",
        "                         num_train_epochs=3, learning_rate=0.001, # , output_dir='./saved_model/'\n",
        "                         overwrite_output_dir=True, fp16=False)"
      ],
      "execution_count": null,
      "outputs": []
    },
    {
      "cell_type": "code",
      "metadata": {
        "colab": {
          "base_uri": "https://localhost:8080/",
          "height": 514
        },
        "id": "hHAbRl3lNBN4",
        "outputId": "80bd950e-f228-41fe-ffe7-49e52b44dce9"
      },
      "source": [
        "np.random.seed(13)\n",
        "\n",
        "def list_joiner(arr):\n",
        "  return ' '.join(arr)\n",
        "\n",
        "X_bert_w2v = w2v_united_df['articles_concat'].apply(list_joiner)\n",
        "y_bert_w2v = w2v_united_df['target']\n",
        "X_train_bert_w2v, X_val_bert_w2v, y_train_bert_w2v, y_val_bert_w2v = train_test_split(X_bert_w2v, y_bert_w2v, test_size=0.3)\n",
        "\n",
        "\n",
        "\n",
        "model.train(X_train_bert_w2v, y_train_bert_w2v)\n",
        "\n",
        "bert_preds, bert_model_outputs = model.predict(X_val_bert_w2v) # bert_df.drop(columns='target'))\n",
        "accuracy_score(bert_preds, y_val_bert_w2v) # bert_df['target'])"
      ],
      "execution_count": null,
      "outputs": [
        {
          "output_type": "stream",
          "text": [
            "Starting Epoch:  0\n"
          ],
          "name": "stdout"
        },
        {
          "output_type": "stream",
          "text": [
            "/usr/local/lib/python3.7/dist-packages/transformers/optimization.py:155: UserWarning: This overload of add_ is deprecated:\n",
            "\tadd_(Number alpha, Tensor other)\n",
            "Consider using one of the following signatures instead:\n",
            "\tadd_(Tensor other, *, Number alpha) (Triggered internally at  /pytorch/torch/csrc/utils/python_arg_parser.cpp:1025.)\n",
            "  exp_avg.mul_(beta1).add_(1.0 - beta1, grad)\n"
          ],
          "name": "stderr"
        },
        {
          "output_type": "error",
          "ename": "KeyboardInterrupt",
          "evalue": "ignored",
          "traceback": [
            "\u001b[0;31m---------------------------------------------------------------------------\u001b[0m",
            "\u001b[0;31mKeyboardInterrupt\u001b[0m                         Traceback (most recent call last)",
            "\u001b[0;32m<ipython-input-71-7dfd19df76b6>\u001b[0m in \u001b[0;36m<module>\u001b[0;34m()\u001b[0m\n\u001b[1;32m     10\u001b[0m \u001b[0;34m\u001b[0m\u001b[0m\n\u001b[1;32m     11\u001b[0m \u001b[0;34m\u001b[0m\u001b[0m\n\u001b[0;32m---> 12\u001b[0;31m \u001b[0mmodel\u001b[0m\u001b[0;34m.\u001b[0m\u001b[0mtrain\u001b[0m\u001b[0;34m(\u001b[0m\u001b[0mX_train_bert_w2v\u001b[0m\u001b[0;34m,\u001b[0m \u001b[0my_train_bert_w2v\u001b[0m\u001b[0;34m)\u001b[0m\u001b[0;34m\u001b[0m\u001b[0;34m\u001b[0m\u001b[0m\n\u001b[0m\u001b[1;32m     13\u001b[0m \u001b[0;34m\u001b[0m\u001b[0m\n\u001b[1;32m     14\u001b[0m \u001b[0mbert_preds\u001b[0m\u001b[0;34m,\u001b[0m \u001b[0mbert_model_outputs\u001b[0m \u001b[0;34m=\u001b[0m \u001b[0mmodel\u001b[0m\u001b[0;34m.\u001b[0m\u001b[0mpredict\u001b[0m\u001b[0;34m(\u001b[0m\u001b[0mX_val_bert_w2v\u001b[0m\u001b[0;34m)\u001b[0m \u001b[0;31m# bert_df.drop(columns='target'))\u001b[0m\u001b[0;34m\u001b[0m\u001b[0;34m\u001b[0m\u001b[0m\n",
            "\u001b[0;32m/usr/local/lib/python3.7/dist-packages/smaberta/smaberta.py\u001b[0m in \u001b[0;36mtrain\u001b[0;34m(self, training_samples, training_labels, output_dir, show_running_loss, **kwargs)\u001b[0m\n\u001b[1;32m    222\u001b[0m \u001b[0;34m\u001b[0m\u001b[0m\n\u001b[1;32m    223\u001b[0m         \u001b[0mtrain_dataset\u001b[0m \u001b[0;34m=\u001b[0m \u001b[0mself\u001b[0m\u001b[0;34m.\u001b[0m\u001b[0m_load_and_cache_examples\u001b[0m\u001b[0;34m(\u001b[0m\u001b[0mtrain_examples\u001b[0m\u001b[0;34m)\u001b[0m\u001b[0;34m\u001b[0m\u001b[0;34m\u001b[0m\u001b[0m\n\u001b[0;32m--> 224\u001b[0;31m         \u001b[0mglobal_step\u001b[0m\u001b[0;34m,\u001b[0m \u001b[0mtr_loss\u001b[0m \u001b[0;34m=\u001b[0m \u001b[0mself\u001b[0m\u001b[0;34m.\u001b[0m\u001b[0m_train\u001b[0m\u001b[0;34m(\u001b[0m\u001b[0mtrain_dataset\u001b[0m\u001b[0;34m,\u001b[0m \u001b[0moutput_dir\u001b[0m\u001b[0;34m,\u001b[0m \u001b[0mshow_running_loss\u001b[0m\u001b[0;34m=\u001b[0m\u001b[0mshow_running_loss\u001b[0m\u001b[0;34m)\u001b[0m\u001b[0;34m\u001b[0m\u001b[0;34m\u001b[0m\u001b[0m\n\u001b[0m\u001b[1;32m    225\u001b[0m \u001b[0;34m\u001b[0m\u001b[0m\n\u001b[1;32m    226\u001b[0m         \u001b[0;32mif\u001b[0m \u001b[0;32mnot\u001b[0m \u001b[0mos\u001b[0m\u001b[0;34m.\u001b[0m\u001b[0mpath\u001b[0m\u001b[0;34m.\u001b[0m\u001b[0mexists\u001b[0m\u001b[0;34m(\u001b[0m\u001b[0moutput_dir\u001b[0m\u001b[0;34m)\u001b[0m\u001b[0;34m:\u001b[0m\u001b[0;34m\u001b[0m\u001b[0;34m\u001b[0m\u001b[0m\n",
            "\u001b[0;32m/usr/local/lib/python3.7/dist-packages/smaberta/smaberta.py\u001b[0m in \u001b[0;36m_train\u001b[0;34m(self, train_dataset, output_dir, show_running_loss)\u001b[0m\n\u001b[1;32m    461\u001b[0m \u001b[0;34m\u001b[0m\u001b[0m\n\u001b[1;32m    462\u001b[0m                 \u001b[0;32melse\u001b[0m\u001b[0;34m:\u001b[0m\u001b[0;34m\u001b[0m\u001b[0;34m\u001b[0m\u001b[0m\n\u001b[0;32m--> 463\u001b[0;31m                     \u001b[0mloss\u001b[0m\u001b[0;34m.\u001b[0m\u001b[0mbackward\u001b[0m\u001b[0;34m(\u001b[0m\u001b[0;34m)\u001b[0m\u001b[0;34m\u001b[0m\u001b[0;34m\u001b[0m\u001b[0m\n\u001b[0m\u001b[1;32m    464\u001b[0m                     \u001b[0mtorch\u001b[0m\u001b[0;34m.\u001b[0m\u001b[0mnn\u001b[0m\u001b[0;34m.\u001b[0m\u001b[0mutils\u001b[0m\u001b[0;34m.\u001b[0m\u001b[0mclip_grad_norm_\u001b[0m\u001b[0;34m(\u001b[0m\u001b[0mmodel\u001b[0m\u001b[0;34m.\u001b[0m\u001b[0mparameters\u001b[0m\u001b[0;34m(\u001b[0m\u001b[0;34m)\u001b[0m\u001b[0;34m,\u001b[0m \u001b[0margs\u001b[0m\u001b[0;34m[\u001b[0m\u001b[0;34m'max_grad_norm'\u001b[0m\u001b[0;34m]\u001b[0m\u001b[0;34m)\u001b[0m\u001b[0;34m\u001b[0m\u001b[0;34m\u001b[0m\u001b[0m\n\u001b[1;32m    465\u001b[0m \u001b[0;34m\u001b[0m\u001b[0m\n",
            "\u001b[0;32m/usr/local/lib/python3.7/dist-packages/torch/_tensor.py\u001b[0m in \u001b[0;36mbackward\u001b[0;34m(self, gradient, retain_graph, create_graph, inputs)\u001b[0m\n\u001b[1;32m    253\u001b[0m                 \u001b[0mcreate_graph\u001b[0m\u001b[0;34m=\u001b[0m\u001b[0mcreate_graph\u001b[0m\u001b[0;34m,\u001b[0m\u001b[0;34m\u001b[0m\u001b[0;34m\u001b[0m\u001b[0m\n\u001b[1;32m    254\u001b[0m                 inputs=inputs)\n\u001b[0;32m--> 255\u001b[0;31m         \u001b[0mtorch\u001b[0m\u001b[0;34m.\u001b[0m\u001b[0mautograd\u001b[0m\u001b[0;34m.\u001b[0m\u001b[0mbackward\u001b[0m\u001b[0;34m(\u001b[0m\u001b[0mself\u001b[0m\u001b[0;34m,\u001b[0m \u001b[0mgradient\u001b[0m\u001b[0;34m,\u001b[0m \u001b[0mretain_graph\u001b[0m\u001b[0;34m,\u001b[0m \u001b[0mcreate_graph\u001b[0m\u001b[0;34m,\u001b[0m \u001b[0minputs\u001b[0m\u001b[0;34m=\u001b[0m\u001b[0minputs\u001b[0m\u001b[0;34m)\u001b[0m\u001b[0;34m\u001b[0m\u001b[0;34m\u001b[0m\u001b[0m\n\u001b[0m\u001b[1;32m    256\u001b[0m \u001b[0;34m\u001b[0m\u001b[0m\n\u001b[1;32m    257\u001b[0m     \u001b[0;32mdef\u001b[0m \u001b[0mregister_hook\u001b[0m\u001b[0;34m(\u001b[0m\u001b[0mself\u001b[0m\u001b[0;34m,\u001b[0m \u001b[0mhook\u001b[0m\u001b[0;34m)\u001b[0m\u001b[0;34m:\u001b[0m\u001b[0;34m\u001b[0m\u001b[0;34m\u001b[0m\u001b[0m\n",
            "\u001b[0;32m/usr/local/lib/python3.7/dist-packages/torch/autograd/__init__.py\u001b[0m in \u001b[0;36mbackward\u001b[0;34m(tensors, grad_tensors, retain_graph, create_graph, grad_variables, inputs)\u001b[0m\n\u001b[1;32m    147\u001b[0m     Variable._execution_engine.run_backward(\n\u001b[1;32m    148\u001b[0m         \u001b[0mtensors\u001b[0m\u001b[0;34m,\u001b[0m \u001b[0mgrad_tensors_\u001b[0m\u001b[0;34m,\u001b[0m \u001b[0mretain_graph\u001b[0m\u001b[0;34m,\u001b[0m \u001b[0mcreate_graph\u001b[0m\u001b[0;34m,\u001b[0m \u001b[0minputs\u001b[0m\u001b[0;34m,\u001b[0m\u001b[0;34m\u001b[0m\u001b[0;34m\u001b[0m\u001b[0m\n\u001b[0;32m--> 149\u001b[0;31m         allow_unreachable=True, accumulate_grad=True)  # allow_unreachable flag\n\u001b[0m\u001b[1;32m    150\u001b[0m \u001b[0;34m\u001b[0m\u001b[0m\n\u001b[1;32m    151\u001b[0m \u001b[0;34m\u001b[0m\u001b[0m\n",
            "\u001b[0;31mKeyboardInterrupt\u001b[0m: "
          ]
        }
      ]
    },
    {
      "cell_type": "code",
      "metadata": {
        "id": "sfqijDaQNA_a"
      },
      "source": [
        ""
      ],
      "execution_count": null,
      "outputs": []
    },
    {
      "cell_type": "code",
      "metadata": {
        "id": "ymiPaKIXNAxX"
      },
      "source": [
        ""
      ],
      "execution_count": null,
      "outputs": []
    },
    {
      "cell_type": "code",
      "metadata": {
        "id": "sFk7TGy4NAo9"
      },
      "source": [
        ""
      ],
      "execution_count": null,
      "outputs": []
    },
    {
      "cell_type": "code",
      "metadata": {
        "id": "IkQej8NlNAbD"
      },
      "source": [
        ""
      ],
      "execution_count": null,
      "outputs": []
    },
    {
      "cell_type": "code",
      "metadata": {
        "id": "lnEq29zBMVXq"
      },
      "source": [
        ""
      ],
      "execution_count": null,
      "outputs": []
    }
  ]
}